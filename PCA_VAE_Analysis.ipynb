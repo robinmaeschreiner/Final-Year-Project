{
  "cells": [
    {
      "cell_type": "markdown",
      "metadata": {
        "id": "CVHeCupogti9"
      },
      "source": [
        "## Setup and Prerequisites "
      ]
    },
    {
      "cell_type": "code",
      "source": [
        "!pip install wandb"
      ],
      "metadata": {
        "colab": {
          "base_uri": "https://localhost:8080/"
        },
        "id": "dmJxdrD-_fMg",
        "outputId": "bb5684ab-d31d-479c-8715-c93b1cfc161c"
      },
      "execution_count": null,
      "outputs": [
        {
          "output_type": "stream",
          "name": "stdout",
          "text": [
            "Looking in indexes: https://pypi.org/simple, https://us-python.pkg.dev/colab-wheels/public/simple/\n",
            "Requirement already satisfied: wandb in /usr/local/lib/python3.9/dist-packages (0.14.0)\n",
            "Requirement already satisfied: Click!=8.0.0,>=7.0 in /usr/local/lib/python3.9/dist-packages (from wandb) (8.1.3)\n",
            "Requirement already satisfied: PyYAML in /usr/local/lib/python3.9/dist-packages (from wandb) (6.0)\n",
            "Requirement already satisfied: typing-extensions in /usr/local/lib/python3.9/dist-packages (from wandb) (4.5.0)\n",
            "Requirement already satisfied: pathtools in /usr/local/lib/python3.9/dist-packages (from wandb) (0.1.2)\n",
            "Requirement already satisfied: psutil>=5.0.0 in /usr/local/lib/python3.9/dist-packages (from wandb) (5.9.4)\n",
            "Requirement already satisfied: setproctitle in /usr/local/lib/python3.9/dist-packages (from wandb) (1.3.2)\n",
            "Requirement already satisfied: setuptools in /usr/local/lib/python3.9/dist-packages (from wandb) (67.6.1)\n",
            "Requirement already satisfied: requests<3,>=2.0.0 in /usr/local/lib/python3.9/dist-packages (from wandb) (2.27.1)\n",
            "Requirement already satisfied: sentry-sdk>=1.0.0 in /usr/local/lib/python3.9/dist-packages (from wandb) (1.19.0)\n",
            "Requirement already satisfied: appdirs>=1.4.3 in /usr/local/lib/python3.9/dist-packages (from wandb) (1.4.4)\n",
            "Requirement already satisfied: docker-pycreds>=0.4.0 in /usr/local/lib/python3.9/dist-packages (from wandb) (0.4.0)\n",
            "Requirement already satisfied: protobuf!=4.21.0,<5,>=3.15.0 in /usr/local/lib/python3.9/dist-packages (from wandb) (3.20.3)\n",
            "Requirement already satisfied: GitPython!=3.1.29,>=1.0.0 in /usr/local/lib/python3.9/dist-packages (from wandb) (3.1.31)\n",
            "Requirement already satisfied: six>=1.4.0 in /usr/local/lib/python3.9/dist-packages (from docker-pycreds>=0.4.0->wandb) (1.16.0)\n",
            "Requirement already satisfied: gitdb<5,>=4.0.1 in /usr/local/lib/python3.9/dist-packages (from GitPython!=3.1.29,>=1.0.0->wandb) (4.0.10)\n",
            "Requirement already satisfied: certifi>=2017.4.17 in /usr/local/lib/python3.9/dist-packages (from requests<3,>=2.0.0->wandb) (2022.12.7)\n",
            "Requirement already satisfied: urllib3<1.27,>=1.21.1 in /usr/local/lib/python3.9/dist-packages (from requests<3,>=2.0.0->wandb) (1.26.15)\n",
            "Requirement already satisfied: idna<4,>=2.5 in /usr/local/lib/python3.9/dist-packages (from requests<3,>=2.0.0->wandb) (3.4)\n",
            "Requirement already satisfied: charset-normalizer~=2.0.0 in /usr/local/lib/python3.9/dist-packages (from requests<3,>=2.0.0->wandb) (2.0.12)\n",
            "Requirement already satisfied: smmap<6,>=3.0.1 in /usr/local/lib/python3.9/dist-packages (from gitdb<5,>=4.0.1->GitPython!=3.1.29,>=1.0.0->wandb) (5.0.0)\n"
          ]
        }
      ]
    },
    {
      "cell_type": "code",
      "source": [
        "import wandb #working with and logging into the weights and biases tools from 'wandb.ai'\n",
        "wandb.login()"
      ],
      "metadata": {
        "colab": {
          "base_uri": "https://localhost:8080/"
        },
        "id": "OGNc9rzT_-X2",
        "outputId": "e664dae4-6bbe-42c3-fc65-7db4a2649c59"
      },
      "execution_count": null,
      "outputs": [
        {
          "output_type": "stream",
          "name": "stderr",
          "text": [
            "\u001b[34m\u001b[1mwandb\u001b[0m: Currently logged in as: \u001b[33mmae28\u001b[0m. Use \u001b[1m`wandb login --relogin`\u001b[0m to force relogin\n"
          ]
        },
        {
          "output_type": "execute_result",
          "data": {
            "text/plain": [
              "True"
            ]
          },
          "metadata": {},
          "execution_count": 2
        }
      ]
    },
    {
      "cell_type": "code",
      "execution_count": null,
      "metadata": {
        "id": "aY7-iqalgGm0"
      },
      "outputs": [],
      "source": [
        "#Import Statements \n",
        "import torch\n",
        "import torch.nn as nn\n",
        "import torch.nn.functional as F\n",
        "from torch import nn, optim\n",
        "from torch.autograd import Variable\n",
        "\n",
        "import pandas as pd\n",
        "import numpy as np\n",
        "from sklearn.model_selection import train_test_split\n",
        "from sklearn.preprocessing import StandardScaler\n",
        "from sklearn.preprocessing import OrdinalEncoder\n",
        "from numpy import asarray\n",
        "from torch.utils.data import Dataset, DataLoader\n",
        "from torchvision import models\n",
        "from torchsummary import summary\n",
        "from torch.nn.modules.activation import LeakyReLU\n",
        "from torch.nn.modules.activation import Sigmoid\n",
        "from torch.nn.modules.activation import ReLU"
      ]
    },
    {
      "cell_type": "code",
      "execution_count": null,
      "metadata": {
        "colab": {
          "base_uri": "https://localhost:8080/"
        },
        "id": "yzb7tCU0gJTd",
        "outputId": "e050bee5-0379-46d5-ff5e-0794b0f1778f"
      },
      "outputs": [
        {
          "output_type": "stream",
          "name": "stdout",
          "text": [
            "cuda\n"
          ]
        }
      ],
      "source": [
        "#Connecting to GPU if available\n",
        "device = torch.device('cuda' if torch.cuda.is_available() else 'cpu')\n",
        "print(device)\n"
      ]
    },
    {
      "cell_type": "code",
      "execution_count": null,
      "metadata": {
        "colab": {
          "base_uri": "https://localhost:8080/"
        },
        "id": "o6D3f2hYgLyt",
        "outputId": "82ab57ce-f222-4b61-b215-b66f6b280590"
      },
      "outputs": [
        {
          "output_type": "stream",
          "name": "stdout",
          "text": [
            "Drive already mounted at /content/drive; to attempt to forcibly remount, call drive.mount(\"/content/drive\", force_remount=True).\n"
          ]
        }
      ],
      "source": [
        "#Connecting to Google Drive to access data files\n",
        "from google.colab import drive\n",
        "drive.mount('/content/drive')\n",
        "\n",
        "#Navigating to \n",
        "import os\n",
        "os.chdir('/content/drive/MyDrive/ColabNotebooks/Final-Year-Project')\n",
        "!ls"
      ]
    },
    {
      "cell_type": "markdown",
      "metadata": {
        "id": "JW0SO35xhgR9"
      },
      "source": [
        "# Functions and Theory:\n",
        "## Data Preprocessing"
      ]
    },
    {
      "cell_type": "code",
      "execution_count": null,
      "metadata": {
        "id": "ElmR8oIMhqPd"
      },
      "outputs": [],
      "source": [
        "def load_and_standardize_data(df):\n",
        "\n",
        "    # replace nan with mean \n",
        "    df = df.reshape(-1, df.shape[1]).astype('float32')\n",
        "\n",
        "    # randomly split\n",
        "    X_train, X_test = train_test_split(df, test_size=0.3, random_state=42, shuffle=True)\n",
        "\n",
        "    # standardize values\n",
        "    scaler = StandardScaler()\n",
        "    X_train = scaler.fit_transform(X_train)\n",
        "    X_test = scaler.transform(X_test)   \n",
        "    return X_train, X_test, scaler"
      ]
    },
    {
      "cell_type": "code",
      "source": [
        "# a function to use ordinal encoding for the columsn in the data that have continous categorical data following a natural order, this order can be specified if known but needs [] around it as originally the OrdinalEncoder function expects a list of columns \n",
        "def ordinal_encod(df_row, ordered_catg='auto'): \n",
        "\n",
        "  data_row = asarray(df_row)\n",
        "  data_row = data_row.reshape(-1, 1)\n",
        "\n",
        "  # define and transform data with ordinal encoding\n",
        "  encoder_ordinal = OrdinalEncoder(categories=ordered_catg) # \n",
        "  encoder_ordinal.fit(data_row)\n",
        "\n",
        "  ord_enc_row = encoder_ordinal.transform(data_row)\n",
        "\n",
        "  return ord_enc_row"
      ],
      "metadata": {
        "id": "uvV5iium7hmR"
      },
      "execution_count": null,
      "outputs": []
    },
    {
      "cell_type": "code",
      "execution_count": null,
      "metadata": {
        "id": "BNPaRCbDmTOn"
      },
      "outputs": [],
      "source": [
        "# function to build rtain and test datasets for a given batch size using the DataBuilder Class below\n",
        "def test_train_datasets(df, batch_size): \n",
        "\n",
        "  traindata_set = DataBuilder(df, train=True) \n",
        "  testdata_set = DataBuilder(df, train=False)\n",
        "\n",
        "  trainloader = DataLoader(dataset=traindata_set,batch_size= batch_size, drop_last=True) # drop the last element if the batch only consists of one element\n",
        "  testloader= DataLoader(dataset=testdata_set,batch_size= batch_size, drop_last=True) \n",
        "\n",
        "  print('Data Shape:', trainloader.dataset.x.shape, testloader.dataset.x.shape)\n",
        "  return trainloader, testloader"
      ]
    },
    {
      "cell_type": "code",
      "execution_count": null,
      "metadata": {
        "id": "y2jfg_X3h1_u"
      },
      "outputs": [],
      "source": [
        "# Class to standardize, pre-process and build the train and test datasets for the VAE training\n",
        "class DataBuilder(Dataset):\n",
        "    def __init__(self, df, train=True):\n",
        "        self.X_train, self.X_test, self.standardizer  = load_and_standardize_data(df)\n",
        "        if train:\n",
        "            self.x = torch.from_numpy(self.X_train)\n",
        "            self.len=self.x.shape[0]\n",
        "        else:\n",
        "            self.x = torch.from_numpy(self.X_test)\n",
        "            self.len=self.x.shape[0]\n",
        "        del self.X_train\n",
        "        del self.X_test \n",
        "    def __getitem__(self,index):      \n",
        "        return self.x[index]\n",
        "    def __len__(self):\n",
        "        return self.len"
      ]
    },
    {
      "cell_type": "markdown",
      "metadata": {
        "id": "5HdAv5RIiJsc"
      },
      "source": [
        "## VAE Model "
      ]
    },
    {
      "cell_type": "code",
      "execution_count": null,
      "metadata": {
        "id": "z2z0OLWWiI09"
      },
      "outputs": [],
      "source": [
        "class Autoencoder(nn.Module):\n",
        "    def __init__(self,D_in,H,H2,latent_dim, activation=ReLU(), inbetween_layer=nn.BatchNorm1d):\n",
        "        \n",
        "        #Encoder\n",
        "        super(Autoencoder,self).__init__()\n",
        "        self.linear1=nn.Linear(D_in,H)\n",
        "        self.lin_additional1 = inbetween_layer(num_features=H)\n",
        "        self.linear2=nn.Linear(H,H2) # adda relu layer for non-linearity\n",
        "        self.lin_additional2 = inbetween_layer(num_features=H2)\n",
        "        \n",
        "        # Latent vectors mu and sigma\n",
        "        self.fc1 = nn.Linear(H2, H2)\n",
        "        self.fc_additional1 =inbetween_layer(num_features=H2)\n",
        "        self.fc21 = nn.Linear(H2, latent_dim) #the output layer for the mean vector of the size of the latent dimension\n",
        "        self.fc22 = nn.Linear(H2, latent_dim) #the output layer for the mean vector of the size of the latent dimension\n",
        "\n",
        "        # Sampling vector\n",
        "        self.fc3 = nn.Linear(latent_dim, latent_dim)\n",
        "        self.fc_additional3 = inbetween_layer(latent_dim)\n",
        "        self.fc4 = nn.Linear(latent_dim, H2)\n",
        "        self.fc_additional4 = inbetween_layer(H2)\n",
        "        \n",
        "        # Decoder\n",
        "        self.linear4=nn.Linear(H2,H)\n",
        "        self.lin_additional4 = inbetween_layer(num_features=H)\n",
        "\n",
        "        self.linear5=nn.Linear(H,D_in)\n",
        "        self.linear51=nn.Linear(H,D_in, bias=True) # the output vector of this layer will be the size of the input features to get the predicted mean\n",
        "        # model.linear51[0].bias.data = my_biases -> customizing the biases for this layer in order to penalize large variances \n",
        "\n",
        "        \n",
        "        # Activation Function\n",
        "        self.activation = activation  #change this to self.activation and add an additional parameter to the AutoEncoder class which represents the type of activation function that should be tested out\n",
        "        \n",
        "\n",
        "    def encode(self, x):\n",
        "        lin1 = self.activation(self.lin_additional1(self.linear1(x)))\n",
        "        lin2 = self.activation(self.lin_additional2(self.linear2(lin1)))\n",
        "\n",
        "        fc1 = self.activation(self.fc_additional1(self.fc1(lin2)))\n",
        "\n",
        "        z_mu = self.fc21(self.activation(fc1))\n",
        "        z_logvar = self.fc22(self.activation(fc1)) \n",
        "        \n",
        "        return z_mu, z_logvar\n",
        "    \n",
        "    def reparameterize(self, z_mu, z_logvar):                          \n",
        "        std = z_logvar.mul(0.5).exp_()\n",
        "        eps = torch.distributions.Normal(z_mu, std).rsample()\n",
        "        return eps.mul(std).add_(z_mu) #returns the latent vector z sampled from the mean and variance \n",
        "\n",
        "        \n",
        "    def decode(self, z):\n",
        "        fc3 = self.activation(self.fc_additional3(self.fc3(z)))\n",
        "        fc4 = self.activation(self.fc_additional4(self.fc4(fc3)))\n",
        "\n",
        "        lin4 = self.activation(self.lin_additional4(self.linear4(fc4)))\n",
        "\n",
        "        #outputs\n",
        "        x_recon = self.linear5(self.activation(lin4)) #this variable is the mean of the reconstruction \n",
        "        x_recon_log_var = self.linear51(self.activation(lin4))\n",
        "\n",
        "        return x_recon, x_recon_log_var\n",
        "\n",
        "\n",
        "    def forward(self, x): \n",
        "        z_mu, z_logvar = self.encode(x)\n",
        "        z = self.reparameterize(z_mu, z_logvar)\n",
        "        x_recon, x_recon_logvar = self.decode(z)\n",
        "\n",
        "        return x_recon, z_mu, z_logvar, x_recon_logvar\n",
        "\n",
        "\n",
        "    def forward_mean_only(self, x): \n",
        "        z_mu, z_logvar = self.encode(x)\n",
        "        x_recon, x_recon_logvar = self.decode(z_mu)\n",
        "\n",
        "        return x_recon, z_mu, z_logvar, x_recon_logvar"
      ]
    },
    {
      "cell_type": "code",
      "source": [
        "model_architecture = Autoencoder(3, H=70, H2=12,latent_dim=1).to(device)\n",
        "print(model_architecture)"
      ],
      "metadata": {
        "colab": {
          "base_uri": "https://localhost:8080/"
        },
        "id": "9cxUok0VvaiD",
        "outputId": "d6247b18-dda1-42d8-d750-bf58404a03b4"
      },
      "execution_count": null,
      "outputs": [
        {
          "output_type": "stream",
          "name": "stdout",
          "text": [
            "Autoencoder(\n",
            "  (linear1): Linear(in_features=3, out_features=70, bias=True)\n",
            "  (lin_additional1): BatchNorm1d(70, eps=1e-05, momentum=0.1, affine=True, track_running_stats=True)\n",
            "  (linear2): Linear(in_features=70, out_features=12, bias=True)\n",
            "  (lin_additional2): BatchNorm1d(12, eps=1e-05, momentum=0.1, affine=True, track_running_stats=True)\n",
            "  (fc1): Linear(in_features=12, out_features=12, bias=True)\n",
            "  (fc_additional1): BatchNorm1d(12, eps=1e-05, momentum=0.1, affine=True, track_running_stats=True)\n",
            "  (fc21): Linear(in_features=12, out_features=1, bias=True)\n",
            "  (fc22): Linear(in_features=12, out_features=1, bias=True)\n",
            "  (fc3): Linear(in_features=1, out_features=1, bias=True)\n",
            "  (fc_additional3): BatchNorm1d(1, eps=1e-05, momentum=0.1, affine=True, track_running_stats=True)\n",
            "  (fc4): Linear(in_features=1, out_features=12, bias=True)\n",
            "  (fc_additional4): BatchNorm1d(12, eps=1e-05, momentum=0.1, affine=True, track_running_stats=True)\n",
            "  (linear4): Linear(in_features=12, out_features=70, bias=True)\n",
            "  (lin_additional4): BatchNorm1d(70, eps=1e-05, momentum=0.1, affine=True, track_running_stats=True)\n",
            "  (linear5): Linear(in_features=70, out_features=3, bias=True)\n",
            "  (linear51): Linear(in_features=70, out_features=3, bias=True)\n",
            "  (activation): ReLU()\n",
            ")\n"
          ]
        }
      ]
    },
    {
      "cell_type": "markdown",
      "metadata": {
        "id": "A0w7oB1aiimM"
      },
      "source": [
        "Custom Loss Classes using MSE and or Individual Variances:"
      ]
    },
    {
      "cell_type": "code",
      "source": [
        "class customLoss(nn.Module): \n",
        "    def __init__(self):\n",
        "        super(customLoss, self).__init__()\n",
        "        self.mse_loss = nn.MSELoss(reduction=\"sum\")\n",
        "    \n",
        "    def forward(self, x_recon, x, mu, logvar):\n",
        "        loss_MSE = self.mse_loss(x_recon, x)\n",
        "        loss_KLD = -0.5 * torch.sum(1 + logvar - mu.pow(2) - logvar.exp())\n",
        "\n",
        "        return loss_MSE + loss_KLD"
      ],
      "metadata": {
        "id": "7h2bRgmPhWR6"
      },
      "execution_count": null,
      "outputs": []
    },
    {
      "cell_type": "code",
      "source": [
        "from torch.nn.modules.loss import GaussianNLLLoss\n",
        "#Inferring an individual variance for each feature - represent how confident the model is in predicting a given feature\n",
        "\n",
        "class customLoss_individual(nn.Module): \n",
        "    def __init__(self):\n",
        "        super(customLoss_individual, self).__init__()\n",
        "        self.log_prob_Gaus_loss = nn.GaussianNLLLoss(reduction='none')\n",
        "    \n",
        "    \n",
        "    def forward(self, x_recon, x, z_mu, z_logvar, x_recon_logvar, KL_weight): \n",
        "        loss_log_prob_sum = torch.sum(self.log_prob_Gaus_loss(x_recon, x, torch.exp(x_recon_logvar)), axis=1) #take the sum over the observations -> sum up the 37 values to get a value for each sample in the batch of size 500\n",
        "        loss_log_prob = loss_log_prob_sum.mean(axis=0) #take the batch-wise mean \n",
        "\n",
        "        loss_KLD_sum =  -0.5 * torch.sum(1 + z_logvar - z_mu.pow(2) - z_logvar.exp(), axis=1)\n",
        "        loss_KLD = loss_KLD_sum.mean(axis=0) #after summing the KL terms for each of the latent space variables it takes the batch-wise mean\n",
        "\n",
        "        return loss_log_prob, (KL_weight * loss_KLD)"
      ],
      "metadata": {
        "id": "_L438XzdgkaQ"
      },
      "execution_count": null,
      "outputs": []
    },
    {
      "cell_type": "code",
      "source": [
        "class customLoss_Gaussian_NLLL(nn.Module): \n",
        "    def __init__(self):\n",
        "        super(customLoss_Gaussian_NLLL, self).__init__()\n",
        "        self.log_prob_Gaus_loss = nn.GaussianNLLLoss(reduction='none') \n",
        "    \n",
        "    def forward(self, x_recon, x, z_mu, z_logvar, x_recon_logvar): \n",
        "        loss_log_prob_sum = torch.sum(self.log_prob_Gaus_loss(x_recon, x, torch.exp(x_recon_logvar)), axis=-1) #take the sum over the observations -> sum up the 37 values to get a value for each sample in the batch of size 500\n",
        "        loss_log_prob = loss_log_prob_sum.mean(axis=0) #take the batch-wise mean - mean over the rows \n",
        "\n",
        "        return loss_log_prob  "
      ],
      "metadata": {
        "id": "Maw69RlzdskB"
      },
      "execution_count": null,
      "outputs": []
    },
    {
      "cell_type": "code",
      "source": [
        "class customLoss_KL_divergence(nn.Module): \n",
        "    def __init__(self):\n",
        "        super(customLoss_KL_divergence, self).__init__()\n",
        "    \n",
        "    def forward(self, x_recon, x, z_mu, z_logvar, x_recon_logvar): \n",
        "        loss_KLD_sum =  -0.5 * torch.sum(1 + z_logvar - z_mu.pow(2) - z_logvar.exp(), axis=1) #taking the sum over the latent dimensions\n",
        "        loss_KLD = loss_KLD_sum.mean(axis=0) #after summing the KL terms taking the batch-wise mean\n",
        "\n",
        "        return loss_KLD"
      ],
      "metadata": {
        "id": "Tca0w9xRdtoy"
      },
      "execution_count": null,
      "outputs": []
    },
    {
      "cell_type": "markdown",
      "metadata": {
        "id": "keQvDYgyqLeH"
      },
      "source": [
        "## Training VAE Model"
      ]
    },
    {
      "cell_type": "code",
      "source": [
        "def train(epoch, trainloader, model, optimizer, customized_loss, train_losses, return_loss=False, KL_weight=0.01):\n",
        "    model.train()\n",
        "    train_loss = 0\n",
        "    train_loss_Gaussian = 0\n",
        "    train_loss_KL = 0\n",
        "\n",
        "\n",
        "    for batch_idx, data in enumerate(trainloader): #tqdm(enumerate(trainloader), total=len(trainloader), leave=False):\n",
        "        data = data.to(device)\n",
        "        optimizer.zero_grad() # Sets the gradients of all optimized torch.Tensor s to zero\n",
        "        x_recon, z_mu, z_logvar, x_recon_logvar = model(data)\n",
        "        Gaussian_loss, KL_loss = customized_loss(x_recon, data, z_mu, z_logvar, x_recon_logvar, KL_weight)\n",
        "        loss = Gaussian_loss + KL_loss\n",
        "        loss.backward()\n",
        "        train_loss += loss.item()\n",
        "        optimizer.step()\n",
        "\n",
        "        #additional information about the invidiual losses - reconstruction loss and prior \n",
        "        train_loss_Gaussian += Gaussian_loss.item()\n",
        "        train_loss_KL += KL_loss.item()\n",
        "\n",
        "    if epoch % 50 == 0:        \n",
        "        print('====> Epoch: {}    Average training loss: {:.4f}   Gaussian training loss: {:.4f}    KL training divergence: {:.4f} '.format(\n",
        "            epoch, train_loss / len(trainloader.dataset), train_loss_Gaussian / len(trainloader.dataset), train_loss_KL / len(trainloader.dataset)))\n",
        "        \n",
        "    train_losses.append(train_loss / len(trainloader.dataset))\n",
        "\n",
        "    if return_loss==True :\n",
        "      return train_loss / len(trainloader.dataset)"
      ],
      "metadata": {
        "id": "qz9wSNPpdKUq"
      },
      "execution_count": null,
      "outputs": []
    },
    {
      "cell_type": "code",
      "source": [
        "def test(epoch, testloader, model, optimizer, customized_loss, test_losses, return_loss=False, KL_weight=0.01):\n",
        "\n",
        "    with torch.no_grad(): #The wrapper with torch.no_grad() temporarily sets all of the requires_grad flags to false\n",
        "        test_loss = 0\n",
        "        test_loss_Gaussian = 0\n",
        "        test_loss_KL = 0\n",
        "\n",
        "\n",
        "        for batch_idx, data in enumerate(testloader): # tqdm(enumerate(testloader), total=len(testloader), leave=False)\n",
        "            data = data.to(device)\n",
        "            optimizer.zero_grad()\n",
        "            x_recon, z_mu, z_logvar, x_recon_logvar  = model(data)\n",
        "            Gaussian_loss, KL_loss = customized_loss(x_recon, data, z_mu, z_logvar, x_recon_logvar, KL_weight)\n",
        "            loss = Gaussian_loss + KL_loss\n",
        "            test_loss += loss.item()\n",
        "\n",
        "            #additional information about the invidiual losses - reconstruction loss and prior \n",
        "            test_loss_Gaussian += Gaussian_loss.item()\n",
        "            test_loss_KL += KL_loss.item()\n",
        "\n",
        "            if epoch % 50 == 0:        \n",
        "                print('====> Epoch: {}    Average test loss: {:.4f}       Gaussian test loss: {:.4f}       KL test divergence: {:.4f}'.format(\n",
        "                    epoch, test_loss / len(testloader.dataset), test_loss_Gaussian / len(testloader.dataset), test_loss_KL / len(testloader.dataset) ))\n",
        "                \n",
        "            test_losses.append(test_loss / len(testloader.dataset))\n",
        "\n",
        "    if return_loss==True :\n",
        "      return test_loss / len(testloader.dataset)"
      ],
      "metadata": {
        "id": "BIAcONlkdWL5"
      },
      "execution_count": null,
      "outputs": []
    },
    {
      "cell_type": "markdown",
      "metadata": {
        "id": "OZfck-ImjAFd"
      },
      "source": [
        "# Practice and Experimentation:\n",
        "### Working with the generated hippocampal volumes of SNT, FS and Maper segmentation "
      ]
    },
    {
      "cell_type": "markdown",
      "metadata": {
        "id": "MvfiqijgkvSW"
      },
      "source": [
        "Displaying Raw Data:"
      ]
    },
    {
      "cell_type": "code",
      "execution_count": null,
      "metadata": {
        "id": "GTcccZofi-re",
        "colab": {
          "base_uri": "https://localhost:8080/",
          "height": 348
        },
        "outputId": "9f725f71-4dbc-45cd-96c8-2c4cb7392605"
      },
      "outputs": [
        {
          "output_type": "execute_result",
          "data": {
            "text/plain": [
              "           002_S_0685 003_S_0981 003_S_0907 005_S_0610 007_S_1222 035_S_0156  \\\n",
              "Unnamed: 0                                                                     \n",
              "FreeSurfer     7409.0     6710.0     6915.0     6028.0     7363.0     7868.0   \n",
              "SNT           4836.97    3789.01    4310.75    3863.27    3856.76    5108.98   \n",
              "MAPER         4987.52     3648.4    4295.76    4181.32    3922.11    4855.58   \n",
              "Diagnosis          CN         CN         CN         CN         CN         CN   \n",
              "Sex                 F          F          F          M          F          M   \n",
              "\n",
              "           035_S_0048 073_S_0089 002_S_0413 002_S_0295  ... 130_S_1290  \\\n",
              "Unnamed: 0                                              ...              \n",
              "FreeSurfer     7570.0     8094.0     7140.0     7346.0  ...     6107.0   \n",
              "SNT           4331.22    4637.77    4260.77    3999.29  ...    3122.86   \n",
              "MAPER         4021.32    4239.22    4657.79    4494.09  ...    3564.99   \n",
              "Diagnosis          CN         CN         CN         CN  ...         AD   \n",
              "Sex                 M          M          F          M  ...          F   \n",
              "\n",
              "           057_S_0474 027_S_1081 024_S_1171 020_S_0213 013_S_1205 005_S_0814  \\\n",
              "Unnamed: 0                                                                     \n",
              "FreeSurfer     5122.0     5466.0     7877.0     7750.0     5452.0     4808.0   \n",
              "SNT           3404.52    3230.55    4764.93    4733.96    2797.65    2558.37   \n",
              "MAPER         4814.96    4445.75     5311.1    4780.68    3317.88    3664.76   \n",
              "Diagnosis          AD         AD         AD         AD         AD         AD   \n",
              "Sex                 F          M          M          M          M          F   \n",
              "\n",
              "           002_S_0619 002_S_1018 002_S_0938  \n",
              "Unnamed: 0                                   \n",
              "FreeSurfer     5788.0     7396.0     4453.0  \n",
              "SNT           3334.69    3710.08    2578.72  \n",
              "MAPER          4889.7    4270.74    3708.45  \n",
              "Diagnosis          AD         AD         AD  \n",
              "Sex                 M          F          F  \n",
              "\n",
              "[5 rows x 30 columns]"
            ],
            "text/html": [
              "\n",
              "  <div id=\"df-9e4409f9-1b7d-4221-a8b6-f5d2b0c8aae9\">\n",
              "    <div class=\"colab-df-container\">\n",
              "      <div>\n",
              "<style scoped>\n",
              "    .dataframe tbody tr th:only-of-type {\n",
              "        vertical-align: middle;\n",
              "    }\n",
              "\n",
              "    .dataframe tbody tr th {\n",
              "        vertical-align: top;\n",
              "    }\n",
              "\n",
              "    .dataframe thead th {\n",
              "        text-align: right;\n",
              "    }\n",
              "</style>\n",
              "<table border=\"1\" class=\"dataframe\">\n",
              "  <thead>\n",
              "    <tr style=\"text-align: right;\">\n",
              "      <th></th>\n",
              "      <th>002_S_0685</th>\n",
              "      <th>003_S_0981</th>\n",
              "      <th>003_S_0907</th>\n",
              "      <th>005_S_0610</th>\n",
              "      <th>007_S_1222</th>\n",
              "      <th>035_S_0156</th>\n",
              "      <th>035_S_0048</th>\n",
              "      <th>073_S_0089</th>\n",
              "      <th>002_S_0413</th>\n",
              "      <th>002_S_0295</th>\n",
              "      <th>...</th>\n",
              "      <th>130_S_1290</th>\n",
              "      <th>057_S_0474</th>\n",
              "      <th>027_S_1081</th>\n",
              "      <th>024_S_1171</th>\n",
              "      <th>020_S_0213</th>\n",
              "      <th>013_S_1205</th>\n",
              "      <th>005_S_0814</th>\n",
              "      <th>002_S_0619</th>\n",
              "      <th>002_S_1018</th>\n",
              "      <th>002_S_0938</th>\n",
              "    </tr>\n",
              "    <tr>\n",
              "      <th>Unnamed: 0</th>\n",
              "      <th></th>\n",
              "      <th></th>\n",
              "      <th></th>\n",
              "      <th></th>\n",
              "      <th></th>\n",
              "      <th></th>\n",
              "      <th></th>\n",
              "      <th></th>\n",
              "      <th></th>\n",
              "      <th></th>\n",
              "      <th></th>\n",
              "      <th></th>\n",
              "      <th></th>\n",
              "      <th></th>\n",
              "      <th></th>\n",
              "      <th></th>\n",
              "      <th></th>\n",
              "      <th></th>\n",
              "      <th></th>\n",
              "      <th></th>\n",
              "      <th></th>\n",
              "    </tr>\n",
              "  </thead>\n",
              "  <tbody>\n",
              "    <tr>\n",
              "      <th>FreeSurfer</th>\n",
              "      <td>7409.0</td>\n",
              "      <td>6710.0</td>\n",
              "      <td>6915.0</td>\n",
              "      <td>6028.0</td>\n",
              "      <td>7363.0</td>\n",
              "      <td>7868.0</td>\n",
              "      <td>7570.0</td>\n",
              "      <td>8094.0</td>\n",
              "      <td>7140.0</td>\n",
              "      <td>7346.0</td>\n",
              "      <td>...</td>\n",
              "      <td>6107.0</td>\n",
              "      <td>5122.0</td>\n",
              "      <td>5466.0</td>\n",
              "      <td>7877.0</td>\n",
              "      <td>7750.0</td>\n",
              "      <td>5452.0</td>\n",
              "      <td>4808.0</td>\n",
              "      <td>5788.0</td>\n",
              "      <td>7396.0</td>\n",
              "      <td>4453.0</td>\n",
              "    </tr>\n",
              "    <tr>\n",
              "      <th>SNT</th>\n",
              "      <td>4836.97</td>\n",
              "      <td>3789.01</td>\n",
              "      <td>4310.75</td>\n",
              "      <td>3863.27</td>\n",
              "      <td>3856.76</td>\n",
              "      <td>5108.98</td>\n",
              "      <td>4331.22</td>\n",
              "      <td>4637.77</td>\n",
              "      <td>4260.77</td>\n",
              "      <td>3999.29</td>\n",
              "      <td>...</td>\n",
              "      <td>3122.86</td>\n",
              "      <td>3404.52</td>\n",
              "      <td>3230.55</td>\n",
              "      <td>4764.93</td>\n",
              "      <td>4733.96</td>\n",
              "      <td>2797.65</td>\n",
              "      <td>2558.37</td>\n",
              "      <td>3334.69</td>\n",
              "      <td>3710.08</td>\n",
              "      <td>2578.72</td>\n",
              "    </tr>\n",
              "    <tr>\n",
              "      <th>MAPER</th>\n",
              "      <td>4987.52</td>\n",
              "      <td>3648.4</td>\n",
              "      <td>4295.76</td>\n",
              "      <td>4181.32</td>\n",
              "      <td>3922.11</td>\n",
              "      <td>4855.58</td>\n",
              "      <td>4021.32</td>\n",
              "      <td>4239.22</td>\n",
              "      <td>4657.79</td>\n",
              "      <td>4494.09</td>\n",
              "      <td>...</td>\n",
              "      <td>3564.99</td>\n",
              "      <td>4814.96</td>\n",
              "      <td>4445.75</td>\n",
              "      <td>5311.1</td>\n",
              "      <td>4780.68</td>\n",
              "      <td>3317.88</td>\n",
              "      <td>3664.76</td>\n",
              "      <td>4889.7</td>\n",
              "      <td>4270.74</td>\n",
              "      <td>3708.45</td>\n",
              "    </tr>\n",
              "    <tr>\n",
              "      <th>Diagnosis</th>\n",
              "      <td>CN</td>\n",
              "      <td>CN</td>\n",
              "      <td>CN</td>\n",
              "      <td>CN</td>\n",
              "      <td>CN</td>\n",
              "      <td>CN</td>\n",
              "      <td>CN</td>\n",
              "      <td>CN</td>\n",
              "      <td>CN</td>\n",
              "      <td>CN</td>\n",
              "      <td>...</td>\n",
              "      <td>AD</td>\n",
              "      <td>AD</td>\n",
              "      <td>AD</td>\n",
              "      <td>AD</td>\n",
              "      <td>AD</td>\n",
              "      <td>AD</td>\n",
              "      <td>AD</td>\n",
              "      <td>AD</td>\n",
              "      <td>AD</td>\n",
              "      <td>AD</td>\n",
              "    </tr>\n",
              "    <tr>\n",
              "      <th>Sex</th>\n",
              "      <td>F</td>\n",
              "      <td>F</td>\n",
              "      <td>F</td>\n",
              "      <td>M</td>\n",
              "      <td>F</td>\n",
              "      <td>M</td>\n",
              "      <td>M</td>\n",
              "      <td>M</td>\n",
              "      <td>F</td>\n",
              "      <td>M</td>\n",
              "      <td>...</td>\n",
              "      <td>F</td>\n",
              "      <td>F</td>\n",
              "      <td>M</td>\n",
              "      <td>M</td>\n",
              "      <td>M</td>\n",
              "      <td>M</td>\n",
              "      <td>F</td>\n",
              "      <td>M</td>\n",
              "      <td>F</td>\n",
              "      <td>F</td>\n",
              "    </tr>\n",
              "  </tbody>\n",
              "</table>\n",
              "<p>5 rows × 30 columns</p>\n",
              "</div>\n",
              "      <button class=\"colab-df-convert\" onclick=\"convertToInteractive('df-9e4409f9-1b7d-4221-a8b6-f5d2b0c8aae9')\"\n",
              "              title=\"Convert this dataframe to an interactive table.\"\n",
              "              style=\"display:none;\">\n",
              "        \n",
              "  <svg xmlns=\"http://www.w3.org/2000/svg\" height=\"24px\"viewBox=\"0 0 24 24\"\n",
              "       width=\"24px\">\n",
              "    <path d=\"M0 0h24v24H0V0z\" fill=\"none\"/>\n",
              "    <path d=\"M18.56 5.44l.94 2.06.94-2.06 2.06-.94-2.06-.94-.94-2.06-.94 2.06-2.06.94zm-11 1L8.5 8.5l.94-2.06 2.06-.94-2.06-.94L8.5 2.5l-.94 2.06-2.06.94zm10 10l.94 2.06.94-2.06 2.06-.94-2.06-.94-.94-2.06-.94 2.06-2.06.94z\"/><path d=\"M17.41 7.96l-1.37-1.37c-.4-.4-.92-.59-1.43-.59-.52 0-1.04.2-1.43.59L10.3 9.45l-7.72 7.72c-.78.78-.78 2.05 0 2.83L4 21.41c.39.39.9.59 1.41.59.51 0 1.02-.2 1.41-.59l7.78-7.78 2.81-2.81c.8-.78.8-2.07 0-2.86zM5.41 20L4 18.59l7.72-7.72 1.47 1.35L5.41 20z\"/>\n",
              "  </svg>\n",
              "      </button>\n",
              "      \n",
              "  <style>\n",
              "    .colab-df-container {\n",
              "      display:flex;\n",
              "      flex-wrap:wrap;\n",
              "      gap: 12px;\n",
              "    }\n",
              "\n",
              "    .colab-df-convert {\n",
              "      background-color: #E8F0FE;\n",
              "      border: none;\n",
              "      border-radius: 50%;\n",
              "      cursor: pointer;\n",
              "      display: none;\n",
              "      fill: #1967D2;\n",
              "      height: 32px;\n",
              "      padding: 0 0 0 0;\n",
              "      width: 32px;\n",
              "    }\n",
              "\n",
              "    .colab-df-convert:hover {\n",
              "      background-color: #E2EBFA;\n",
              "      box-shadow: 0px 1px 2px rgba(60, 64, 67, 0.3), 0px 1px 3px 1px rgba(60, 64, 67, 0.15);\n",
              "      fill: #174EA6;\n",
              "    }\n",
              "\n",
              "    [theme=dark] .colab-df-convert {\n",
              "      background-color: #3B4455;\n",
              "      fill: #D2E3FC;\n",
              "    }\n",
              "\n",
              "    [theme=dark] .colab-df-convert:hover {\n",
              "      background-color: #434B5C;\n",
              "      box-shadow: 0px 1px 3px 1px rgba(0, 0, 0, 0.15);\n",
              "      filter: drop-shadow(0px 1px 2px rgba(0, 0, 0, 0.3));\n",
              "      fill: #FFFFFF;\n",
              "    }\n",
              "  </style>\n",
              "\n",
              "      <script>\n",
              "        const buttonEl =\n",
              "          document.querySelector('#df-9e4409f9-1b7d-4221-a8b6-f5d2b0c8aae9 button.colab-df-convert');\n",
              "        buttonEl.style.display =\n",
              "          google.colab.kernel.accessAllowed ? 'block' : 'none';\n",
              "\n",
              "        async function convertToInteractive(key) {\n",
              "          const element = document.querySelector('#df-9e4409f9-1b7d-4221-a8b6-f5d2b0c8aae9');\n",
              "          const dataTable =\n",
              "            await google.colab.kernel.invokeFunction('convertToInteractive',\n",
              "                                                     [key], {});\n",
              "          if (!dataTable) return;\n",
              "\n",
              "          const docLinkHtml = 'Like what you see? Visit the ' +\n",
              "            '<a target=\"_blank\" href=https://colab.research.google.com/notebooks/data_table.ipynb>data table notebook</a>'\n",
              "            + ' to learn more about interactive tables.';\n",
              "          element.innerHTML = '';\n",
              "          dataTable['output_type'] = 'display_data';\n",
              "          await google.colab.output.renderOutput(dataTable, element);\n",
              "          const docLink = document.createElement('div');\n",
              "          docLink.innerHTML = docLinkHtml;\n",
              "          element.appendChild(docLink);\n",
              "        }\n",
              "      </script>\n",
              "    </div>\n",
              "  </div>\n",
              "  "
            ]
          },
          "metadata": {},
          "execution_count": 20
        }
      ],
      "source": [
        "#Displaying the 'raw' Biomarkers of the 1000 selected patients\n",
        "df_hippo_volumes_data = pd.read_csv('hippocampal_volume_all_with_diagnosis.csv')\n",
        "df_hippo_volumes_data = df_hippo_volumes_data.set_index('Unnamed: 0')\n",
        "\n",
        "df_hippo_volumes_data.head()"
      ]
    },
    {
      "cell_type": "markdown",
      "source": [
        "### **To-Do:** Investigate Data Augmentation Approaches! \n",
        "#### -> Synthetic Minority Over-sampling Technique (SMOTE) and Modified- SMOTE"
      ],
      "metadata": {
        "id": "gLl8JuMDKTwb"
      }
    },
    {
      "cell_type": "markdown",
      "metadata": {
        "id": "L_FdfAh7k5an"
      },
      "source": [
        "Custom Categorical Encoding of Data:"
      ]
    },
    {
      "cell_type": "code",
      "execution_count": null,
      "metadata": {
        "id": "j9zULUd0ksKv"
      },
      "outputs": [],
      "source": [
        "# Categories for Ordinal Encoding \n",
        "diagnosis_label = ['CN', 'MCI', 'AD'] \n"
      ]
    },
    {
      "cell_type": "code",
      "source": [
        "df_hippo_volumes_data = df_hippo_volumes_data.rename(columns={'033_S_0723.1': '033_S_0723'})"
      ],
      "metadata": {
        "id": "4bc4QdUqb-zR"
      },
      "execution_count": null,
      "outputs": []
    },
    {
      "cell_type": "code",
      "execution_count": null,
      "metadata": {
        "id": "U0Jarz5hlGC3"
      },
      "outputs": [],
      "source": [
        "#Encoding of the Categorical Features in the Data using the Ordered Lists Above :\n",
        "encoded_diagnosis_label = ordinal_encod(df_hippo_volumes_data.loc['Diagnosis'])\n",
        "encoded_diagnosis_label = np.squeeze(encoded_diagnosis_label)"
      ]
    },
    {
      "cell_type": "code",
      "execution_count": null,
      "metadata": {
        "id": "tQ3Rr4R0lavW",
        "colab": {
          "base_uri": "https://localhost:8080/",
          "height": 206
        },
        "outputId": "53d4bc3c-54ea-4f03-d5ee-f2fec448db7e"
      },
      "outputs": [
        {
          "output_type": "execute_result",
          "data": {
            "text/plain": [
              "Unnamed: 0 FreeSurfer      SNT    MAPER\n",
              "002_S_0685     7409.0  4836.97  4987.52\n",
              "003_S_0981     6710.0  3789.01   3648.4\n",
              "003_S_0907     6915.0  4310.75  4295.76\n",
              "005_S_0610     6028.0  3863.27  4181.32\n",
              "007_S_1222     7363.0  3856.76  3922.11"
            ],
            "text/html": [
              "\n",
              "  <div id=\"df-ec307773-a29c-4bbf-9066-d9e5e8fbc98d\">\n",
              "    <div class=\"colab-df-container\">\n",
              "      <div>\n",
              "<style scoped>\n",
              "    .dataframe tbody tr th:only-of-type {\n",
              "        vertical-align: middle;\n",
              "    }\n",
              "\n",
              "    .dataframe tbody tr th {\n",
              "        vertical-align: top;\n",
              "    }\n",
              "\n",
              "    .dataframe thead th {\n",
              "        text-align: right;\n",
              "    }\n",
              "</style>\n",
              "<table border=\"1\" class=\"dataframe\">\n",
              "  <thead>\n",
              "    <tr style=\"text-align: right;\">\n",
              "      <th>Unnamed: 0</th>\n",
              "      <th>FreeSurfer</th>\n",
              "      <th>SNT</th>\n",
              "      <th>MAPER</th>\n",
              "    </tr>\n",
              "  </thead>\n",
              "  <tbody>\n",
              "    <tr>\n",
              "      <th>002_S_0685</th>\n",
              "      <td>7409.0</td>\n",
              "      <td>4836.97</td>\n",
              "      <td>4987.52</td>\n",
              "    </tr>\n",
              "    <tr>\n",
              "      <th>003_S_0981</th>\n",
              "      <td>6710.0</td>\n",
              "      <td>3789.01</td>\n",
              "      <td>3648.4</td>\n",
              "    </tr>\n",
              "    <tr>\n",
              "      <th>003_S_0907</th>\n",
              "      <td>6915.0</td>\n",
              "      <td>4310.75</td>\n",
              "      <td>4295.76</td>\n",
              "    </tr>\n",
              "    <tr>\n",
              "      <th>005_S_0610</th>\n",
              "      <td>6028.0</td>\n",
              "      <td>3863.27</td>\n",
              "      <td>4181.32</td>\n",
              "    </tr>\n",
              "    <tr>\n",
              "      <th>007_S_1222</th>\n",
              "      <td>7363.0</td>\n",
              "      <td>3856.76</td>\n",
              "      <td>3922.11</td>\n",
              "    </tr>\n",
              "  </tbody>\n",
              "</table>\n",
              "</div>\n",
              "      <button class=\"colab-df-convert\" onclick=\"convertToInteractive('df-ec307773-a29c-4bbf-9066-d9e5e8fbc98d')\"\n",
              "              title=\"Convert this dataframe to an interactive table.\"\n",
              "              style=\"display:none;\">\n",
              "        \n",
              "  <svg xmlns=\"http://www.w3.org/2000/svg\" height=\"24px\"viewBox=\"0 0 24 24\"\n",
              "       width=\"24px\">\n",
              "    <path d=\"M0 0h24v24H0V0z\" fill=\"none\"/>\n",
              "    <path d=\"M18.56 5.44l.94 2.06.94-2.06 2.06-.94-2.06-.94-.94-2.06-.94 2.06-2.06.94zm-11 1L8.5 8.5l.94-2.06 2.06-.94-2.06-.94L8.5 2.5l-.94 2.06-2.06.94zm10 10l.94 2.06.94-2.06 2.06-.94-2.06-.94-.94-2.06-.94 2.06-2.06.94z\"/><path d=\"M17.41 7.96l-1.37-1.37c-.4-.4-.92-.59-1.43-.59-.52 0-1.04.2-1.43.59L10.3 9.45l-7.72 7.72c-.78.78-.78 2.05 0 2.83L4 21.41c.39.39.9.59 1.41.59.51 0 1.02-.2 1.41-.59l7.78-7.78 2.81-2.81c.8-.78.8-2.07 0-2.86zM5.41 20L4 18.59l7.72-7.72 1.47 1.35L5.41 20z\"/>\n",
              "  </svg>\n",
              "      </button>\n",
              "      \n",
              "  <style>\n",
              "    .colab-df-container {\n",
              "      display:flex;\n",
              "      flex-wrap:wrap;\n",
              "      gap: 12px;\n",
              "    }\n",
              "\n",
              "    .colab-df-convert {\n",
              "      background-color: #E8F0FE;\n",
              "      border: none;\n",
              "      border-radius: 50%;\n",
              "      cursor: pointer;\n",
              "      display: none;\n",
              "      fill: #1967D2;\n",
              "      height: 32px;\n",
              "      padding: 0 0 0 0;\n",
              "      width: 32px;\n",
              "    }\n",
              "\n",
              "    .colab-df-convert:hover {\n",
              "      background-color: #E2EBFA;\n",
              "      box-shadow: 0px 1px 2px rgba(60, 64, 67, 0.3), 0px 1px 3px 1px rgba(60, 64, 67, 0.15);\n",
              "      fill: #174EA6;\n",
              "    }\n",
              "\n",
              "    [theme=dark] .colab-df-convert {\n",
              "      background-color: #3B4455;\n",
              "      fill: #D2E3FC;\n",
              "    }\n",
              "\n",
              "    [theme=dark] .colab-df-convert:hover {\n",
              "      background-color: #434B5C;\n",
              "      box-shadow: 0px 1px 3px 1px rgba(0, 0, 0, 0.15);\n",
              "      filter: drop-shadow(0px 1px 2px rgba(0, 0, 0, 0.3));\n",
              "      fill: #FFFFFF;\n",
              "    }\n",
              "  </style>\n",
              "\n",
              "      <script>\n",
              "        const buttonEl =\n",
              "          document.querySelector('#df-ec307773-a29c-4bbf-9066-d9e5e8fbc98d button.colab-df-convert');\n",
              "        buttonEl.style.display =\n",
              "          google.colab.kernel.accessAllowed ? 'block' : 'none';\n",
              "\n",
              "        async function convertToInteractive(key) {\n",
              "          const element = document.querySelector('#df-ec307773-a29c-4bbf-9066-d9e5e8fbc98d');\n",
              "          const dataTable =\n",
              "            await google.colab.kernel.invokeFunction('convertToInteractive',\n",
              "                                                     [key], {});\n",
              "          if (!dataTable) return;\n",
              "\n",
              "          const docLinkHtml = 'Like what you see? Visit the ' +\n",
              "            '<a target=\"_blank\" href=https://colab.research.google.com/notebooks/data_table.ipynb>data table notebook</a>'\n",
              "            + ' to learn more about interactive tables.';\n",
              "          element.innerHTML = '';\n",
              "          dataTable['output_type'] = 'display_data';\n",
              "          await google.colab.output.renderOutput(dataTable, element);\n",
              "          const docLink = document.createElement('div');\n",
              "          docLink.innerHTML = docLinkHtml;\n",
              "          element.appendChild(docLink);\n",
              "        }\n",
              "      </script>\n",
              "    </div>\n",
              "  </div>\n",
              "  "
            ]
          },
          "metadata": {},
          "execution_count": 25
        }
      ],
      "source": [
        "# substituing the encoded columns into the dataframe\n",
        "df_hippo_volumes_data_numerical = df_hippo_volumes_data.copy() #creating deep copy of data\n",
        "\n",
        "#overwriting the data of the df copy with the encoded feature values\n",
        "#df_hippo_volumes_data_numerical.loc['Diagnosis'] = encoded_diagnosis_label\n",
        "df_hippo_volumes_data_numerical = df_hippo_volumes_data_numerical.drop(index=('Sex'))\n",
        "df_hippo_volumes_data_numerical = df_hippo_volumes_data_numerical.drop('Diagnosis')\n",
        "df_hippo_volumes_data_numerical = df_hippo_volumes_data_numerical.T\n",
        "\n",
        "df_hippo_volumes_data_numerical.head() #each row is a data point to be encoded - one patient and their different predicitions + diagnosis"
      ]
    },
    {
      "cell_type": "markdown",
      "metadata": {
        "id": "F5uilXeQmtG_"
      },
      "source": [
        "Building Training and Testing Datasets:"
      ]
    },
    {
      "cell_type": "code",
      "source": [
        "# standardize values\n",
        "scaler = StandardScaler()\n",
        "scaler_fitted = scaler.fit(df_hippo_volumes_data_numerical)\n",
        "data_standardized = scaler_fitted.transform(df_hippo_volumes_data_numerical)\n",
        "data_standardized.shape"
      ],
      "metadata": {
        "id": "KZtf7L4KEwYa",
        "colab": {
          "base_uri": "https://localhost:8080/"
        },
        "outputId": "21a16755-32fc-48cb-8d64-4bed429bcfc1"
      },
      "execution_count": null,
      "outputs": [
        {
          "output_type": "execute_result",
          "data": {
            "text/plain": [
              "(30, 3)"
            ]
          },
          "metadata": {},
          "execution_count": 26
        }
      ]
    },
    {
      "cell_type": "code",
      "execution_count": null,
      "metadata": {
        "id": "lPGBux_CmsfA",
        "colab": {
          "base_uri": "https://localhost:8080/"
        },
        "outputId": "d2326146-5474-4b66-bef9-a4aa29473b76"
      },
      "outputs": [
        {
          "output_type": "stream",
          "name": "stdout",
          "text": [
            "Data Shape: torch.Size([21, 3]) torch.Size([9, 3])\n",
            "\n",
            "Training Standardized: tensor([[ 9.5560e-01,  1.5230e+00,  1.6104e+00],\n",
            "        [ 9.1082e-01,  1.4257e-01, -3.7925e-01],\n",
            "        [-8.7068e-01, -7.1902e-01,  1.9077e-01],\n",
            "        [ 1.4024e+00,  1.9061e+00,  1.3640e+00],\n",
            "        [-1.3443e-03,  9.8408e-01,  2.2098e+00],\n",
            "        [ 2.2159e-01, -8.8831e-02, -1.0761e+00],\n",
            "        [-9.3590e-01, -7.3934e-01,  5.9865e-01],\n",
            "        [ 2.7513e-01,  4.7159e-02, -8.9040e-01],\n",
            "        [ 4.7469e-01,  7.8194e-01,  3.1854e-01],\n",
            "        [-9.4953e-01, -1.3490e+00, -1.5076e+00],\n",
            "        [-3.8880e-01,  1.5174e-01,  1.0483e-01],\n",
            "        [-1.2708e+00, -4.9433e-01,  1.2881e+00],\n",
            "        [-1.5765e+00, -1.6860e+00, -8.5985e-01],\n",
            "        [ 2.2159e-01, -8.8831e-02, -1.0761e+00],\n",
            "        [-1.9220e+00, -1.6573e+00, -7.7826e-01],\n",
            "        [-3.1189e-01, -8.9101e-01, -1.0462e+00],\n",
            "        [ 1.6224e+00,  1.2425e+00,  2.1295e-01],\n",
            "        [ 7.6090e-01,  4.8995e-01,  1.3286e-01],\n",
            "        [ 1.0909e+00,  6.4953e-01,  7.2678e-01],\n",
            "        [-8.2103e-01, -1.0157e+00, -9.4997e-01],\n",
            "        [ 1.1123e+00,  8.1077e-01, -1.9397e-01]])\n",
            "\n",
            "Test Standardized: tensor([[-0.6224, -0.5927,  1.4277],\n",
            "        [-1.7254, -1.0897,  0.5054],\n",
            "        [ 1.4112,  1.4216,  2.2147],\n",
            "        [-0.1162, -1.1717, -0.4315],\n",
            "        [ 0.6937,  0.7116,  0.9946],\n",
            "        [ 0.8943,  0.3433,  0.6889],\n",
            "        [ 0.9429, -0.0640,  0.2718],\n",
            "        [ 1.2876,  1.3780,  1.2241],\n",
            "        [-0.4151,  0.6145,  0.8004]])\n"
          ]
        }
      ],
      "source": [
        "trainloader, testloader = test_train_datasets(data_standardized, batch_size=6)\n",
        "print()\n",
        "print('Training Standardized:', trainloader.dataset.x)\n",
        "print()\n",
        "print('Test Standardized:', testloader.dataset.x)"
      ]
    },
    {
      "cell_type": "code",
      "source": [
        "from sklearn.decomposition import PCA\n",
        "pca = PCA(n_components=3)\n",
        "pca_cn = PCA(n_components=3)\n",
        "pca_mci = PCA(n_components=3)\n",
        "pca_ad = PCA(n_components=3)\n",
        "\n",
        "pca = pca.fit(data_standardized)\n",
        "pca_cn = pca_cn.fit(data_standardized[:10])\n",
        "pca_mci = pca_mci.fit(data_standardized[10:20])\n",
        "pca_ad = pca_ad.fit(data_standardized[20:30])"
      ],
      "metadata": {
        "id": "bKMpVlNj9FJE"
      },
      "execution_count": null,
      "outputs": []
    },
    {
      "cell_type": "code",
      "source": [
        "print(pca_cn.explained_variance_ratio_)\n",
        "print(pca_ad.explained_variance_ratio_)"
      ],
      "metadata": {
        "colab": {
          "base_uri": "https://localhost:8080/"
        },
        "id": "91nOyzdWcxOO",
        "outputId": "413c46d8-7707-4bd1-dcf7-32fea25f3039"
      },
      "execution_count": null,
      "outputs": [
        {
          "output_type": "stream",
          "name": "stdout",
          "text": [
            "[0.74694525 0.20828596 0.04476879]\n",
            "[0.82769464 0.16177967 0.01052569]\n"
          ]
        }
      ]
    },
    {
      "cell_type": "code",
      "source": [
        "# colorcoding the x_ticks which represent the different patient ids depending on the diagnosis of the patient -> there are three different diagnosis and 10 patients of each type (previously ordered)\n",
        "colors = ['blue', 'red', 'purple']\n",
        "colors_list = []\n",
        "\n",
        "for i in range(len(colors)):\n",
        "  for j in range(10):\n",
        "    colors_list.append(colors[i])"
      ],
      "metadata": {
        "id": "fEH-l22I_H7A"
      },
      "execution_count": null,
      "outputs": []
    },
    {
      "cell_type": "code",
      "source": [
        "data_stand_pca = pca.transform(data_standardized)\n",
        "print(data_stand_pca)"
      ],
      "metadata": {
        "colab": {
          "base_uri": "https://localhost:8080/"
        },
        "id": "mu_V60ij9WTU",
        "outputId": "6cb37e31-fe1d-455e-ceb1-b25e9dd1af94"
      },
      "execution_count": null,
      "outputs": [
        {
          "output_type": "stream",
          "name": "stdout",
          "text": [
            "[[-2.14697114  0.4449727  -0.20830952]\n",
            " [ 0.44940081 -1.04731581 -0.22655849]\n",
            " [-0.7449394  -0.25564474 -0.30981366]\n",
            " [ 0.27830732  0.12706331 -0.39582805]\n",
            " [-0.23199353 -0.99773945  0.22607806]\n",
            " [-2.53989113 -0.05131693 -0.31496155]\n",
            " [-0.88307933 -1.03606408 -0.11302998]\n",
            " [-1.66417612 -1.03959276 -0.02335115]\n",
            " [-1.1554129   0.18182215  0.07587195]\n",
            " [-0.8776307  -0.13852826  0.3838323 ]\n",
            " [-0.62608263 -0.53478182  0.02587894]\n",
            " [ 0.66147693 -1.15341588 -0.20942093]\n",
            " [-0.35367382  0.65731499 -0.55694785]\n",
            " [-1.52746658  1.53420733 -0.17432081]\n",
            " [-1.2134465  -0.25314947  0.27529577]\n",
            " [ 1.68148867  1.34762154 -0.10472326]\n",
            " [ 1.093845    0.56775278  0.01628418]\n",
            " [ 1.26145442 -0.31286155  0.61792344]\n",
            " [ 0.66147693 -1.15341588 -0.20942093]\n",
            " [ 1.81950417 -0.35837515 -0.07029539]\n",
            " [ 1.48871438 -0.7373531   0.10300525]\n",
            " [ 0.64023133  1.66361653 -0.06002083]\n",
            " [ 0.94584266  0.9400423   0.11646911]\n",
            " [-2.63877142  0.69439161  0.31804678]\n",
            " [-2.05419873 -0.0406102  -0.01896119]\n",
            " [ 2.38779913 -0.703733   -0.05755535]\n",
            " [ 2.65831741  0.21649605  0.02913474]\n",
            " [ 0.26174933  1.42461726  0.43688641]\n",
            " [-0.43150216 -0.46010346  0.59936199]\n",
            " [ 2.7996276   0.47408297 -0.17054999]]\n"
          ]
        }
      ]
    },
    {
      "cell_type": "code",
      "source": [
        "ordered_patient_ids = list(df_hippo_volumes_data.columns)"
      ],
      "metadata": {
        "id": "K65RBxXbagIk"
      },
      "execution_count": null,
      "outputs": []
    },
    {
      "cell_type": "code",
      "source": [
        "import matplotlib.pyplot as plt\n",
        "\n",
        "plt.figure(figsize=(8,6))\n",
        "\n",
        "for i in range(len(data_stand_pca)):\n",
        "  plt.scatter(ordered_patient_ids[i], data_stand_pca[i, 0], color=colors_list[i])\n",
        "\n",
        "  \n",
        "for ticklabel, tickcolor in zip(plt.gca().get_xticklabels(), colors_list):\n",
        "  ticklabel.set_color(tickcolor)\n",
        "\n",
        "plt.xticks(rotation = 90)\n",
        "plt.ylabel('First Principal Component')\n",
        "plt.xlabel('Patient IDs')"
      ],
      "metadata": {
        "colab": {
          "base_uri": "https://localhost:8080/",
          "height": 629
        },
        "id": "aSn9ZZhn-FHD",
        "outputId": "dd9c72e8-1ea1-440f-b29c-e1757b0c2d94"
      },
      "execution_count": null,
      "outputs": [
        {
          "output_type": "execute_result",
          "data": {
            "text/plain": [
              "Text(0.5, 0, 'Patient IDs')"
            ]
          },
          "metadata": {},
          "execution_count": 34
        },
        {
          "output_type": "display_data",
          "data": {
            "text/plain": [
              "<Figure size 800x600 with 1 Axes>"
            ],
            "image/png": "[encoded data removed]"
          },
          "metadata": {}
        }
      ]
    },
    {
      "cell_type": "code",
      "source": [
        "\n",
        "fig, ax1 = plt.subplots(figsize=(10, 6))\n",
        "plt.subplots_adjust(left=0.075, right=0.95, top=0.9, bottom=0.25)\n",
        "\n",
        "b1 = ax1.violinplot(data_stand_pca[:10, 0], positions=[0], showmeans=True)\n",
        "#median_val1 = b1['medians'][0].get_ydata()\n",
        "\n",
        "b2 = ax1.violinplot(data_stand_pca[10:20, 0], positions=[1], showmeans=True)\n",
        "#median_val2 = b2['medians'][0].get_ydata()\n",
        "\n",
        "b3 = ax1.violinplot(data_stand_pca[20:30, 0], positions=[2], showmeans=True)\n",
        "#median_val3 = b3['medians'][0].get_ydata()\n",
        "\n",
        "\n",
        "ax1.set_xticks(np.arange(0,3))\n",
        "ax1.set_xticklabels(['CN', 'MCI', 'AD'])\n",
        "plt.xlabel('Diagnosis') \n",
        "plt.ylabel('First Principle Component')\n",
        "plt.title(\"PCA of Patients' Volume Predictions \\n Grouped by their Diagnosis\")\n",
        "\n",
        "ax1.yaxis.grid(True, linestyle='-', color='lightgrey',\n",
        "               alpha=0.5)\n",
        "ax1.xaxis.grid(True, linestyle='-', color='lightgrey',\n",
        "               alpha=0.5)"
      ],
      "metadata": {
        "colab": {
          "base_uri": "https://localhost:8080/",
          "height": 513
        },
        "id": "YbF9dAtshmzS",
        "outputId": "37c47f5a-e0ec-4bbe-a793-8ba8ee5d654d"
      },
      "execution_count": null,
      "outputs": [
        {
          "output_type": "display_data",
          "data": {
            "text/plain": [
              "<Figure size 1000x600 with 1 Axes>"
            ],
            "image/png": "[encoded data removed]"
          },
          "metadata": {}
        }
      ]
    },
    {
      "cell_type": "code",
      "source": [
        "num_components = np.arange(pca.n_components_) + 1\n",
        "plt.plot(num_components, pca_cn.explained_variance_ratio_, 'o-', linewidth=2, color='blue')\n",
        "plt.plot(num_components, pca_mci.explained_variance_ratio_, 'o-', linewidth=2, color='orange')\n",
        "plt.plot(num_components, pca_ad.explained_variance_ratio_, 'o-', linewidth=2, color='green')\n",
        "plt.title('Scree Analysis - PCA Variance')\n",
        "plt.xlabel('Principal Component')\n",
        "plt.ylabel('% Variance Explained')\n",
        "plt.legend(['CN', 'MCI', 'AD'])\n",
        "plt.show()"
      ],
      "metadata": {
        "colab": {
          "base_uri": "https://localhost:8080/",
          "height": 472
        },
        "id": "T4RRFM0mbvEv",
        "outputId": "1657a6e3-ad8c-4183-f974-f8e62f36fe77"
      },
      "execution_count": null,
      "outputs": [
        {
          "output_type": "display_data",
          "data": {
            "text/plain": [
              "<Figure size 640x480 with 1 Axes>"
            ],
            "image/png": "[encoded data removed]"
          },
          "metadata": {}
        }
      ]
    },
    {
      "cell_type": "markdown",
      "metadata": {
        "id": "lz-UoEd4rdTO"
      },
      "source": [
        "Training the VAE on Pre-Processed Data:"
      ]
    },
    {
      "cell_type": "code",
      "execution_count": null,
      "metadata": {
        "id": "3Pj7FmHTryMh",
        "colab": {
          "base_uri": "https://localhost:8080/",
          "height": 1000,
          "referenced_widgets": [
            "391c025842584717bbc1c1ff5f93e5d6",
            "89327e96832c4ebebd144f303cfd1fe8",
            "b5655cda31da478e8c54ede0f4b64503",
            "9135c35fd151468cb9280632cbcd13b9",
            "e388af77eae047b98133553d6816d3ad",
            "6e8cc3e4413e425eb50b3e3a574983ec",
            "f17e48efa3674ac98355a016c59a2b4a",
            "fda5a52b981d4dd7af28066be507498e"
          ]
        },
        "outputId": "ae976513-2c4f-4327-9f7e-35d4b21a6739"
      },
      "outputs": [
        {
          "output_type": "display_data",
          "data": {
            "text/plain": [
              "<IPython.core.display.HTML object>"
            ],
            "text/html": [
              "Changes to your `wandb` environment variables will be ignored because your `wandb` session has already started. For more information on how to modify your settings with `wandb.init()` arguments, please refer to <a href='https://wandb.me/wandb-init' target=\"_blank\">the W&B docs</a>."
            ]
          },
          "metadata": {}
        },
        {
          "output_type": "stream",
          "name": "stderr",
          "text": [
            "\u001b[34m\u001b[1mwandb\u001b[0m: \u001b[33mWARNING\u001b[0m Ignored wandb.init() arg project when running a sweep.\n"
          ]
        },
        {
          "output_type": "display_data",
          "data": {
            "text/plain": [
              "<IPython.core.display.HTML object>"
            ],
            "text/html": [
              "Tracking run with wandb version 0.14.0"
            ]
          },
          "metadata": {}
        },
        {
          "output_type": "display_data",
          "data": {
            "text/plain": [
              "<IPython.core.display.HTML object>"
            ],
            "text/html": [
              "Run data is saved locally in <code>/content/drive/MyDrive/ColabNotebooks/Final-Year-Project/wandb/run-20230405_171953-44mi8t6q</code>"
            ]
          },
          "metadata": {}
        },
        {
          "output_type": "display_data",
          "data": {
            "text/plain": [
              "<IPython.core.display.HTML object>"
            ],
            "text/html": [
              "Syncing run <strong><a href='https://wandb.ai/mae28/VAE_FYP_Optimization1/runs/44mi8t6q' target=\"_blank\">fancy-sweep-151</a></strong> to <a href='https://wandb.ai/mae28/VAE_FYP_Optimization1' target=\"_blank\">Weights & Biases</a> (<a href='https://wandb.me/run' target=\"_blank\">docs</a>)<br/>Sweep page: <a href='https://wandb.ai/mae28/VAE_FYP_Optimization1/sweeps/1kc9nqf7' target=\"_blank\">https://wandb.ai/mae28/VAE_FYP_Optimization1/sweeps/1kc9nqf7</a>"
            ]
          },
          "metadata": {}
        },
        {
          "output_type": "display_data",
          "data": {
            "text/plain": [
              "<IPython.core.display.HTML object>"
            ],
            "text/html": [
              " View project at <a href='https://wandb.ai/mae28/VAE_FYP_Optimization1' target=\"_blank\">https://wandb.ai/mae28/VAE_FYP_Optimization1</a>"
            ]
          },
          "metadata": {}
        },
        {
          "output_type": "display_data",
          "data": {
            "text/plain": [
              "<IPython.core.display.HTML object>"
            ],
            "text/html": [
              " View sweep at <a href='https://wandb.ai/mae28/VAE_FYP_Optimization1/sweeps/1kc9nqf7' target=\"_blank\">https://wandb.ai/mae28/VAE_FYP_Optimization1/sweeps/1kc9nqf7</a>"
            ]
          },
          "metadata": {}
        },
        {
          "output_type": "display_data",
          "data": {
            "text/plain": [
              "<IPython.core.display.HTML object>"
            ],
            "text/html": [
              " View run at <a href='https://wandb.ai/mae28/VAE_FYP_Optimization1/runs/44mi8t6q' target=\"_blank\">https://wandb.ai/mae28/VAE_FYP_Optimization1/runs/44mi8t6q</a>"
            ]
          },
          "metadata": {}
        },
        {
          "output_type": "stream",
          "name": "stdout",
          "text": [
            "====> Epoch: 50    Average training loss: 0.2074   Gaussian training loss: 0.2074    KL training divergence: 0.0000 \n",
            "====> Epoch: 50    Average test loss: 0.1856       Gaussian test loss: 0.1855       KL test divergence: 0.0000\n",
            "====> Epoch: 100    Average training loss: 0.1590   Gaussian training loss: 0.1589    KL training divergence: 0.0001 \n",
            "====> Epoch: 100    Average test loss: 0.1321       Gaussian test loss: 0.1320       KL test divergence: 0.0001\n",
            "====> Epoch: 150    Average training loss: 0.1235   Gaussian training loss: 0.1233    KL training divergence: 0.0001 \n",
            "====> Epoch: 150    Average test loss: 0.0953       Gaussian test loss: 0.0952       KL test divergence: 0.0001\n",
            "====> Epoch: 200    Average training loss: 0.0875   Gaussian training loss: 0.0873    KL training divergence: 0.0002 \n",
            "====> Epoch: 200    Average test loss: 0.0580       Gaussian test loss: 0.0578       KL test divergence: 0.0001\n",
            "====> Epoch: 250    Average training loss: 0.0538   Gaussian training loss: 0.0536    KL training divergence: 0.0002 \n",
            "====> Epoch: 250    Average test loss: 0.0214       Gaussian test loss: 0.0212       KL test divergence: 0.0002\n",
            "====> Epoch: 300    Average training loss: 0.0161   Gaussian training loss: 0.0158    KL training divergence: 0.0002 \n",
            "====> Epoch: 300    Average test loss: -0.0071       Gaussian test loss: -0.0072       KL test divergence: 0.0002\n",
            "====> Epoch: 350    Average training loss: -0.0144   Gaussian training loss: -0.0147    KL training divergence: 0.0003 \n",
            "====> Epoch: 350    Average test loss: -0.0264       Gaussian test loss: -0.0266       KL test divergence: 0.0002\n",
            "====> Epoch: 400    Average training loss: -0.0410   Gaussian training loss: -0.0413    KL training divergence: 0.0003 \n",
            "====> Epoch: 400    Average test loss: -0.0451       Gaussian test loss: -0.0453       KL test divergence: 0.0002\n",
            "====> Epoch: 450    Average training loss: -0.0615   Gaussian training loss: -0.0618    KL training divergence: 0.0003 \n",
            "====> Epoch: 450    Average test loss: -0.0564       Gaussian test loss: -0.0566       KL test divergence: 0.0003\n",
            "====> Epoch: 500    Average training loss: -0.0713   Gaussian training loss: -0.0717    KL training divergence: 0.0004 \n",
            "====> Epoch: 500    Average test loss: -0.0448       Gaussian test loss: -0.0451       KL test divergence: 0.0003\n",
            "====> Epoch: 550    Average training loss: -0.0928   Gaussian training loss: -0.0932    KL training divergence: 0.0004 \n",
            "====> Epoch: 550    Average test loss: -0.0565       Gaussian test loss: -0.0568       KL test divergence: 0.0003\n",
            "====> Epoch: 600    Average training loss: -0.1037   Gaussian training loss: -0.1041    KL training divergence: 0.0004 \n",
            "====> Epoch: 600    Average test loss: -0.0763       Gaussian test loss: -0.0766       KL test divergence: 0.0003\n",
            "====> Epoch: 650    Average training loss: -0.1172   Gaussian training loss: -0.1176    KL training divergence: 0.0004 \n",
            "====> Epoch: 650    Average test loss: -0.0841       Gaussian test loss: -0.0844       KL test divergence: 0.0003\n",
            "====> Epoch: 700    Average training loss: -0.1465   Gaussian training loss: -0.1469    KL training divergence: 0.0004 \n",
            "====> Epoch: 700    Average test loss: -0.0998       Gaussian test loss: -0.1001       KL test divergence: 0.0003\n",
            "====> Epoch: 750    Average training loss: -0.1650   Gaussian training loss: -0.1654    KL training divergence: 0.0004 \n",
            "====> Epoch: 750    Average test loss: -0.1172       Gaussian test loss: -0.1175       KL test divergence: 0.0003\n",
            "====> Epoch: 800    Average training loss: -0.1865   Gaussian training loss: -0.1869    KL training divergence: 0.0004 \n",
            "====> Epoch: 800    Average test loss: -0.1078       Gaussian test loss: -0.1081       KL test divergence: 0.0003\n"
          ]
        },
        {
          "output_type": "display_data",
          "data": {
            "text/plain": [
              "<IPython.core.display.HTML object>"
            ],
            "text/html": [
              "Waiting for W&B process to finish... <strong style=\"color:green\">(success).</strong>"
            ]
          },
          "metadata": {}
        },
        {
          "output_type": "display_data",
          "data": {
            "text/plain": [
              "VBox(children=(Label(value='0.001 MB of 0.010 MB uploaded (0.000 MB deduped)\\r'), FloatProgress(value=0.138585…"
            ],
            "application/vnd.jupyter.widget-view+json": {
              "version_major": 2,
              "version_minor": 0,
              "model_id": "391c025842584717bbc1c1ff5f93e5d6"
            }
          },
          "metadata": {}
        },
        {
          "output_type": "display_data",
          "data": {
            "text/plain": [
              "<IPython.core.display.HTML object>"
            ],
            "text/html": [
              "<style>\n",
              "    table.wandb td:nth-child(1) { padding: 0 10px; text-align: left ; width: auto;} td:nth-child(2) {text-align: left ; width: 100%}\n",
              "    .wandb-row { display: flex; flex-direction: row; flex-wrap: wrap; justify-content: flex-start; width: 100% }\n",
              "    .wandb-col { display: flex; flex-direction: column; flex-basis: 100%; flex: 1; padding: 10px; }\n",
              "    </style>\n",
              "<div class=\"wandb-row\"><div class=\"wandb-col\"><h3>Run history:</h3><br/><table class=\"wandb\"><tr><td>test loss</td><td>███▇▇▇▆▆▅▅▅▅▄▄▄▃▃▃▃▃▂▂▃▂▂▃▂▂▂▂▂▂▂▁▁▁▁▁▁▁</td></tr><tr><td>train loss</td><td>███▇▇▇▇▆▆▆▆▅▅▅▅▄▄▄▄▄▃▃▃▃▃▃▃▃▃▂▂▂▂▂▂▂▁▁▁▁</td></tr></table><br/></div><div class=\"wandb-col\"><h3>Run summary:</h3><br/><table class=\"wandb\"><tr><td>test loss</td><td>-0.10781</td></tr><tr><td>train loss</td><td>-0.18651</td></tr></table><br/></div></div>"
            ]
          },
          "metadata": {}
        },
        {
          "output_type": "display_data",
          "data": {
            "text/plain": [
              "<IPython.core.display.HTML object>"
            ],
            "text/html": [
              " View run <strong style=\"color:#cdcd00\">fancy-sweep-151</strong> at: <a href='https://wandb.ai/mae28/VAE_FYP_Optimization1/runs/44mi8t6q' target=\"_blank\">https://wandb.ai/mae28/VAE_FYP_Optimization1/runs/44mi8t6q</a><br/>Synced 5 W&B file(s), 0 media file(s), 0 artifact file(s) and 0 other file(s)"
            ]
          },
          "metadata": {}
        },
        {
          "output_type": "display_data",
          "data": {
            "text/plain": [
              "<IPython.core.display.HTML object>"
            ],
            "text/html": [
              "Find logs at: <code>./wandb/run-20230405_171953-44mi8t6q/logs</code>"
            ]
          },
          "metadata": {}
        }
      ],
      "source": [
        "#Setting the Training Hyperparameters:\n",
        "\n",
        "#Model Dimenions:\n",
        "dimen_input = trainloader.dataset.x.shape[1] #the number of features\n",
        "latent_dimensions = 1                             #the size of the latent encoded vector\n",
        "hidden_lay1 = 70                                  #the number of activations from that hidden layer\n",
        "hidden_lay2 = 12                                  #the number of activations from that hidden layer\n",
        "\n",
        "#Model Itself:\n",
        "model_vae = Autoencoder(dimen_input, H=70, H2=12,latent_dim=1, activation= Sigmoid()).to(device) #the default z_dim=3\n",
        "optimizer = optim.Adam(model_vae.parameters(), lr=0.001)\n",
        "customized_loss_individual = customLoss_individual()\n",
        "\n",
        "#Training Epochs:\n",
        "epochs = 800\n",
        "log_interval = 10\n",
        "train_losses = []\n",
        "test_losses = []\n",
        "\n",
        "# Launch 5 simulated experiments\n",
        "total_runs = 1\n",
        "\n",
        "for run in range(total_runs):\n",
        "  # Start a new run to track this script\n",
        "  wandb.init(\n",
        "      \n",
        "      # Set the project where this run will be logged\n",
        "      project=\"VAE_FYP_Optimization\", \n",
        "\n",
        "      # Track hyperparameters and run metadata\n",
        "      config={\n",
        "      \"architecture\": \"VAE_NN\",\n",
        "      })\n",
        "\n",
        "  for epoch in range(1, epochs + 1):\n",
        "      train_loss = train(epoch, trainloader, model_vae, optimizer, customized_loss_individual, train_losses, True, KL_weight=0.001)\n",
        "      test_loss = test(epoch, testloader, model_vae, optimizer, customized_loss_individual, test_losses, True, KL_weight=0.001)\n",
        "      \n",
        "      # Log metrics from your script to W&B\n",
        "      wandb.log({\"train loss\": train_loss})\n",
        "      wandb.log({\"test loss\": test_loss})\n",
        "      \n",
        "       \n",
        "  # Mark the run as finished\n",
        "  wandb.finish()"
      ]
    },
    {
      "cell_type": "markdown",
      "source": [
        "## Hyperparameter Optimization Sweeps with WandB:"
      ],
      "metadata": {
        "id": "q74OloUPbsCP"
      }
    },
    {
      "cell_type": "code",
      "source": [
        "def set_batch_norm(boolean_flag):\n",
        "    if boolean_flag == True:\n",
        "        additional_layer = nn.BatchNorm1d\n",
        "\n",
        "    else:\n",
        "        additional_layer = nn.Identity\n",
        "\n",
        "    return additional_layer"
      ],
      "metadata": {
        "id": "qcYuceoC-7fj"
      },
      "execution_count": null,
      "outputs": []
    },
    {
      "cell_type": "code",
      "source": [
        "# a function that interprets the correct pytorch activation function from the name inputted as a string -> needed for the hyperparameter sweep stage\n",
        "def choose_activation(name):\n",
        "    if name == \"Relu\":\n",
        "        activation = ReLU()\n",
        "\n",
        "    elif name == \"LeakyRelu\":\n",
        "        activation = LeakyReLU()\n",
        "\n",
        "    elif name == \"Sigmoid\":\n",
        "        activation = Sigmoid()\n",
        "\n",
        "    return activation"
      ],
      "metadata": {
        "id": "pG6Pcjjr__wh"
      },
      "execution_count": null,
      "outputs": []
    },
    {
      "cell_type": "code",
      "source": [
        "sweep_configuration = {\n",
        "    'method': 'grid',\n",
        "    'name': 'sweep',\n",
        "    'metric': {\n",
        "        'goal': 'minimize', \n",
        "        'name': 'test_loss'\n",
        "        },\n",
        "    'parameters': {'lr':  {'values': [0.0001, 0.001, 0.01, 0.1]},\n",
        "                   'KL_weight':  {'values': [0.0001, 0.0005, 0.001, 0.005, 0.01, 0.05, 0.1, 0.5, 1]},\n",
        "                   'batch_norm': {'values': [True, False]},\n",
        "                   'activation': {'values': [\"Relu\", \"LeakyRelu\", \"Sigmoid\"]}\n",
        "                  }\n",
        "}"
      ],
      "metadata": {
        "id": "VsQaGF5CWyK1"
      },
      "execution_count": null,
      "outputs": []
    },
    {
      "cell_type": "code",
      "source": [
        "import pprint\n",
        "pprint.pprint(sweep_configuration)"
      ],
      "metadata": {
        "colab": {
          "base_uri": "https://localhost:8080/"
        },
        "id": "GGcpegzwWy5U",
        "outputId": "177d5272-c278-435e-803e-7134246f698a"
      },
      "execution_count": null,
      "outputs": [
        {
          "output_type": "stream",
          "name": "stdout",
          "text": [
            "{'method': 'grid',\n",
            " 'metric': {'goal': 'minimize', 'name': 'test_loss'},\n",
            " 'name': 'sweep',\n",
            " 'parameters': {'KL_weight': {'values': [0.0001,\n",
            "                                         0.0005,\n",
            "                                         0.001,\n",
            "                                         0.005,\n",
            "                                         0.01,\n",
            "                                         0.05,\n",
            "                                         0.1,\n",
            "                                         0.5,\n",
            "                                         1]},\n",
            "                'activation': {'values': ['Relu', 'LeakyRelu', 'Sigmoid']},\n",
            "                'batch_norm': {'values': [True, False]},\n",
            "                'lr': {'values': [0.0001, 0.001, 0.01, 0.1]}}}\n"
          ]
        }
      ]
    },
    {
      "cell_type": "code",
      "source": [
        "def main():\n",
        "    wandb.init(project=\"VAE_FYP_Optimization1\")\n",
        "\n",
        "    \n",
        "    batch_norm_layer = set_batch_norm(boolean_flag=wandb.config.batch_norm)\n",
        "    activation = choose_activation(wandb.config.activation)\n",
        "\n",
        "    device = torch.device('cuda' if torch.cuda.is_available() else 'cpu')\n",
        "    model = Autoencoder(dimen_input, H=70, H2=12,latent_dim=1, activation=activation, inbetween_layer=batch_norm_layer).to(device)\n",
        "    optimizer = torch.optim.Adam(model.parameters(), lr=wandb.config.lr) \n",
        "\n",
        "\n",
        "    #scheduler = optim.lr_scheduler.StepLR(optimizer, step_size=400, gamma=0.1)\n",
        "\n",
        "    for epoch in range(1, 800 + 1): #iterating for the specified number of epochs\n",
        "        train_loss = train(epoch, trainloader, model, optimizer, customized_loss_individual, train_losses, True, KL_weight= wandb.config.KL_weight)\n",
        "        test_loss = test(epoch, testloader, model, optimizer, customized_loss_individual, test_losses, True, KL_weight= wandb.config.KL_weight)\n",
        "        #scheduler.step()\n",
        "\n",
        "        wandb.log({\"Epoch\": epoch})\n",
        "        wandb.log({\"train loss\": train_loss})\n",
        "        wandb.log({\"test loss\": test_loss})"
      ],
      "metadata": {
        "id": "JtuOI3hTW7xz"
      },
      "execution_count": null,
      "outputs": []
    },
    {
      "cell_type": "code",
      "source": [
        "sweep_id = wandb.sweep(sweep=sweep_configuration, project=\"VAE_FYP_Optimization1\")"
      ],
      "metadata": {
        "colab": {
          "base_uri": "https://localhost:8080/"
        },
        "id": "M3sAe7xfW_YM",
        "outputId": "5a0a897d-304a-440e-d50b-b318a51cea6d"
      },
      "execution_count": null,
      "outputs": [
        {
          "output_type": "stream",
          "name": "stdout",
          "text": [
            "Create sweep with ID: 1kc9nqf7\n",
            "Sweep URL: https://wandb.ai/mae28/VAE_FYP_Optimization1/sweeps/1kc9nqf7\n"
          ]
        }
      ]
    },
    {
      "cell_type": "code",
      "source": [
        "wandb.agent(sweep_id, function=main, count=1)"
      ],
      "metadata": {
        "colab": {
          "base_uri": "https://localhost:8080/",
          "height": 1000
        },
        "id": "ZP3z3ZIVXBqE",
        "outputId": "f795a928-2632-49ca-9977-6198fb797107"
      },
      "execution_count": null,
      "outputs": [
        {
          "output_type": "stream",
          "name": "stderr",
          "text": [
            "\u001b[34m\u001b[1mwandb\u001b[0m: Agent Starting Run: 44mi8t6q with config:\n",
            "\u001b[34m\u001b[1mwandb\u001b[0m: \tKL_weight: 0.1\n",
            "\u001b[34m\u001b[1mwandb\u001b[0m: \tactivation: Relu\n",
            "\u001b[34m\u001b[1mwandb\u001b[0m: \tbatch_norm: False\n",
            "\u001b[34m\u001b[1mwandb\u001b[0m: \tlr: 0.01\n",
            "\u001b[34m\u001b[1mwandb\u001b[0m: \u001b[33mWARNING\u001b[0m Ignored wandb.init() arg project when running a sweep.\n"
          ]
        },
        {
          "output_type": "display_data",
          "data": {
            "text/plain": [
              "<IPython.core.display.HTML object>"
            ],
            "text/html": [
              "Tracking run with wandb version 0.14.0"
            ]
          },
          "metadata": {}
        },
        {
          "output_type": "display_data",
          "data": {
            "text/plain": [
              "<IPython.core.display.HTML object>"
            ],
            "text/html": [
              "Run data is saved locally in <code>/content/drive/MyDrive/ColabNotebooks/Final-Year-Project/wandb/run-20230405_171441-44mi8t6q</code>"
            ]
          },
          "metadata": {}
        },
        {
          "output_type": "display_data",
          "data": {
            "text/plain": [
              "<IPython.core.display.HTML object>"
            ],
            "text/html": [
              "Syncing run <strong><a href='https://wandb.ai/mae28/VAE_FYP_Optimization1/runs/44mi8t6q' target=\"_blank\">fancy-sweep-151</a></strong> to <a href='https://wandb.ai/mae28/VAE_FYP_Optimization1' target=\"_blank\">Weights & Biases</a> (<a href='https://wandb.me/run' target=\"_blank\">docs</a>)<br/>Sweep page: <a href='https://wandb.ai/mae28/VAE_FYP_Optimization1/sweeps/1kc9nqf7' target=\"_blank\">https://wandb.ai/mae28/VAE_FYP_Optimization1/sweeps/1kc9nqf7</a>"
            ]
          },
          "metadata": {}
        },
        {
          "output_type": "display_data",
          "data": {
            "text/plain": [
              "<IPython.core.display.HTML object>"
            ],
            "text/html": [
              " View project at <a href='https://wandb.ai/mae28/VAE_FYP_Optimization1' target=\"_blank\">https://wandb.ai/mae28/VAE_FYP_Optimization1</a>"
            ]
          },
          "metadata": {}
        },
        {
          "output_type": "display_data",
          "data": {
            "text/plain": [
              "<IPython.core.display.HTML object>"
            ],
            "text/html": [
              " View sweep at <a href='https://wandb.ai/mae28/VAE_FYP_Optimization1/sweeps/1kc9nqf7' target=\"_blank\">https://wandb.ai/mae28/VAE_FYP_Optimization1/sweeps/1kc9nqf7</a>"
            ]
          },
          "metadata": {}
        },
        {
          "output_type": "display_data",
          "data": {
            "text/plain": [
              "<IPython.core.display.HTML object>"
            ],
            "text/html": [
              " View run at <a href='https://wandb.ai/mae28/VAE_FYP_Optimization1/runs/44mi8t6q' target=\"_blank\">https://wandb.ai/mae28/VAE_FYP_Optimization1/runs/44mi8t6q</a>"
            ]
          },
          "metadata": {}
        },
        {
          "output_type": "stream",
          "name": "stdout",
          "text": [
            "====> Epoch: 50    Average training loss: 0.2232   Gaussian training loss: 0.2232    KL training divergence: 0.0000 \n",
            "====> Epoch: 50    Average test loss: 0.1927       Gaussian test loss: 0.1927       KL test divergence: 0.0000\n",
            "====> Epoch: 100    Average training loss: 0.2230   Gaussian training loss: 0.2230    KL training divergence: 0.0000 \n",
            "====> Epoch: 100    Average test loss: 0.1923       Gaussian test loss: 0.1923       KL test divergence: 0.0000\n",
            "====> Epoch: 150    Average training loss: 0.2229   Gaussian training loss: 0.2229    KL training divergence: 0.0000 \n",
            "====> Epoch: 150    Average test loss: 0.1924       Gaussian test loss: 0.1924       KL test divergence: 0.0000\n",
            "====> Epoch: 200    Average training loss: 0.2229   Gaussian training loss: 0.2229    KL training divergence: 0.0000 \n",
            "====> Epoch: 200    Average test loss: 0.1924       Gaussian test loss: 0.1924       KL test divergence: -0.0000\n",
            "====> Epoch: 250    Average training loss: 0.2229   Gaussian training loss: 0.2229    KL training divergence: 0.0000 \n",
            "====> Epoch: 250    Average test loss: 0.1924       Gaussian test loss: 0.1924       KL test divergence: 0.0000\n",
            "====> Epoch: 300    Average training loss: 0.2228   Gaussian training loss: 0.2228    KL training divergence: -0.0000 \n",
            "====> Epoch: 300    Average test loss: 0.1924       Gaussian test loss: 0.1924       KL test divergence: -0.0000\n",
            "====> Epoch: 350    Average training loss: 0.2228   Gaussian training loss: 0.2228    KL training divergence: -0.0000 \n",
            "====> Epoch: 350    Average test loss: 0.1923       Gaussian test loss: 0.1923       KL test divergence: -0.0000\n",
            "====> Epoch: 400    Average training loss: 0.2228   Gaussian training loss: 0.2228    KL training divergence: -0.0000 \n",
            "====> Epoch: 400    Average test loss: 0.1923       Gaussian test loss: 0.1923       KL test divergence: -0.0000\n",
            "====> Epoch: 450    Average training loss: 0.2228   Gaussian training loss: 0.2228    KL training divergence: -0.0000 \n",
            "====> Epoch: 450    Average test loss: 0.1923       Gaussian test loss: 0.1923       KL test divergence: -0.0000\n",
            "====> Epoch: 500    Average training loss: 0.2228   Gaussian training loss: 0.2228    KL training divergence: -0.0000 \n",
            "====> Epoch: 500    Average test loss: 0.1923       Gaussian test loss: 0.1923       KL test divergence: -0.0000\n",
            "====> Epoch: 550    Average training loss: 0.2228   Gaussian training loss: 0.2228    KL training divergence: -0.0000 \n",
            "====> Epoch: 550    Average test loss: 0.1923       Gaussian test loss: 0.1923       KL test divergence: -0.0000\n",
            "====> Epoch: 600    Average training loss: 0.2228   Gaussian training loss: 0.2228    KL training divergence: -0.0000 \n",
            "====> Epoch: 600    Average test loss: 0.1923       Gaussian test loss: 0.1923       KL test divergence: -0.0000\n",
            "====> Epoch: 650    Average training loss: 0.2228   Gaussian training loss: 0.2228    KL training divergence: -0.0000 \n",
            "====> Epoch: 650    Average test loss: 0.1923       Gaussian test loss: 0.1923       KL test divergence: -0.0000\n",
            "====> Epoch: 700    Average training loss: 0.2228   Gaussian training loss: 0.2228    KL training divergence: -0.0000 \n",
            "====> Epoch: 700    Average test loss: 0.1923       Gaussian test loss: 0.1923       KL test divergence: -0.0000\n",
            "====> Epoch: 750    Average training loss: 0.2228   Gaussian training loss: 0.2228    KL training divergence: -0.0000 \n",
            "====> Epoch: 750    Average test loss: 0.1923       Gaussian test loss: 0.1923       KL test divergence: -0.0000\n",
            "====> Epoch: 800    Average training loss: 0.2228   Gaussian training loss: 0.2228    KL training divergence: -0.0000 \n",
            "====> Epoch: 800    Average test loss: 0.1923       Gaussian test loss: 0.1923       KL test divergence: -0.0000\n"
          ]
        },
        {
          "output_type": "display_data",
          "data": {
            "text/plain": [
              "<IPython.core.display.HTML object>"
            ],
            "text/html": [
              "Waiting for W&B process to finish... <strong style=\"color:green\">(success).</strong>"
            ]
          },
          "metadata": {}
        },
        {
          "output_type": "display_data",
          "data": {
            "text/plain": [
              "<IPython.core.display.HTML object>"
            ],
            "text/html": [
              "<style>\n",
              "    table.wandb td:nth-child(1) { padding: 0 10px; text-align: left ; width: auto;} td:nth-child(2) {text-align: left ; width: 100%}\n",
              "    .wandb-row { display: flex; flex-direction: row; flex-wrap: wrap; justify-content: flex-start; width: 100% }\n",
              "    .wandb-col { display: flex; flex-direction: column; flex-basis: 100%; flex: 1; padding: 10px; }\n",
              "    </style>\n",
              "<div class=\"wandb-row\"><div class=\"wandb-col\"><h3>Run history:</h3><br/><table class=\"wandb\"><tr><td>Epoch</td><td>▁▁▁▁▂▂▂▂▂▃▃▃▃▃▃▄▄▄▄▄▅▅▅▅▅▅▆▆▆▆▆▇▇▇▇▇▇███</td></tr><tr><td>test loss</td><td>█▂▂▁▁▁▁▁▁▁▁▁▁▁▁▁▁▁▁▁▁▁▁▁▁▁▁▁▁▁▁▁▁▁▁▁▁▁▁▁</td></tr><tr><td>train loss</td><td>█▄▃▃▂▂▂▂▂▂▂▁▁▁▁▁▁▁▁▁▁▁▁▁▁▁▁▁▁▁▁▁▁▁▁▁▁▁▁▁</td></tr></table><br/></div><div class=\"wandb-col\"><h3>Run summary:</h3><br/><table class=\"wandb\"><tr><td>Epoch</td><td>800</td></tr><tr><td>test loss</td><td>0.19232</td></tr><tr><td>train loss</td><td>0.22276</td></tr></table><br/></div></div>"
            ]
          },
          "metadata": {}
        },
        {
          "output_type": "display_data",
          "data": {
            "text/plain": [
              "<IPython.core.display.HTML object>"
            ],
            "text/html": [
              " View run <strong style=\"color:#cdcd00\">fancy-sweep-151</strong> at: <a href='https://wandb.ai/mae28/VAE_FYP_Optimization1/runs/44mi8t6q' target=\"_blank\">https://wandb.ai/mae28/VAE_FYP_Optimization1/runs/44mi8t6q</a><br/>Synced 5 W&B file(s), 0 media file(s), 0 artifact file(s) and 0 other file(s)"
            ]
          },
          "metadata": {}
        },
        {
          "output_type": "display_data",
          "data": {
            "text/plain": [
              "<IPython.core.display.HTML object>"
            ],
            "text/html": [
              "Find logs at: <code>./wandb/run-20230405_171441-44mi8t6q/logs</code>"
            ]
          },
          "metadata": {}
        }
      ]
    },
    {
      "cell_type": "markdown",
      "metadata": {
        "id": "S7XUIqy4uJwQ"
      },
      "source": [
        "## Evaluating the Reconstructed Results of Trained VAE:"
      ]
    },
    {
      "cell_type": "code",
      "source": [
        "def get_dataloader_predictions(dataloader, model, optimizer, scaler_fitted):\n",
        "\n",
        "  real_rows_list = []\n",
        "  recon_rows_list = []\n",
        "\n",
        "  # encoding the test data using the trained model's weights\n",
        "  with torch.no_grad():\n",
        "      for batch_idx, batch_data in enumerate(dataloader):\n",
        "          batch_data = batch_data.to(device)\n",
        "          optimizer.zero_grad()\n",
        "\n",
        "          # retransforming and scaling the real batches\n",
        "          for i in range(len(batch_data)):\n",
        "            real_row = np.reshape(batch_data[i].cpu(), (1,-1))\n",
        "            real_row = scaler_fitted.inverse_transform(real_row.numpy())\n",
        "            real_rows_list.append(np.round(real_row,0))\n",
        "\n",
        "          recon_batch, mu, logvar, recon_logvar = model(batch_data) #inputting the test batch into the trained model\n",
        "\n",
        "          # retransforming and scaling the reconstructed batches\n",
        "          for i in range(len(recon_batch)):\n",
        "            recon_row = np.reshape(recon_batch[i].cpu(), (1,-1))\n",
        "            recon_row = scaler_fitted.inverse_transform(recon_row.numpy())\n",
        "            recon_rows_list.append(np.round(recon_row,0))\n",
        "\n",
        "  return  real_rows_list, recon_rows_list  "
      ],
      "metadata": {
        "id": "rEyRB4CpROoD"
      },
      "execution_count": null,
      "outputs": []
    },
    {
      "cell_type": "code",
      "source": [
        "#A function that computes the difference between each element pair (real, reconstructed)\n",
        "\n",
        "def error_diff(real_rows_list, recon_rows_list):\n",
        "  zip_real_recon = list(zip(real_rows_list, recon_rows_list))\n",
        "  error_diff_pairs = []\n",
        "\n",
        "  for i in range(len(zip_real_recon)):\n",
        "    curr_pair = zip_real_recon[i]\n",
        "    curr_real = curr_pair[0][0]\n",
        "    curr_recon = curr_pair[1][0]\n",
        "    new_list = []\n",
        "    error_diff_pairs.append(new_list)\n",
        "\n",
        "    for j in range(len(curr_real)):\n",
        "      val_real = curr_real[j]\n",
        "      val_recon = curr_recon[j]\n",
        "      error_diff_pairs[i].append(abs(val_recon - val_real))\n",
        "\n",
        "  return error_diff_pairs"
      ],
      "metadata": {
        "id": "iZbiehX7LCbl"
      },
      "execution_count": null,
      "outputs": []
    },
    {
      "cell_type": "code",
      "source": [
        "def make_df(real_rows_list, recon_rows_list ):\n",
        "  \n",
        "  # zipping real with reconstructed row for each item in the test batch\n",
        "  orig_recon_zip = zip(real_rows_list, recon_rows_list )\n",
        "  orig_recon = list(orig_recon_zip)\n",
        "\n",
        "  df = pd.DataFrame(data=orig_recon, columns=['Real Row', 'Reconstructed Row'])\n",
        "\n",
        "  return df"
      ],
      "metadata": {
        "id": "QN9sQCWoye0R"
      },
      "execution_count": null,
      "outputs": []
    },
    {
      "cell_type": "markdown",
      "source": [
        "### Training Data - Predictions:"
      ],
      "metadata": {
        "id": "06s5Z0EPLI4F"
      }
    },
    {
      "cell_type": "code",
      "source": [
        "# THE PREDICTIONS ON THE TRAINING DATA:\n",
        "real_rows_list_train, recon_rows_list_train = get_dataloader_predictions(trainloader, model_vae, optimizer, scaler_fitted)\n",
        "train_real_recon_df = make_df(real_rows_list_train, recon_rows_list_train)\n",
        "display(train_real_recon_df)"
      ],
      "metadata": {
        "id": "4r7Elh_mB9Wq",
        "colab": {
          "base_uri": "https://localhost:8080/",
          "height": 613
        },
        "outputId": "314b584b-1db6-4917-8a1d-e6df48cdd728"
      },
      "execution_count": null,
      "outputs": [
        {
          "output_type": "display_data",
          "data": {
            "text/plain": [
              "                      Real Row           Reconstructed Row\n",
              "0   [[7493.0, 4851.0, 5126.0]]  [[7522.0, 4410.0, 4437.0]]\n",
              "1   [[7446.0, 3891.0, 4059.0]]  [[7420.0, 4335.0, 4414.0]]\n",
              "2   [[5611.0, 3292.0, 4365.0]]  [[4821.0, 2886.0, 4018.0]]\n",
              "3   [[7953.0, 5117.0, 4994.0]]  [[7928.0, 4726.0, 4553.0]]\n",
              "4   [[6506.0, 4476.0, 5448.0]]  [[6517.0, 3864.0, 4352.0]]\n",
              "5   [[6736.0, 3730.0, 3685.0]]  [[6714.0, 3945.0, 4351.0]]\n",
              "6   [[5544.0, 3278.0, 4584.0]]  [[5540.0, 3253.0, 4119.0]]\n",
              "7   [[6791.0, 3825.0, 3785.0]]  [[6789.0, 3878.0, 4181.0]]\n",
              "8   [[6997.0, 4336.0, 4433.0]]  [[7557.0, 4548.0, 4598.0]]\n",
              "9   [[5529.0, 2854.0, 3454.0]]  [[5483.0, 3224.0, 4116.0]]\n",
              "10  [[6107.0, 3898.0, 4319.0]]  [[6120.0, 3531.0, 4137.0]]\n",
              "11  [[5198.0, 3449.0, 4953.0]]  [[5284.0, 3121.0, 4101.0]]\n",
              "12  [[4883.0, 2620.0, 3801.0]]  [[4947.0, 2927.0, 4078.0]]\n",
              "13  [[6736.0, 3730.0, 3685.0]]  [[6717.0, 3822.0, 4190.0]]\n",
              "14  [[4527.0, 2640.0, 3845.0]]  [[4882.0, 2887.0, 4057.0]]\n",
              "15  [[6186.0, 3173.0, 3702.0]]  [[6161.0, 3562.0, 4191.0]]\n",
              "16  [[8180.0, 4656.0, 4377.0]]  [[8051.0, 4804.0, 4579.0]]\n",
              "17  [[7292.0, 4133.0, 4334.0]]  [[7308.0, 4214.0, 4315.0]]"
            ],
            "text/html": [
              "\n",
              "  <div id=\"df-0bcfd85d-a058-4846-a1df-1740e4ea15ac\">\n",
              "    <div class=\"colab-df-container\">\n",
              "      <div>\n",
              "<style scoped>\n",
              "    .dataframe tbody tr th:only-of-type {\n",
              "        vertical-align: middle;\n",
              "    }\n",
              "\n",
              "    .dataframe tbody tr th {\n",
              "        vertical-align: top;\n",
              "    }\n",
              "\n",
              "    .dataframe thead th {\n",
              "        text-align: right;\n",
              "    }\n",
              "</style>\n",
              "<table border=\"1\" class=\"dataframe\">\n",
              "  <thead>\n",
              "    <tr style=\"text-align: right;\">\n",
              "      <th></th>\n",
              "      <th>Real Row</th>\n",
              "      <th>Reconstructed Row</th>\n",
              "    </tr>\n",
              "  </thead>\n",
              "  <tbody>\n",
              "    <tr>\n",
              "      <th>0</th>\n",
              "      <td>[[7493.0, 4851.0, 5126.0]]</td>\n",
              "      <td>[[7522.0, 4410.0, 4437.0]]</td>\n",
              "    </tr>\n",
              "    <tr>\n",
              "      <th>1</th>\n",
              "      <td>[[7446.0, 3891.0, 4059.0]]</td>\n",
              "      <td>[[7420.0, 4335.0, 4414.0]]</td>\n",
              "    </tr>\n",
              "    <tr>\n",
              "      <th>2</th>\n",
              "      <td>[[5611.0, 3292.0, 4365.0]]</td>\n",
              "      <td>[[4821.0, 2886.0, 4018.0]]</td>\n",
              "    </tr>\n",
              "    <tr>\n",
              "      <th>3</th>\n",
              "      <td>[[7953.0, 5117.0, 4994.0]]</td>\n",
              "      <td>[[7928.0, 4726.0, 4553.0]]</td>\n",
              "    </tr>\n",
              "    <tr>\n",
              "      <th>4</th>\n",
              "      <td>[[6506.0, 4476.0, 5448.0]]</td>\n",
              "      <td>[[6517.0, 3864.0, 4352.0]]</td>\n",
              "    </tr>\n",
              "    <tr>\n",
              "      <th>5</th>\n",
              "      <td>[[6736.0, 3730.0, 3685.0]]</td>\n",
              "      <td>[[6714.0, 3945.0, 4351.0]]</td>\n",
              "    </tr>\n",
              "    <tr>\n",
              "      <th>6</th>\n",
              "      <td>[[5544.0, 3278.0, 4584.0]]</td>\n",
              "      <td>[[5540.0, 3253.0, 4119.0]]</td>\n",
              "    </tr>\n",
              "    <tr>\n",
              "      <th>7</th>\n",
              "      <td>[[6791.0, 3825.0, 3785.0]]</td>\n",
              "      <td>[[6789.0, 3878.0, 4181.0]]</td>\n",
              "    </tr>\n",
              "    <tr>\n",
              "      <th>8</th>\n",
              "      <td>[[6997.0, 4336.0, 4433.0]]</td>\n",
              "      <td>[[7557.0, 4548.0, 4598.0]]</td>\n",
              "    </tr>\n",
              "    <tr>\n",
              "      <th>9</th>\n",
              "      <td>[[5529.0, 2854.0, 3454.0]]</td>\n",
              "      <td>[[5483.0, 3224.0, 4116.0]]</td>\n",
              "    </tr>\n",
              "    <tr>\n",
              "      <th>10</th>\n",
              "      <td>[[6107.0, 3898.0, 4319.0]]</td>\n",
              "      <td>[[6120.0, 3531.0, 4137.0]]</td>\n",
              "    </tr>\n",
              "    <tr>\n",
              "      <th>11</th>\n",
              "      <td>[[5198.0, 3449.0, 4953.0]]</td>\n",
              "      <td>[[5284.0, 3121.0, 4101.0]]</td>\n",
              "    </tr>\n",
              "    <tr>\n",
              "      <th>12</th>\n",
              "      <td>[[4883.0, 2620.0, 3801.0]]</td>\n",
              "      <td>[[4947.0, 2927.0, 4078.0]]</td>\n",
              "    </tr>\n",
              "    <tr>\n",
              "      <th>13</th>\n",
              "      <td>[[6736.0, 3730.0, 3685.0]]</td>\n",
              "      <td>[[6717.0, 3822.0, 4190.0]]</td>\n",
              "    </tr>\n",
              "    <tr>\n",
              "      <th>14</th>\n",
              "      <td>[[4527.0, 2640.0, 3845.0]]</td>\n",
              "      <td>[[4882.0, 2887.0, 4057.0]]</td>\n",
              "    </tr>\n",
              "    <tr>\n",
              "      <th>15</th>\n",
              "      <td>[[6186.0, 3173.0, 3702.0]]</td>\n",
              "      <td>[[6161.0, 3562.0, 4191.0]]</td>\n",
              "    </tr>\n",
              "    <tr>\n",
              "      <th>16</th>\n",
              "      <td>[[8180.0, 4656.0, 4377.0]]</td>\n",
              "      <td>[[8051.0, 4804.0, 4579.0]]</td>\n",
              "    </tr>\n",
              "    <tr>\n",
              "      <th>17</th>\n",
              "      <td>[[7292.0, 4133.0, 4334.0]]</td>\n",
              "      <td>[[7308.0, 4214.0, 4315.0]]</td>\n",
              "    </tr>\n",
              "  </tbody>\n",
              "</table>\n",
              "</div>\n",
              "      <button class=\"colab-df-convert\" onclick=\"convertToInteractive('df-0bcfd85d-a058-4846-a1df-1740e4ea15ac')\"\n",
              "              title=\"Convert this dataframe to an interactive table.\"\n",
              "              style=\"display:none;\">\n",
              "        \n",
              "  <svg xmlns=\"http://www.w3.org/2000/svg\" height=\"24px\"viewBox=\"0 0 24 24\"\n",
              "       width=\"24px\">\n",
              "    <path d=\"M0 0h24v24H0V0z\" fill=\"none\"/>\n",
              "    <path d=\"M18.56 5.44l.94 2.06.94-2.06 2.06-.94-2.06-.94-.94-2.06-.94 2.06-2.06.94zm-11 1L8.5 8.5l.94-2.06 2.06-.94-2.06-.94L8.5 2.5l-.94 2.06-2.06.94zm10 10l.94 2.06.94-2.06 2.06-.94-2.06-.94-.94-2.06-.94 2.06-2.06.94z\"/><path d=\"M17.41 7.96l-1.37-1.37c-.4-.4-.92-.59-1.43-.59-.52 0-1.04.2-1.43.59L10.3 9.45l-7.72 7.72c-.78.78-.78 2.05 0 2.83L4 21.41c.39.39.9.59 1.41.59.51 0 1.02-.2 1.41-.59l7.78-7.78 2.81-2.81c.8-.78.8-2.07 0-2.86zM5.41 20L4 18.59l7.72-7.72 1.47 1.35L5.41 20z\"/>\n",
              "  </svg>\n",
              "      </button>\n",
              "      \n",
              "  <style>\n",
              "    .colab-df-container {\n",
              "      display:flex;\n",
              "      flex-wrap:wrap;\n",
              "      gap: 12px;\n",
              "    }\n",
              "\n",
              "    .colab-df-convert {\n",
              "      background-color: #E8F0FE;\n",
              "      border: none;\n",
              "      border-radius: 50%;\n",
              "      cursor: pointer;\n",
              "      display: none;\n",
              "      fill: #1967D2;\n",
              "      height: 32px;\n",
              "      padding: 0 0 0 0;\n",
              "      width: 32px;\n",
              "    }\n",
              "\n",
              "    .colab-df-convert:hover {\n",
              "      background-color: #E2EBFA;\n",
              "      box-shadow: 0px 1px 2px rgba(60, 64, 67, 0.3), 0px 1px 3px 1px rgba(60, 64, 67, 0.15);\n",
              "      fill: #174EA6;\n",
              "    }\n",
              "\n",
              "    [theme=dark] .colab-df-convert {\n",
              "      background-color: #3B4455;\n",
              "      fill: #D2E3FC;\n",
              "    }\n",
              "\n",
              "    [theme=dark] .colab-df-convert:hover {\n",
              "      background-color: #434B5C;\n",
              "      box-shadow: 0px 1px 3px 1px rgba(0, 0, 0, 0.15);\n",
              "      filter: drop-shadow(0px 1px 2px rgba(0, 0, 0, 0.3));\n",
              "      fill: #FFFFFF;\n",
              "    }\n",
              "  </style>\n",
              "\n",
              "      <script>\n",
              "        const buttonEl =\n",
              "          document.querySelector('#df-0bcfd85d-a058-4846-a1df-1740e4ea15ac button.colab-df-convert');\n",
              "        buttonEl.style.display =\n",
              "          google.colab.kernel.accessAllowed ? 'block' : 'none';\n",
              "\n",
              "        async function convertToInteractive(key) {\n",
              "          const element = document.querySelector('#df-0bcfd85d-a058-4846-a1df-1740e4ea15ac');\n",
              "          const dataTable =\n",
              "            await google.colab.kernel.invokeFunction('convertToInteractive',\n",
              "                                                     [key], {});\n",
              "          if (!dataTable) return;\n",
              "\n",
              "          const docLinkHtml = 'Like what you see? Visit the ' +\n",
              "            '<a target=\"_blank\" href=https://colab.research.google.com/notebooks/data_table.ipynb>data table notebook</a>'\n",
              "            + ' to learn more about interactive tables.';\n",
              "          element.innerHTML = '';\n",
              "          dataTable['output_type'] = 'display_data';\n",
              "          await google.colab.output.renderOutput(dataTable, element);\n",
              "          const docLink = document.createElement('div');\n",
              "          docLink.innerHTML = docLinkHtml;\n",
              "          element.appendChild(docLink);\n",
              "        }\n",
              "      </script>\n",
              "    </div>\n",
              "  </div>\n",
              "  "
            ]
          },
          "metadata": {}
        }
      ]
    },
    {
      "cell_type": "code",
      "source": [
        "# saving the dataframe of the real and reconstructions for the training data:\n",
        "train_real_recon_df.to_csv('train_real_recon_df_vae.csv') "
      ],
      "metadata": {
        "id": "4F1wGFuWb3XX"
      },
      "execution_count": null,
      "outputs": []
    },
    {
      "cell_type": "code",
      "source": [
        "#Displaying the absolute differences in prediction for each of the tools \n",
        "train_diff_df = pd.DataFrame(error_diff(real_rows_list_train, recon_rows_list_train), columns=['FS', 'SNT', 'MAPER'])\n",
        "train_diff_df.style.set_caption(\"Absolute Differences between Training Real and Reconstruction\")\n",
        "display(train_diff_df)"
      ],
      "metadata": {
        "id": "pW_EcgiELFZe",
        "colab": {
          "base_uri": "https://localhost:8080/",
          "height": 613
        },
        "outputId": "ec630b4e-a398-4750-9715-45ae2bf8ec5e"
      },
      "execution_count": null,
      "outputs": [
        {
          "output_type": "display_data",
          "data": {
            "text/plain": [
              "       FS    SNT   MAPER\n",
              "0    29.0  441.0   689.0\n",
              "1    26.0  444.0   355.0\n",
              "2   790.0  406.0   347.0\n",
              "3    25.0  391.0   441.0\n",
              "4    11.0  612.0  1096.0\n",
              "5    22.0  215.0   666.0\n",
              "6     4.0   25.0   465.0\n",
              "7     2.0   53.0   396.0\n",
              "8   560.0  212.0   165.0\n",
              "9    46.0  370.0   662.0\n",
              "10   13.0  367.0   182.0\n",
              "11   86.0  328.0   852.0\n",
              "12   64.0  307.0   277.0\n",
              "13   19.0   92.0   505.0\n",
              "14  355.0  247.0   212.0\n",
              "15   25.0  389.0   489.0\n",
              "16  129.0  148.0   202.0\n",
              "17   16.0   81.0    19.0"
            ],
            "text/html": [
              "\n",
              "  <div id=\"df-81b77826-9d54-45d3-ae1d-4796051d4347\">\n",
              "    <div class=\"colab-df-container\">\n",
              "      <div>\n",
              "<style scoped>\n",
              "    .dataframe tbody tr th:only-of-type {\n",
              "        vertical-align: middle;\n",
              "    }\n",
              "\n",
              "    .dataframe tbody tr th {\n",
              "        vertical-align: top;\n",
              "    }\n",
              "\n",
              "    .dataframe thead th {\n",
              "        text-align: right;\n",
              "    }\n",
              "</style>\n",
              "<table border=\"1\" class=\"dataframe\">\n",
              "  <thead>\n",
              "    <tr style=\"text-align: right;\">\n",
              "      <th></th>\n",
              "      <th>FS</th>\n",
              "      <th>SNT</th>\n",
              "      <th>MAPER</th>\n",
              "    </tr>\n",
              "  </thead>\n",
              "  <tbody>\n",
              "    <tr>\n",
              "      <th>0</th>\n",
              "      <td>29.0</td>\n",
              "      <td>441.0</td>\n",
              "      <td>689.0</td>\n",
              "    </tr>\n",
              "    <tr>\n",
              "      <th>1</th>\n",
              "      <td>26.0</td>\n",
              "      <td>444.0</td>\n",
              "      <td>355.0</td>\n",
              "    </tr>\n",
              "    <tr>\n",
              "      <th>2</th>\n",
              "      <td>790.0</td>\n",
              "      <td>406.0</td>\n",
              "      <td>347.0</td>\n",
              "    </tr>\n",
              "    <tr>\n",
              "      <th>3</th>\n",
              "      <td>25.0</td>\n",
              "      <td>391.0</td>\n",
              "      <td>441.0</td>\n",
              "    </tr>\n",
              "    <tr>\n",
              "      <th>4</th>\n",
              "      <td>11.0</td>\n",
              "      <td>612.0</td>\n",
              "      <td>1096.0</td>\n",
              "    </tr>\n",
              "    <tr>\n",
              "      <th>5</th>\n",
              "      <td>22.0</td>\n",
              "      <td>215.0</td>\n",
              "      <td>666.0</td>\n",
              "    </tr>\n",
              "    <tr>\n",
              "      <th>6</th>\n",
              "      <td>4.0</td>\n",
              "      <td>25.0</td>\n",
              "      <td>465.0</td>\n",
              "    </tr>\n",
              "    <tr>\n",
              "      <th>7</th>\n",
              "      <td>2.0</td>\n",
              "      <td>53.0</td>\n",
              "      <td>396.0</td>\n",
              "    </tr>\n",
              "    <tr>\n",
              "      <th>8</th>\n",
              "      <td>560.0</td>\n",
              "      <td>212.0</td>\n",
              "      <td>165.0</td>\n",
              "    </tr>\n",
              "    <tr>\n",
              "      <th>9</th>\n",
              "      <td>46.0</td>\n",
              "      <td>370.0</td>\n",
              "      <td>662.0</td>\n",
              "    </tr>\n",
              "    <tr>\n",
              "      <th>10</th>\n",
              "      <td>13.0</td>\n",
              "      <td>367.0</td>\n",
              "      <td>182.0</td>\n",
              "    </tr>\n",
              "    <tr>\n",
              "      <th>11</th>\n",
              "      <td>86.0</td>\n",
              "      <td>328.0</td>\n",
              "      <td>852.0</td>\n",
              "    </tr>\n",
              "    <tr>\n",
              "      <th>12</th>\n",
              "      <td>64.0</td>\n",
              "      <td>307.0</td>\n",
              "      <td>277.0</td>\n",
              "    </tr>\n",
              "    <tr>\n",
              "      <th>13</th>\n",
              "      <td>19.0</td>\n",
              "      <td>92.0</td>\n",
              "      <td>505.0</td>\n",
              "    </tr>\n",
              "    <tr>\n",
              "      <th>14</th>\n",
              "      <td>355.0</td>\n",
              "      <td>247.0</td>\n",
              "      <td>212.0</td>\n",
              "    </tr>\n",
              "    <tr>\n",
              "      <th>15</th>\n",
              "      <td>25.0</td>\n",
              "      <td>389.0</td>\n",
              "      <td>489.0</td>\n",
              "    </tr>\n",
              "    <tr>\n",
              "      <th>16</th>\n",
              "      <td>129.0</td>\n",
              "      <td>148.0</td>\n",
              "      <td>202.0</td>\n",
              "    </tr>\n",
              "    <tr>\n",
              "      <th>17</th>\n",
              "      <td>16.0</td>\n",
              "      <td>81.0</td>\n",
              "      <td>19.0</td>\n",
              "    </tr>\n",
              "  </tbody>\n",
              "</table>\n",
              "</div>\n",
              "      <button class=\"colab-df-convert\" onclick=\"convertToInteractive('df-81b77826-9d54-45d3-ae1d-4796051d4347')\"\n",
              "              title=\"Convert this dataframe to an interactive table.\"\n",
              "              style=\"display:none;\">\n",
              "        \n",
              "  <svg xmlns=\"http://www.w3.org/2000/svg\" height=\"24px\"viewBox=\"0 0 24 24\"\n",
              "       width=\"24px\">\n",
              "    <path d=\"M0 0h24v24H0V0z\" fill=\"none\"/>\n",
              "    <path d=\"M18.56 5.44l.94 2.06.94-2.06 2.06-.94-2.06-.94-.94-2.06-.94 2.06-2.06.94zm-11 1L8.5 8.5l.94-2.06 2.06-.94-2.06-.94L8.5 2.5l-.94 2.06-2.06.94zm10 10l.94 2.06.94-2.06 2.06-.94-2.06-.94-.94-2.06-.94 2.06-2.06.94z\"/><path d=\"M17.41 7.96l-1.37-1.37c-.4-.4-.92-.59-1.43-.59-.52 0-1.04.2-1.43.59L10.3 9.45l-7.72 7.72c-.78.78-.78 2.05 0 2.83L4 21.41c.39.39.9.59 1.41.59.51 0 1.02-.2 1.41-.59l7.78-7.78 2.81-2.81c.8-.78.8-2.07 0-2.86zM5.41 20L4 18.59l7.72-7.72 1.47 1.35L5.41 20z\"/>\n",
              "  </svg>\n",
              "      </button>\n",
              "      \n",
              "  <style>\n",
              "    .colab-df-container {\n",
              "      display:flex;\n",
              "      flex-wrap:wrap;\n",
              "      gap: 12px;\n",
              "    }\n",
              "\n",
              "    .colab-df-convert {\n",
              "      background-color: #E8F0FE;\n",
              "      border: none;\n",
              "      border-radius: 50%;\n",
              "      cursor: pointer;\n",
              "      display: none;\n",
              "      fill: #1967D2;\n",
              "      height: 32px;\n",
              "      padding: 0 0 0 0;\n",
              "      width: 32px;\n",
              "    }\n",
              "\n",
              "    .colab-df-convert:hover {\n",
              "      background-color: #E2EBFA;\n",
              "      box-shadow: 0px 1px 2px rgba(60, 64, 67, 0.3), 0px 1px 3px 1px rgba(60, 64, 67, 0.15);\n",
              "      fill: #174EA6;\n",
              "    }\n",
              "\n",
              "    [theme=dark] .colab-df-convert {\n",
              "      background-color: #3B4455;\n",
              "      fill: #D2E3FC;\n",
              "    }\n",
              "\n",
              "    [theme=dark] .colab-df-convert:hover {\n",
              "      background-color: #434B5C;\n",
              "      box-shadow: 0px 1px 3px 1px rgba(0, 0, 0, 0.15);\n",
              "      filter: drop-shadow(0px 1px 2px rgba(0, 0, 0, 0.3));\n",
              "      fill: #FFFFFF;\n",
              "    }\n",
              "  </style>\n",
              "\n",
              "      <script>\n",
              "        const buttonEl =\n",
              "          document.querySelector('#df-81b77826-9d54-45d3-ae1d-4796051d4347 button.colab-df-convert');\n",
              "        buttonEl.style.display =\n",
              "          google.colab.kernel.accessAllowed ? 'block' : 'none';\n",
              "\n",
              "        async function convertToInteractive(key) {\n",
              "          const element = document.querySelector('#df-81b77826-9d54-45d3-ae1d-4796051d4347');\n",
              "          const dataTable =\n",
              "            await google.colab.kernel.invokeFunction('convertToInteractive',\n",
              "                                                     [key], {});\n",
              "          if (!dataTable) return;\n",
              "\n",
              "          const docLinkHtml = 'Like what you see? Visit the ' +\n",
              "            '<a target=\"_blank\" href=https://colab.research.google.com/notebooks/data_table.ipynb>data table notebook</a>'\n",
              "            + ' to learn more about interactive tables.';\n",
              "          element.innerHTML = '';\n",
              "          dataTable['output_type'] = 'display_data';\n",
              "          await google.colab.output.renderOutput(dataTable, element);\n",
              "          const docLink = document.createElement('div');\n",
              "          docLink.innerHTML = docLinkHtml;\n",
              "          element.appendChild(docLink);\n",
              "        }\n",
              "      </script>\n",
              "    </div>\n",
              "  </div>\n",
              "  "
            ]
          },
          "metadata": {}
        }
      ]
    },
    {
      "cell_type": "markdown",
      "source": [
        "### Testing Data - Predictions:"
      ],
      "metadata": {
        "id": "6n55B15RLNbz"
      }
    },
    {
      "cell_type": "code",
      "source": [
        "# THE PREDICTIONS ON THE TESTING DATA:\n",
        "real_rows_list_test, recon_rows_list_test = get_dataloader_predictions(testloader, model_vae, optimizer, scaler_fitted)\n",
        "test_real_recon_df = make_df(real_rows_list_test, recon_rows_list_test)\n",
        "display(test_real_recon_df)"
      ],
      "metadata": {
        "id": "dYhlcaWpdvPg",
        "colab": {
          "base_uri": "https://localhost:8080/",
          "height": 237
        },
        "outputId": "3404ffcb-4513-4a22-bd35-f06fe631da27"
      },
      "execution_count": null,
      "outputs": [
        {
          "output_type": "display_data",
          "data": {
            "text/plain": [
              "                     Real Row           Reconstructed Row\n",
              "0  [[5867.0, 3380.0, 5028.0]]  [[5693.0, 3431.0, 4277.0]]\n",
              "1  [[4730.0, 3035.0, 4534.0]]  [[4815.0, 2873.0, 4023.0]]\n",
              "2  [[7962.0, 4781.0, 5450.0]]  [[8018.0, 4785.0, 4574.0]]\n",
              "3  [[6388.0, 2978.0, 4031.0]]  [[6602.0, 3821.0, 4269.0]]\n",
              "4  [[7223.0, 4287.0, 4796.0]]  [[7162.0, 4127.0, 4316.0]]\n",
              "5  [[7429.0, 4031.0, 4632.0]]  [[7422.0, 4314.0, 4379.0]]"
            ],
            "text/html": [
              "\n",
              "  <div id=\"df-34368745-baf7-4589-bb8d-f460ff6f9f38\">\n",
              "    <div class=\"colab-df-container\">\n",
              "      <div>\n",
              "<style scoped>\n",
              "    .dataframe tbody tr th:only-of-type {\n",
              "        vertical-align: middle;\n",
              "    }\n",
              "\n",
              "    .dataframe tbody tr th {\n",
              "        vertical-align: top;\n",
              "    }\n",
              "\n",
              "    .dataframe thead th {\n",
              "        text-align: right;\n",
              "    }\n",
              "</style>\n",
              "<table border=\"1\" class=\"dataframe\">\n",
              "  <thead>\n",
              "    <tr style=\"text-align: right;\">\n",
              "      <th></th>\n",
              "      <th>Real Row</th>\n",
              "      <th>Reconstructed Row</th>\n",
              "    </tr>\n",
              "  </thead>\n",
              "  <tbody>\n",
              "    <tr>\n",
              "      <th>0</th>\n",
              "      <td>[[5867.0, 3380.0, 5028.0]]</td>\n",
              "      <td>[[5693.0, 3431.0, 4277.0]]</td>\n",
              "    </tr>\n",
              "    <tr>\n",
              "      <th>1</th>\n",
              "      <td>[[4730.0, 3035.0, 4534.0]]</td>\n",
              "      <td>[[4815.0, 2873.0, 4023.0]]</td>\n",
              "    </tr>\n",
              "    <tr>\n",
              "      <th>2</th>\n",
              "      <td>[[7962.0, 4781.0, 5450.0]]</td>\n",
              "      <td>[[8018.0, 4785.0, 4574.0]]</td>\n",
              "    </tr>\n",
              "    <tr>\n",
              "      <th>3</th>\n",
              "      <td>[[6388.0, 2978.0, 4031.0]]</td>\n",
              "      <td>[[6602.0, 3821.0, 4269.0]]</td>\n",
              "    </tr>\n",
              "    <tr>\n",
              "      <th>4</th>\n",
              "      <td>[[7223.0, 4287.0, 4796.0]]</td>\n",
              "      <td>[[7162.0, 4127.0, 4316.0]]</td>\n",
              "    </tr>\n",
              "    <tr>\n",
              "      <th>5</th>\n",
              "      <td>[[7429.0, 4031.0, 4632.0]]</td>\n",
              "      <td>[[7422.0, 4314.0, 4379.0]]</td>\n",
              "    </tr>\n",
              "  </tbody>\n",
              "</table>\n",
              "</div>\n",
              "      <button class=\"colab-df-convert\" onclick=\"convertToInteractive('df-34368745-baf7-4589-bb8d-f460ff6f9f38')\"\n",
              "              title=\"Convert this dataframe to an interactive table.\"\n",
              "              style=\"display:none;\">\n",
              "        \n",
              "  <svg xmlns=\"http://www.w3.org/2000/svg\" height=\"24px\"viewBox=\"0 0 24 24\"\n",
              "       width=\"24px\">\n",
              "    <path d=\"M0 0h24v24H0V0z\" fill=\"none\"/>\n",
              "    <path d=\"M18.56 5.44l.94 2.06.94-2.06 2.06-.94-2.06-.94-.94-2.06-.94 2.06-2.06.94zm-11 1L8.5 8.5l.94-2.06 2.06-.94-2.06-.94L8.5 2.5l-.94 2.06-2.06.94zm10 10l.94 2.06.94-2.06 2.06-.94-2.06-.94-.94-2.06-.94 2.06-2.06.94z\"/><path d=\"M17.41 7.96l-1.37-1.37c-.4-.4-.92-.59-1.43-.59-.52 0-1.04.2-1.43.59L10.3 9.45l-7.72 7.72c-.78.78-.78 2.05 0 2.83L4 21.41c.39.39.9.59 1.41.59.51 0 1.02-.2 1.41-.59l7.78-7.78 2.81-2.81c.8-.78.8-2.07 0-2.86zM5.41 20L4 18.59l7.72-7.72 1.47 1.35L5.41 20z\"/>\n",
              "  </svg>\n",
              "      </button>\n",
              "      \n",
              "  <style>\n",
              "    .colab-df-container {\n",
              "      display:flex;\n",
              "      flex-wrap:wrap;\n",
              "      gap: 12px;\n",
              "    }\n",
              "\n",
              "    .colab-df-convert {\n",
              "      background-color: #E8F0FE;\n",
              "      border: none;\n",
              "      border-radius: 50%;\n",
              "      cursor: pointer;\n",
              "      display: none;\n",
              "      fill: #1967D2;\n",
              "      height: 32px;\n",
              "      padding: 0 0 0 0;\n",
              "      width: 32px;\n",
              "    }\n",
              "\n",
              "    .colab-df-convert:hover {\n",
              "      background-color: #E2EBFA;\n",
              "      box-shadow: 0px 1px 2px rgba(60, 64, 67, 0.3), 0px 1px 3px 1px rgba(60, 64, 67, 0.15);\n",
              "      fill: #174EA6;\n",
              "    }\n",
              "\n",
              "    [theme=dark] .colab-df-convert {\n",
              "      background-color: #3B4455;\n",
              "      fill: #D2E3FC;\n",
              "    }\n",
              "\n",
              "    [theme=dark] .colab-df-convert:hover {\n",
              "      background-color: #434B5C;\n",
              "      box-shadow: 0px 1px 3px 1px rgba(0, 0, 0, 0.15);\n",
              "      filter: drop-shadow(0px 1px 2px rgba(0, 0, 0, 0.3));\n",
              "      fill: #FFFFFF;\n",
              "    }\n",
              "  </style>\n",
              "\n",
              "      <script>\n",
              "        const buttonEl =\n",
              "          document.querySelector('#df-34368745-baf7-4589-bb8d-f460ff6f9f38 button.colab-df-convert');\n",
              "        buttonEl.style.display =\n",
              "          google.colab.kernel.accessAllowed ? 'block' : 'none';\n",
              "\n",
              "        async function convertToInteractive(key) {\n",
              "          const element = document.querySelector('#df-34368745-baf7-4589-bb8d-f460ff6f9f38');\n",
              "          const dataTable =\n",
              "            await google.colab.kernel.invokeFunction('convertToInteractive',\n",
              "                                                     [key], {});\n",
              "          if (!dataTable) return;\n",
              "\n",
              "          const docLinkHtml = 'Like what you see? Visit the ' +\n",
              "            '<a target=\"_blank\" href=https://colab.research.google.com/notebooks/data_table.ipynb>data table notebook</a>'\n",
              "            + ' to learn more about interactive tables.';\n",
              "          element.innerHTML = '';\n",
              "          dataTable['output_type'] = 'display_data';\n",
              "          await google.colab.output.renderOutput(dataTable, element);\n",
              "          const docLink = document.createElement('div');\n",
              "          docLink.innerHTML = docLinkHtml;\n",
              "          element.appendChild(docLink);\n",
              "        }\n",
              "      </script>\n",
              "    </div>\n",
              "  </div>\n",
              "  "
            ]
          },
          "metadata": {}
        }
      ]
    },
    {
      "cell_type": "code",
      "source": [
        "# saving the dataframe of the real and reconstructions for the testing data:\n",
        "train_real_recon_df.to_csv('test_real_recon_df_vae.csv') "
      ],
      "metadata": {
        "id": "Dm42f-yLcfw5"
      },
      "execution_count": null,
      "outputs": []
    },
    {
      "cell_type": "code",
      "source": [
        "#Displaying the absolute differences in prediction for each of the tools \n",
        "\n",
        "train_diff_df = pd.DataFrame(error_diff(real_rows_list_test, recon_rows_list_test), columns=['FS', 'SNT', 'MAPER'])\n",
        "train_diff_df.style.set_caption(\"Absolute Differences between Training Real and Reconstruction\")\n",
        "display(train_diff_df)"
      ],
      "metadata": {
        "id": "18NtGhzEJKFR",
        "colab": {
          "base_uri": "https://localhost:8080/",
          "height": 237
        },
        "outputId": "9bc44ad8-9e34-486f-9b18-259dcf19dbb4"
      },
      "execution_count": null,
      "outputs": [
        {
          "output_type": "display_data",
          "data": {
            "text/plain": [
              "      FS    SNT  MAPER\n",
              "0  174.0   51.0  751.0\n",
              "1   85.0  162.0  511.0\n",
              "2   56.0    4.0  876.0\n",
              "3  214.0  843.0  238.0\n",
              "4   61.0  160.0  480.0\n",
              "5    7.0  283.0  253.0"
            ],
            "text/html": [
              "\n",
              "  <div id=\"df-32af94d0-d19d-4319-b264-c0cb850412af\">\n",
              "    <div class=\"colab-df-container\">\n",
              "      <div>\n",
              "<style scoped>\n",
              "    .dataframe tbody tr th:only-of-type {\n",
              "        vertical-align: middle;\n",
              "    }\n",
              "\n",
              "    .dataframe tbody tr th {\n",
              "        vertical-align: top;\n",
              "    }\n",
              "\n",
              "    .dataframe thead th {\n",
              "        text-align: right;\n",
              "    }\n",
              "</style>\n",
              "<table border=\"1\" class=\"dataframe\">\n",
              "  <thead>\n",
              "    <tr style=\"text-align: right;\">\n",
              "      <th></th>\n",
              "      <th>FS</th>\n",
              "      <th>SNT</th>\n",
              "      <th>MAPER</th>\n",
              "    </tr>\n",
              "  </thead>\n",
              "  <tbody>\n",
              "    <tr>\n",
              "      <th>0</th>\n",
              "      <td>174.0</td>\n",
              "      <td>51.0</td>\n",
              "      <td>751.0</td>\n",
              "    </tr>\n",
              "    <tr>\n",
              "      <th>1</th>\n",
              "      <td>85.0</td>\n",
              "      <td>162.0</td>\n",
              "      <td>511.0</td>\n",
              "    </tr>\n",
              "    <tr>\n",
              "      <th>2</th>\n",
              "      <td>56.0</td>\n",
              "      <td>4.0</td>\n",
              "      <td>876.0</td>\n",
              "    </tr>\n",
              "    <tr>\n",
              "      <th>3</th>\n",
              "      <td>214.0</td>\n",
              "      <td>843.0</td>\n",
              "      <td>238.0</td>\n",
              "    </tr>\n",
              "    <tr>\n",
              "      <th>4</th>\n",
              "      <td>61.0</td>\n",
              "      <td>160.0</td>\n",
              "      <td>480.0</td>\n",
              "    </tr>\n",
              "    <tr>\n",
              "      <th>5</th>\n",
              "      <td>7.0</td>\n",
              "      <td>283.0</td>\n",
              "      <td>253.0</td>\n",
              "    </tr>\n",
              "  </tbody>\n",
              "</table>\n",
              "</div>\n",
              "      <button class=\"colab-df-convert\" onclick=\"convertToInteractive('df-32af94d0-d19d-4319-b264-c0cb850412af')\"\n",
              "              title=\"Convert this dataframe to an interactive table.\"\n",
              "              style=\"display:none;\">\n",
              "        \n",
              "  <svg xmlns=\"http://www.w3.org/2000/svg\" height=\"24px\"viewBox=\"0 0 24 24\"\n",
              "       width=\"24px\">\n",
              "    <path d=\"M0 0h24v24H0V0z\" fill=\"none\"/>\n",
              "    <path d=\"M18.56 5.44l.94 2.06.94-2.06 2.06-.94-2.06-.94-.94-2.06-.94 2.06-2.06.94zm-11 1L8.5 8.5l.94-2.06 2.06-.94-2.06-.94L8.5 2.5l-.94 2.06-2.06.94zm10 10l.94 2.06.94-2.06 2.06-.94-2.06-.94-.94-2.06-.94 2.06-2.06.94z\"/><path d=\"M17.41 7.96l-1.37-1.37c-.4-.4-.92-.59-1.43-.59-.52 0-1.04.2-1.43.59L10.3 9.45l-7.72 7.72c-.78.78-.78 2.05 0 2.83L4 21.41c.39.39.9.59 1.41.59.51 0 1.02-.2 1.41-.59l7.78-7.78 2.81-2.81c.8-.78.8-2.07 0-2.86zM5.41 20L4 18.59l7.72-7.72 1.47 1.35L5.41 20z\"/>\n",
              "  </svg>\n",
              "      </button>\n",
              "      \n",
              "  <style>\n",
              "    .colab-df-container {\n",
              "      display:flex;\n",
              "      flex-wrap:wrap;\n",
              "      gap: 12px;\n",
              "    }\n",
              "\n",
              "    .colab-df-convert {\n",
              "      background-color: #E8F0FE;\n",
              "      border: none;\n",
              "      border-radius: 50%;\n",
              "      cursor: pointer;\n",
              "      display: none;\n",
              "      fill: #1967D2;\n",
              "      height: 32px;\n",
              "      padding: 0 0 0 0;\n",
              "      width: 32px;\n",
              "    }\n",
              "\n",
              "    .colab-df-convert:hover {\n",
              "      background-color: #E2EBFA;\n",
              "      box-shadow: 0px 1px 2px rgba(60, 64, 67, 0.3), 0px 1px 3px 1px rgba(60, 64, 67, 0.15);\n",
              "      fill: #174EA6;\n",
              "    }\n",
              "\n",
              "    [theme=dark] .colab-df-convert {\n",
              "      background-color: #3B4455;\n",
              "      fill: #D2E3FC;\n",
              "    }\n",
              "\n",
              "    [theme=dark] .colab-df-convert:hover {\n",
              "      background-color: #434B5C;\n",
              "      box-shadow: 0px 1px 3px 1px rgba(0, 0, 0, 0.15);\n",
              "      filter: drop-shadow(0px 1px 2px rgba(0, 0, 0, 0.3));\n",
              "      fill: #FFFFFF;\n",
              "    }\n",
              "  </style>\n",
              "\n",
              "      <script>\n",
              "        const buttonEl =\n",
              "          document.querySelector('#df-32af94d0-d19d-4319-b264-c0cb850412af button.colab-df-convert');\n",
              "        buttonEl.style.display =\n",
              "          google.colab.kernel.accessAllowed ? 'block' : 'none';\n",
              "\n",
              "        async function convertToInteractive(key) {\n",
              "          const element = document.querySelector('#df-32af94d0-d19d-4319-b264-c0cb850412af');\n",
              "          const dataTable =\n",
              "            await google.colab.kernel.invokeFunction('convertToInteractive',\n",
              "                                                     [key], {});\n",
              "          if (!dataTable) return;\n",
              "\n",
              "          const docLinkHtml = 'Like what you see? Visit the ' +\n",
              "            '<a target=\"_blank\" href=https://colab.research.google.com/notebooks/data_table.ipynb>data table notebook</a>'\n",
              "            + ' to learn more about interactive tables.';\n",
              "          element.innerHTML = '';\n",
              "          dataTable['output_type'] = 'display_data';\n",
              "          await google.colab.output.renderOutput(dataTable, element);\n",
              "          const docLink = document.createElement('div');\n",
              "          docLink.innerHTML = docLinkHtml;\n",
              "          element.appendChild(docLink);\n",
              "        }\n",
              "      </script>\n",
              "    </div>\n",
              "  </div>\n",
              "  "
            ]
          },
          "metadata": {}
        }
      ]
    },
    {
      "cell_type": "markdown",
      "source": [
        "# Uncertainty in the Latent Dimensions: "
      ],
      "metadata": {
        "id": "tj99gLgaDYxf"
      }
    },
    {
      "cell_type": "markdown",
      "source": [
        "Steps:\n",
        "- convert the logvariances to std \n",
        "- take row-wise sum of the std in the latent dimensions \n",
        "- plot the sum of the latent uncertainties/std against the disease labels \n",
        "- make sure only one example of each patient is shown - use patient ID"
      ],
      "metadata": {
        "id": "jMzgd1TeDjmo"
      }
    },
    {
      "cell_type": "code",
      "source": [
        "# encoding all rows simulating a patient at a time obtaining the compressed latent vectors for each\n",
        "\n",
        "data_full_arr  = np.array(data_standardized)\n",
        "data_full_arr  = data_full_arr.reshape(-1, data_full_arr.shape[1]).astype('float32')\n",
        "\n",
        "dataset_full_tensor = torch.from_numpy(data_full_arr)\n",
        "\n",
        "rows = dataset_full_tensor.to(device)\n",
        "optimizer.zero_grad()\n",
        "mu_encod, logvar_encod = model_vae.encode(rows) #probably want to use the individual log_variances here?"
      ],
      "metadata": {
        "id": "GSLY-B-iC7u5"
      },
      "execution_count": null,
      "outputs": []
    },
    {
      "cell_type": "code",
      "source": [
        "print(logvar_encod)"
      ],
      "metadata": {
        "colab": {
          "base_uri": "https://localhost:8080/"
        },
        "id": "CIFLFpcoDKLZ",
        "outputId": "831ebda9-18f3-4a30-f139-2d2c6dc0a9ea"
      },
      "execution_count": null,
      "outputs": [
        {
          "output_type": "stream",
          "name": "stdout",
          "text": [
            "tensor([[-6.7951],\n",
            "        [-7.2926],\n",
            "        [-7.1945],\n",
            "        [-7.2035],\n",
            "        [-7.1033],\n",
            "        [-6.8996],\n",
            "        [-7.1905],\n",
            "        [-7.0238],\n",
            "        [-6.7567],\n",
            "        [-6.6727],\n",
            "        [-7.0931],\n",
            "        [-7.2966],\n",
            "        [-7.1194],\n",
            "        [-6.5223],\n",
            "        [-6.7486],\n",
            "        [-6.9231],\n",
            "        [-6.9489],\n",
            "        [-6.7532],\n",
            "        [-7.2966],\n",
            "        [-7.1647],\n",
            "        [-7.1689],\n",
            "        [-6.6755],\n",
            "        [-6.7587],\n",
            "        [-6.4713],\n",
            "        [-6.7843],\n",
            "        [-7.1831],\n",
            "        [-7.0747],\n",
            "        [-6.3602],\n",
            "        [-6.6947],\n",
            "        [-7.0894]], device='cuda:0', grad_fn=<AddmmBackward0>)\n"
          ]
        }
      ]
    },
    {
      "cell_type": "code",
      "source": [
        "logvar_encod_reshaped = logvar_encod.cpu().detach().numpy() #converting from log variance to variance to std. \n",
        "latent_rows_std =  [[(np.exp(logvar/2)) for logvar in logvar_row] for logvar_row in logvar_encod_reshaped]\n",
        "df_uncertainties_latent_dim = pd.DataFrame(latent_rows_std)\n"
      ],
      "metadata": {
        "id": "RLzdyCWLDK7_"
      },
      "execution_count": null,
      "outputs": []
    },
    {
      "cell_type": "code",
      "source": [
        "df_uncertainties_latent_dim_ids = df_uncertainties_latent_dim.set_index(df_hippo_volumes_data.columns)\n",
        "df_merged_uncertainty_disease_label = pd.concat([df_uncertainties_latent_dim_ids , pd.DataFrame(df_hippo_volumes_data.loc['Diagnosis'])], axis=1)\n",
        "df_merged_uncertainty_disease_label = df_merged_uncertainty_disease_label.rename(columns={0: \"Latent Uncertainty\"})\n",
        "df_merged_uncertainty_disease_label.head()"
      ],
      "metadata": {
        "colab": {
          "base_uri": "https://localhost:8080/",
          "height": 206
        },
        "id": "xhtY4wKd54sU",
        "outputId": "b31a2778-39f2-48ee-9511-1f643425fd20"
      },
      "execution_count": null,
      "outputs": [
        {
          "output_type": "execute_result",
          "data": {
            "text/plain": [
              "            Latent Uncertainty Diagnosis\n",
              "002_S_0685            0.033455        CN\n",
              "003_S_0981            0.026087        CN\n",
              "003_S_0907            0.027399        CN\n",
              "005_S_0610            0.027276        CN\n",
              "007_S_1222            0.028678        CN"
            ],
            "text/html": [
              "\n",
              "  <div id=\"df-29e3b20e-da5d-403a-ae5d-92ff76c810e7\">\n",
              "    <div class=\"colab-df-container\">\n",
              "      <div>\n",
              "<style scoped>\n",
              "    .dataframe tbody tr th:only-of-type {\n",
              "        vertical-align: middle;\n",
              "    }\n",
              "\n",
              "    .dataframe tbody tr th {\n",
              "        vertical-align: top;\n",
              "    }\n",
              "\n",
              "    .dataframe thead th {\n",
              "        text-align: right;\n",
              "    }\n",
              "</style>\n",
              "<table border=\"1\" class=\"dataframe\">\n",
              "  <thead>\n",
              "    <tr style=\"text-align: right;\">\n",
              "      <th></th>\n",
              "      <th>Latent Uncertainty</th>\n",
              "      <th>Diagnosis</th>\n",
              "    </tr>\n",
              "  </thead>\n",
              "  <tbody>\n",
              "    <tr>\n",
              "      <th>002_S_0685</th>\n",
              "      <td>0.033455</td>\n",
              "      <td>CN</td>\n",
              "    </tr>\n",
              "    <tr>\n",
              "      <th>003_S_0981</th>\n",
              "      <td>0.026087</td>\n",
              "      <td>CN</td>\n",
              "    </tr>\n",
              "    <tr>\n",
              "      <th>003_S_0907</th>\n",
              "      <td>0.027399</td>\n",
              "      <td>CN</td>\n",
              "    </tr>\n",
              "    <tr>\n",
              "      <th>005_S_0610</th>\n",
              "      <td>0.027276</td>\n",
              "      <td>CN</td>\n",
              "    </tr>\n",
              "    <tr>\n",
              "      <th>007_S_1222</th>\n",
              "      <td>0.028678</td>\n",
              "      <td>CN</td>\n",
              "    </tr>\n",
              "  </tbody>\n",
              "</table>\n",
              "</div>\n",
              "      <button class=\"colab-df-convert\" onclick=\"convertToInteractive('df-29e3b20e-da5d-403a-ae5d-92ff76c810e7')\"\n",
              "              title=\"Convert this dataframe to an interactive table.\"\n",
              "              style=\"display:none;\">\n",
              "        \n",
              "  <svg xmlns=\"http://www.w3.org/2000/svg\" height=\"24px\"viewBox=\"0 0 24 24\"\n",
              "       width=\"24px\">\n",
              "    <path d=\"M0 0h24v24H0V0z\" fill=\"none\"/>\n",
              "    <path d=\"M18.56 5.44l.94 2.06.94-2.06 2.06-.94-2.06-.94-.94-2.06-.94 2.06-2.06.94zm-11 1L8.5 8.5l.94-2.06 2.06-.94-2.06-.94L8.5 2.5l-.94 2.06-2.06.94zm10 10l.94 2.06.94-2.06 2.06-.94-2.06-.94-.94-2.06-.94 2.06-2.06.94z\"/><path d=\"M17.41 7.96l-1.37-1.37c-.4-.4-.92-.59-1.43-.59-.52 0-1.04.2-1.43.59L10.3 9.45l-7.72 7.72c-.78.78-.78 2.05 0 2.83L4 21.41c.39.39.9.59 1.41.59.51 0 1.02-.2 1.41-.59l7.78-7.78 2.81-2.81c.8-.78.8-2.07 0-2.86zM5.41 20L4 18.59l7.72-7.72 1.47 1.35L5.41 20z\"/>\n",
              "  </svg>\n",
              "      </button>\n",
              "      \n",
              "  <style>\n",
              "    .colab-df-container {\n",
              "      display:flex;\n",
              "      flex-wrap:wrap;\n",
              "      gap: 12px;\n",
              "    }\n",
              "\n",
              "    .colab-df-convert {\n",
              "      background-color: #E8F0FE;\n",
              "      border: none;\n",
              "      border-radius: 50%;\n",
              "      cursor: pointer;\n",
              "      display: none;\n",
              "      fill: #1967D2;\n",
              "      height: 32px;\n",
              "      padding: 0 0 0 0;\n",
              "      width: 32px;\n",
              "    }\n",
              "\n",
              "    .colab-df-convert:hover {\n",
              "      background-color: #E2EBFA;\n",
              "      box-shadow: 0px 1px 2px rgba(60, 64, 67, 0.3), 0px 1px 3px 1px rgba(60, 64, 67, 0.15);\n",
              "      fill: #174EA6;\n",
              "    }\n",
              "\n",
              "    [theme=dark] .colab-df-convert {\n",
              "      background-color: #3B4455;\n",
              "      fill: #D2E3FC;\n",
              "    }\n",
              "\n",
              "    [theme=dark] .colab-df-convert:hover {\n",
              "      background-color: #434B5C;\n",
              "      box-shadow: 0px 1px 3px 1px rgba(0, 0, 0, 0.15);\n",
              "      filter: drop-shadow(0px 1px 2px rgba(0, 0, 0, 0.3));\n",
              "      fill: #FFFFFF;\n",
              "    }\n",
              "  </style>\n",
              "\n",
              "      <script>\n",
              "        const buttonEl =\n",
              "          document.querySelector('#df-29e3b20e-da5d-403a-ae5d-92ff76c810e7 button.colab-df-convert');\n",
              "        buttonEl.style.display =\n",
              "          google.colab.kernel.accessAllowed ? 'block' : 'none';\n",
              "\n",
              "        async function convertToInteractive(key) {\n",
              "          const element = document.querySelector('#df-29e3b20e-da5d-403a-ae5d-92ff76c810e7');\n",
              "          const dataTable =\n",
              "            await google.colab.kernel.invokeFunction('convertToInteractive',\n",
              "                                                     [key], {});\n",
              "          if (!dataTable) return;\n",
              "\n",
              "          const docLinkHtml = 'Like what you see? Visit the ' +\n",
              "            '<a target=\"_blank\" href=https://colab.research.google.com/notebooks/data_table.ipynb>data table notebook</a>'\n",
              "            + ' to learn more about interactive tables.';\n",
              "          element.innerHTML = '';\n",
              "          dataTable['output_type'] = 'display_data';\n",
              "          await google.colab.output.renderOutput(dataTable, element);\n",
              "          const docLink = document.createElement('div');\n",
              "          docLink.innerHTML = docLinkHtml;\n",
              "          element.appendChild(docLink);\n",
              "        }\n",
              "      </script>\n",
              "    </div>\n",
              "  </div>\n",
              "  "
            ]
          },
          "metadata": {},
          "execution_count": 166
        }
      ]
    },
    {
      "cell_type": "code",
      "source": [
        "df_cn_patients_uncertainty = df_merged_uncertainty_disease_label.iloc[:10]\n",
        "cn_patients_uncertainty = list(df_cn_patients_uncertainty['Latent Uncertainty'])\n",
        "\n",
        "df_mci_patients_uncertainty = df_merged_uncertainty_disease_label.iloc[10:20]\n",
        "mci_patients_uncertainty = list(df_mci_patients_uncertainty['Latent Uncertainty'])\n",
        "\n",
        "df_ad_patients_uncertainty = df_merged_uncertainty_disease_label.iloc[20:30]\n",
        "ad_patients_uncertainty = list(df_ad_patients_uncertainty['Latent Uncertainty'])\n",
        "df_ad_patients_uncertainty.head()\n",
        "print(ad_patients_uncertainty)"
      ],
      "metadata": {
        "colab": {
          "base_uri": "https://localhost:8080/"
        },
        "id": "3azwUZJi59Di",
        "outputId": "85181cae-9c70-41c9-9a9a-7e955c6e8414"
      },
      "execution_count": null,
      "outputs": [
        {
          "output_type": "stream",
          "name": "stdout",
          "text": [
            "[0.027751536438169543, 0.03551734948512802, 0.034069838266377765, 0.03933510494542557, 0.033635505728577944, 0.027555372834947685, 0.02909091260038493, 0.04158125041031351, 0.03517775701636735, 0.028876791365266368]\n"
          ]
        }
      ]
    },
    {
      "cell_type": "code",
      "source": [
        "fig, ax1 = plt.subplots(figsize=(10, 6))\n",
        "plt.subplots_adjust(left=0.075, right=0.95, top=0.9, bottom=0.25)\n",
        "\n",
        "b1 = ax1.violinplot(cn_patients_uncertainty, positions=[0], showmeans=True)\n",
        "\n",
        "b2 = ax1.violinplot(mci_patients_uncertainty, positions=[1], showmeans=True)\n",
        "\n",
        "b3 = ax1.violinplot(ad_patients_uncertainty , positions=[2], showmeans=True)\n",
        "\n",
        "\n",
        "ax1.set_xticks(np.arange(0,3))\n",
        "ax1.set_xticklabels(['CN', 'MCI', 'AD'])\n",
        "plt.xlabel('Diagnosis') \n",
        "plt.ylabel('Std. in Latent Space')\n",
        "plt.title(\"Uncertainty in Volume Predictions Encoding \\n Grouped by Patients' Diagnosis\")\n",
        "\n",
        "ax1.yaxis.grid(True, linestyle='-', color='lightgrey',\n",
        "               alpha=0.5)\n",
        "ax1.xaxis.grid(True, linestyle='-', color='lightgrey',\n",
        "               alpha=0.5)"
      ],
      "metadata": {
        "colab": {
          "base_uri": "https://localhost:8080/",
          "height": 513
        },
        "id": "esGK6aiP6AEZ",
        "outputId": "58496166-8734-4ae1-a000-56c71aabe606"
      },
      "execution_count": null,
      "outputs": [
        {
          "output_type": "display_data",
          "data": {
            "text/plain": [
              "<Figure size 1000x600 with 1 Axes>"
            ],
            "image/png": "[encoded data removed]"
          },
          "metadata": {}
        }
      ]
    },
    {
      "cell_type": "code",
      "source": [
        "patient_ids = df_hippo_volumes_data.columns\n",
        "disease_labels = df_hippo_volumes_data.loc['Diagnosis']"
      ],
      "metadata": {
        "id": "xbBNf5_JuPsh"
      },
      "execution_count": null,
      "outputs": []
    },
    {
      "cell_type": "code",
      "source": [
        "def get_average_stds(num_runs, num_epochs, data_standardized, disease_labels):\n",
        "\n",
        "  list_stds_each_run = []\n",
        "  df_list_std = pd.DataFrame(disease_labels)\n",
        "\n",
        "  # preparing the data for encoding/testing\n",
        "  data_full_arr  = np.array(data_standardized)\n",
        "  data_full_arr  = data_full_arr.reshape(-1, data_full_arr.shape[1]).astype('float32')\n",
        "  dataset_full_tensor = torch.from_numpy(data_full_arr)\n",
        "  rows = dataset_full_tensor.to(device)\n",
        "\n",
        "  for i in range(num_runs):\n",
        "    print('Run {}:'.format(i))\n",
        "    train_losses = []\n",
        "    test_losses = []\n",
        "    model_vae_avg = Autoencoder(dimen_input, H=70, H2=12,latent_dim=1, activation= Sigmoid()).to(device) \n",
        "    optimizer = optim.Adam(model_vae.parameters(), lr=0.001)\n",
        "    customized_loss_individual = customLoss_individual()\n",
        "\n",
        "    for epoch in range(1, num_epochs + 1):\n",
        "      train(epoch, trainloader, model_vae, optimizer, customized_loss_individual, train_losses, KL_weight=0.001)\n",
        "      test(epoch, testloader, model_vae, optimizer, customized_loss_individual, test_losses, KL_weight=0.001)\n",
        "\n",
        "    optimizer.zero_grad()\n",
        "    mu_encod, logvar_encod = model_vae_avg.encode(rows) \n",
        "\n",
        "    logvar_encod_reshaped = logvar_encod.cpu().detach().numpy() #converting from log variance to variance to std. \n",
        "\n",
        "    latent_rows_std =  [[(np.exp(logvar/2)) for logvar in logvar_row] for logvar_row in logvar_encod_reshaped]\n",
        "    latent_rows_std = [val[0] for val in latent_rows_std] #extract the numerical values from the nested array\n",
        "    #latent_rows_std_rounded =  [np.round(std, 2) for std in decoded_rows_std]\n",
        "\n",
        "    list_stds_each_run.append(latent_rows_std)\n",
        "    df_list_std['Run {}'.format(i)] = latent_rows_std\n",
        "\n",
        "  return list_stds_each_run, df_list_std\n"
      ],
      "metadata": {
        "id": "amqOFsT0hYPl"
      },
      "execution_count": null,
      "outputs": []
    },
    {
      "cell_type": "code",
      "source": [
        "list_stds_each_run, df_list_std = get_average_stds(3, 500, data_standardized, disease_labels)\n",
        "df_list_std['mean'] = df_list_std.mean(axis=1)\n",
        "display(df_list_std)"
      ],
      "metadata": {
        "colab": {
          "base_uri": "https://localhost:8080/",
          "height": 1000
        },
        "id": "VUM5EvmxlFW8",
        "outputId": "72fd9c3e-7cdd-438a-e7b4-04698557b293"
      },
      "execution_count": null,
      "outputs": [
        {
          "output_type": "stream",
          "name": "stdout",
          "text": [
            "Run 0:\n",
            "====> Epoch: 50    Average training loss: -0.7022   Gaussian training loss: -0.7029    KL training divergence: 0.0007 \n",
            "====> Epoch: 50    Average test loss: 8.4798       Gaussian test loss: 8.4793       KL test divergence: 0.0005\n",
            "====> Epoch: 100    Average training loss: -0.7782   Gaussian training loss: -0.7788    KL training divergence: 0.0007 \n",
            "====> Epoch: 100    Average test loss: 12.7344       Gaussian test loss: 12.7339       KL test divergence: 0.0005\n",
            "====> Epoch: 150    Average training loss: -0.7261   Gaussian training loss: -0.7268    KL training divergence: 0.0007 \n",
            "====> Epoch: 150    Average test loss: 6.3840       Gaussian test loss: 6.3834       KL test divergence: 0.0005\n",
            "====> Epoch: 200    Average training loss: -0.7586   Gaussian training loss: -0.7592    KL training divergence: 0.0007 \n",
            "====> Epoch: 200    Average test loss: 6.3848       Gaussian test loss: 6.3843       KL test divergence: 0.0005\n",
            "====> Epoch: 250    Average training loss: -0.7768   Gaussian training loss: -0.7775    KL training divergence: 0.0007 \n",
            "====> Epoch: 250    Average test loss: 7.8505       Gaussian test loss: 7.8500       KL test divergence: 0.0005\n",
            "====> Epoch: 300    Average training loss: -0.8175   Gaussian training loss: -0.8181    KL training divergence: 0.0007 \n",
            "====> Epoch: 300    Average test loss: 8.7793       Gaussian test loss: 8.7788       KL test divergence: 0.0005\n",
            "====> Epoch: 350    Average training loss: -0.8525   Gaussian training loss: -0.8532    KL training divergence: 0.0007 \n",
            "====> Epoch: 350    Average test loss: 12.9119       Gaussian test loss: 12.9114       KL test divergence: 0.0005\n",
            "====> Epoch: 400    Average training loss: -0.8668   Gaussian training loss: -0.8674    KL training divergence: 0.0007 \n",
            "====> Epoch: 400    Average test loss: 15.8332       Gaussian test loss: 15.8326       KL test divergence: 0.0005\n",
            "====> Epoch: 450    Average training loss: -0.7690   Gaussian training loss: -0.7696    KL training divergence: 0.0007 \n",
            "====> Epoch: 450    Average test loss: 14.5158       Gaussian test loss: 14.5153       KL test divergence: 0.0005\n",
            "====> Epoch: 500    Average training loss: -0.8818   Gaussian training loss: -0.8824    KL training divergence: 0.0007 \n",
            "====> Epoch: 500    Average test loss: 18.8107       Gaussian test loss: 18.8102       KL test divergence: 0.0005\n",
            "Run 1:\n",
            "====> Epoch: 50    Average training loss: -0.4717   Gaussian training loss: -0.4723    KL training divergence: 0.0007 \n",
            "====> Epoch: 50    Average test loss: 22.3107       Gaussian test loss: 22.3102       KL test divergence: 0.0005\n",
            "====> Epoch: 100    Average training loss: -0.2874   Gaussian training loss: -0.2881    KL training divergence: 0.0007 \n",
            "====> Epoch: 100    Average test loss: 21.2223       Gaussian test loss: 21.2218       KL test divergence: 0.0005\n",
            "====> Epoch: 150    Average training loss: -0.6638   Gaussian training loss: -0.6645    KL training divergence: 0.0007 \n",
            "====> Epoch: 150    Average test loss: 4.1770       Gaussian test loss: 4.1765       KL test divergence: 0.0005\n",
            "====> Epoch: 200    Average training loss: -0.4659   Gaussian training loss: -0.4666    KL training divergence: 0.0007 \n",
            "====> Epoch: 200    Average test loss: 16.1837       Gaussian test loss: 16.1831       KL test divergence: 0.0005\n",
            "====> Epoch: 250    Average training loss: -0.7566   Gaussian training loss: -0.7573    KL training divergence: 0.0007 \n",
            "====> Epoch: 250    Average test loss: 12.1496       Gaussian test loss: 12.1491       KL test divergence: 0.0005\n",
            "====> Epoch: 300    Average training loss: -0.7066   Gaussian training loss: -0.7073    KL training divergence: 0.0007 \n",
            "====> Epoch: 300    Average test loss: 11.1998       Gaussian test loss: 11.1993       KL test divergence: 0.0005\n",
            "====> Epoch: 350    Average training loss: -0.3300   Gaussian training loss: -0.3307    KL training divergence: 0.0007 \n",
            "====> Epoch: 350    Average test loss: 20.3483       Gaussian test loss: 20.3478       KL test divergence: 0.0005\n",
            "====> Epoch: 400    Average training loss: -0.5301   Gaussian training loss: -0.5308    KL training divergence: 0.0007 \n",
            "====> Epoch: 400    Average test loss: 15.4051       Gaussian test loss: 15.4046       KL test divergence: 0.0005\n",
            "====> Epoch: 450    Average training loss: -0.3091   Gaussian training loss: -0.3098    KL training divergence: 0.0007 \n",
            "====> Epoch: 450    Average test loss: 13.6777       Gaussian test loss: 13.6772       KL test divergence: 0.0005\n",
            "====> Epoch: 500    Average training loss: -0.8544   Gaussian training loss: -0.8550    KL training divergence: 0.0007 \n",
            "====> Epoch: 500    Average test loss: 15.7973       Gaussian test loss: 15.7968       KL test divergence: 0.0005\n",
            "Run 2:\n",
            "====> Epoch: 50    Average training loss: -0.8374   Gaussian training loss: -0.8381    KL training divergence: 0.0007 \n",
            "====> Epoch: 50    Average test loss: 18.0172       Gaussian test loss: 18.0166       KL test divergence: 0.0005\n",
            "====> Epoch: 100    Average training loss: -0.8155   Gaussian training loss: -0.8162    KL training divergence: 0.0007 \n",
            "====> Epoch: 100    Average test loss: 15.2621       Gaussian test loss: 15.2616       KL test divergence: 0.0005\n",
            "====> Epoch: 150    Average training loss: -0.8816   Gaussian training loss: -0.8823    KL training divergence: 0.0007 \n",
            "====> Epoch: 150    Average test loss: 21.3250       Gaussian test loss: 21.3245       KL test divergence: 0.0005\n",
            "====> Epoch: 200    Average training loss: -0.5788   Gaussian training loss: -0.5794    KL training divergence: 0.0007 \n",
            "====> Epoch: 200    Average test loss: 9.3259       Gaussian test loss: 9.3254       KL test divergence: 0.0005\n",
            "====> Epoch: 250    Average training loss: -0.7993   Gaussian training loss: -0.8000    KL training divergence: 0.0007 \n",
            "====> Epoch: 250    Average test loss: 17.8283       Gaussian test loss: 17.8278       KL test divergence: 0.0005\n",
            "====> Epoch: 300    Average training loss: -0.8871   Gaussian training loss: -0.8878    KL training divergence: 0.0007 \n",
            "====> Epoch: 300    Average test loss: 20.1427       Gaussian test loss: 20.1422       KL test divergence: 0.0005\n",
            "====> Epoch: 350    Average training loss: -0.8962   Gaussian training loss: -0.8969    KL training divergence: 0.0007 \n",
            "====> Epoch: 350    Average test loss: 20.7883       Gaussian test loss: 20.7877       KL test divergence: 0.0005\n",
            "====> Epoch: 400    Average training loss: -0.9088   Gaussian training loss: -0.9095    KL training divergence: 0.0007 \n",
            "====> Epoch: 400    Average test loss: 26.5219       Gaussian test loss: 26.5214       KL test divergence: 0.0005\n",
            "====> Epoch: 450    Average training loss: -0.9018   Gaussian training loss: -0.9025    KL training divergence: 0.0007 \n",
            "====> Epoch: 450    Average test loss: 22.2449       Gaussian test loss: 22.2444       KL test divergence: 0.0005\n",
            "====> Epoch: 500    Average training loss: -0.8664   Gaussian training loss: -0.8671    KL training divergence: 0.0007 \n",
            "====> Epoch: 500    Average test loss: 15.6792       Gaussian test loss: 15.6787       KL test divergence: 0.0005\n"
          ]
        },
        {
          "output_type": "stream",
          "name": "stderr",
          "text": [
            "<ipython-input-174-1fc06b885eb3>:2: FutureWarning: Dropping of nuisance columns in DataFrame reductions (with 'numeric_only=None') is deprecated; in a future version this will raise TypeError.  Select only valid columns before calling the reduction.\n",
            "  df_list_std['mean'] = df_list_std.mean(axis=1)\n"
          ]
        },
        {
          "output_type": "display_data",
          "data": {
            "text/plain": [
              "           Diagnosis     Run 0     Run 1     Run 2      mean\n",
              "002_S_0685        CN  1.132488  1.605046  1.143606  1.293713\n",
              "003_S_0981        CN  1.108178  1.598596  1.154297  1.287024\n",
              "003_S_0907        CN  1.110198  1.593380  1.151484  1.285021\n",
              "005_S_0610        CN  1.131934  1.586578  1.140420  1.286311\n",
              "007_S_1222        CN  1.112402  1.613622  1.165104  1.297043\n",
              "035_S_0156        CN  1.109778  1.595252  1.148690  1.284574\n",
              "035_S_0048        CN  1.099250  1.606132  1.163111  1.289497\n",
              "073_S_0089        CN  1.098702  1.602883  1.167758  1.289781\n",
              "002_S_0413        CN  1.140580  1.616583  1.154557  1.303907\n",
              "002_S_0295        CN  1.144310  1.628783  1.162835  1.311976\n",
              "128_S_0135       MCI  1.115410  1.607940  1.161155  1.294835\n",
              "033_S_0723       MCI  1.109369  1.598104  1.153871  1.287114\n",
              "031_S_0294       MCI  1.142622  1.584435  1.137564  1.288207\n",
              "027_S_0644       MCI  1.163916  1.609467  1.139505  1.304296\n",
              "021_S_0141       MCI  1.132860  1.620677  1.165094  1.306210\n",
              "013_S_0240       MCI  1.184084  1.610035  1.129550  1.307890\n",
              "005_S_0222       MCI  1.173002  1.610563  1.137071  1.306879\n",
              "002_S_0729       MCI  1.164485  1.633568  1.155784  1.317946\n",
              "033_S_0723       MCI  1.109369  1.598104  1.153871  1.287114\n",
              "027_S_0256       MCI  1.141570  1.595971  1.145848  1.294463\n",
              "130_S_1290        AD  1.132823  1.602221  1.155548  1.296864\n",
              "057_S_0474        AD  1.185199  1.597824  1.134621  1.305881\n",
              "027_S_1081        AD  1.182388  1.608665  1.136769  1.309274\n",
              "024_S_1171        AD  1.151941  1.635910  1.158116  1.315322\n",
              "020_S_0213        AD  1.122277  1.607751  1.156687  1.295572\n",
              "013_S_1205        AD  1.135646  1.590594  1.148728  1.291656\n",
              "005_S_0814        AD  1.167510  1.612733  1.138984  1.306409\n",
              "002_S_0619        AD  1.184645  1.605070  1.141333  1.310349\n",
              "002_S_1018        AD  1.142865  1.634020  1.163700  1.313528\n",
              "002_S_0938        AD  1.165841  1.611211  1.130712  1.302588"
            ],
            "text/html": [
              "\n",
              "  <div id=\"df-2cfd8252-5f57-49a8-b997-44c2a1d6eba6\">\n",
              "    <div class=\"colab-df-container\">\n",
              "      <div>\n",
              "<style scoped>\n",
              "    .dataframe tbody tr th:only-of-type {\n",
              "        vertical-align: middle;\n",
              "    }\n",
              "\n",
              "    .dataframe tbody tr th {\n",
              "        vertical-align: top;\n",
              "    }\n",
              "\n",
              "    .dataframe thead th {\n",
              "        text-align: right;\n",
              "    }\n",
              "</style>\n",
              "<table border=\"1\" class=\"dataframe\">\n",
              "  <thead>\n",
              "    <tr style=\"text-align: right;\">\n",
              "      <th></th>\n",
              "      <th>Diagnosis</th>\n",
              "      <th>Run 0</th>\n",
              "      <th>Run 1</th>\n",
              "      <th>Run 2</th>\n",
              "      <th>mean</th>\n",
              "    </tr>\n",
              "  </thead>\n",
              "  <tbody>\n",
              "    <tr>\n",
              "      <th>002_S_0685</th>\n",
              "      <td>CN</td>\n",
              "      <td>1.132488</td>\n",
              "      <td>1.605046</td>\n",
              "      <td>1.143606</td>\n",
              "      <td>1.293713</td>\n",
              "    </tr>\n",
              "    <tr>\n",
              "      <th>003_S_0981</th>\n",
              "      <td>CN</td>\n",
              "      <td>1.108178</td>\n",
              "      <td>1.598596</td>\n",
              "      <td>1.154297</td>\n",
              "      <td>1.287024</td>\n",
              "    </tr>\n",
              "    <tr>\n",
              "      <th>003_S_0907</th>\n",
              "      <td>CN</td>\n",
              "      <td>1.110198</td>\n",
              "      <td>1.593380</td>\n",
              "      <td>1.151484</td>\n",
              "      <td>1.285021</td>\n",
              "    </tr>\n",
              "    <tr>\n",
              "      <th>005_S_0610</th>\n",
              "      <td>CN</td>\n",
              "      <td>1.131934</td>\n",
              "      <td>1.586578</td>\n",
              "      <td>1.140420</td>\n",
              "      <td>1.286311</td>\n",
              "    </tr>\n",
              "    <tr>\n",
              "      <th>007_S_1222</th>\n",
              "      <td>CN</td>\n",
              "      <td>1.112402</td>\n",
              "      <td>1.613622</td>\n",
              "      <td>1.165104</td>\n",
              "      <td>1.297043</td>\n",
              "    </tr>\n",
              "    <tr>\n",
              "      <th>035_S_0156</th>\n",
              "      <td>CN</td>\n",
              "      <td>1.109778</td>\n",
              "      <td>1.595252</td>\n",
              "      <td>1.148690</td>\n",
              "      <td>1.284574</td>\n",
              "    </tr>\n",
              "    <tr>\n",
              "      <th>035_S_0048</th>\n",
              "      <td>CN</td>\n",
              "      <td>1.099250</td>\n",
              "      <td>1.606132</td>\n",
              "      <td>1.163111</td>\n",
              "      <td>1.289497</td>\n",
              "    </tr>\n",
              "    <tr>\n",
              "      <th>073_S_0089</th>\n",
              "      <td>CN</td>\n",
              "      <td>1.098702</td>\n",
              "      <td>1.602883</td>\n",
              "      <td>1.167758</td>\n",
              "      <td>1.289781</td>\n",
              "    </tr>\n",
              "    <tr>\n",
              "      <th>002_S_0413</th>\n",
              "      <td>CN</td>\n",
              "      <td>1.140580</td>\n",
              "      <td>1.616583</td>\n",
              "      <td>1.154557</td>\n",
              "      <td>1.303907</td>\n",
              "    </tr>\n",
              "    <tr>\n",
              "      <th>002_S_0295</th>\n",
              "      <td>CN</td>\n",
              "      <td>1.144310</td>\n",
              "      <td>1.628783</td>\n",
              "      <td>1.162835</td>\n",
              "      <td>1.311976</td>\n",
              "    </tr>\n",
              "    <tr>\n",
              "      <th>128_S_0135</th>\n",
              "      <td>MCI</td>\n",
              "      <td>1.115410</td>\n",
              "      <td>1.607940</td>\n",
              "      <td>1.161155</td>\n",
              "      <td>1.294835</td>\n",
              "    </tr>\n",
              "    <tr>\n",
              "      <th>033_S_0723</th>\n",
              "      <td>MCI</td>\n",
              "      <td>1.109369</td>\n",
              "      <td>1.598104</td>\n",
              "      <td>1.153871</td>\n",
              "      <td>1.287114</td>\n",
              "    </tr>\n",
              "    <tr>\n",
              "      <th>031_S_0294</th>\n",
              "      <td>MCI</td>\n",
              "      <td>1.142622</td>\n",
              "      <td>1.584435</td>\n",
              "      <td>1.137564</td>\n",
              "      <td>1.288207</td>\n",
              "    </tr>\n",
              "    <tr>\n",
              "      <th>027_S_0644</th>\n",
              "      <td>MCI</td>\n",
              "      <td>1.163916</td>\n",
              "      <td>1.609467</td>\n",
              "      <td>1.139505</td>\n",
              "      <td>1.304296</td>\n",
              "    </tr>\n",
              "    <tr>\n",
              "      <th>021_S_0141</th>\n",
              "      <td>MCI</td>\n",
              "      <td>1.132860</td>\n",
              "      <td>1.620677</td>\n",
              "      <td>1.165094</td>\n",
              "      <td>1.306210</td>\n",
              "    </tr>\n",
              "    <tr>\n",
              "      <th>013_S_0240</th>\n",
              "      <td>MCI</td>\n",
              "      <td>1.184084</td>\n",
              "      <td>1.610035</td>\n",
              "      <td>1.129550</td>\n",
              "      <td>1.307890</td>\n",
              "    </tr>\n",
              "    <tr>\n",
              "      <th>005_S_0222</th>\n",
              "      <td>MCI</td>\n",
              "      <td>1.173002</td>\n",
              "      <td>1.610563</td>\n",
              "      <td>1.137071</td>\n",
              "      <td>1.306879</td>\n",
              "    </tr>\n",
              "    <tr>\n",
              "      <th>002_S_0729</th>\n",
              "      <td>MCI</td>\n",
              "      <td>1.164485</td>\n",
              "      <td>1.633568</td>\n",
              "      <td>1.155784</td>\n",
              "      <td>1.317946</td>\n",
              "    </tr>\n",
              "    <tr>\n",
              "      <th>033_S_0723</th>\n",
              "      <td>MCI</td>\n",
              "      <td>1.109369</td>\n",
              "      <td>1.598104</td>\n",
              "      <td>1.153871</td>\n",
              "      <td>1.287114</td>\n",
              "    </tr>\n",
              "    <tr>\n",
              "      <th>027_S_0256</th>\n",
              "      <td>MCI</td>\n",
              "      <td>1.141570</td>\n",
              "      <td>1.595971</td>\n",
              "      <td>1.145848</td>\n",
              "      <td>1.294463</td>\n",
              "    </tr>\n",
              "    <tr>\n",
              "      <th>130_S_1290</th>\n",
              "      <td>AD</td>\n",
              "      <td>1.132823</td>\n",
              "      <td>1.602221</td>\n",
              "      <td>1.155548</td>\n",
              "      <td>1.296864</td>\n",
              "    </tr>\n",
              "    <tr>\n",
              "      <th>057_S_0474</th>\n",
              "      <td>AD</td>\n",
              "      <td>1.185199</td>\n",
              "      <td>1.597824</td>\n",
              "      <td>1.134621</td>\n",
              "      <td>1.305881</td>\n",
              "    </tr>\n",
              "    <tr>\n",
              "      <th>027_S_1081</th>\n",
              "      <td>AD</td>\n",
              "      <td>1.182388</td>\n",
              "      <td>1.608665</td>\n",
              "      <td>1.136769</td>\n",
              "      <td>1.309274</td>\n",
              "    </tr>\n",
              "    <tr>\n",
              "      <th>024_S_1171</th>\n",
              "      <td>AD</td>\n",
              "      <td>1.151941</td>\n",
              "      <td>1.635910</td>\n",
              "      <td>1.158116</td>\n",
              "      <td>1.315322</td>\n",
              "    </tr>\n",
              "    <tr>\n",
              "      <th>020_S_0213</th>\n",
              "      <td>AD</td>\n",
              "      <td>1.122277</td>\n",
              "      <td>1.607751</td>\n",
              "      <td>1.156687</td>\n",
              "      <td>1.295572</td>\n",
              "    </tr>\n",
              "    <tr>\n",
              "      <th>013_S_1205</th>\n",
              "      <td>AD</td>\n",
              "      <td>1.135646</td>\n",
              "      <td>1.590594</td>\n",
              "      <td>1.148728</td>\n",
              "      <td>1.291656</td>\n",
              "    </tr>\n",
              "    <tr>\n",
              "      <th>005_S_0814</th>\n",
              "      <td>AD</td>\n",
              "      <td>1.167510</td>\n",
              "      <td>1.612733</td>\n",
              "      <td>1.138984</td>\n",
              "      <td>1.306409</td>\n",
              "    </tr>\n",
              "    <tr>\n",
              "      <th>002_S_0619</th>\n",
              "      <td>AD</td>\n",
              "      <td>1.184645</td>\n",
              "      <td>1.605070</td>\n",
              "      <td>1.141333</td>\n",
              "      <td>1.310349</td>\n",
              "    </tr>\n",
              "    <tr>\n",
              "      <th>002_S_1018</th>\n",
              "      <td>AD</td>\n",
              "      <td>1.142865</td>\n",
              "      <td>1.634020</td>\n",
              "      <td>1.163700</td>\n",
              "      <td>1.313528</td>\n",
              "    </tr>\n",
              "    <tr>\n",
              "      <th>002_S_0938</th>\n",
              "      <td>AD</td>\n",
              "      <td>1.165841</td>\n",
              "      <td>1.611211</td>\n",
              "      <td>1.130712</td>\n",
              "      <td>1.302588</td>\n",
              "    </tr>\n",
              "  </tbody>\n",
              "</table>\n",
              "</div>\n",
              "      <button class=\"colab-df-convert\" onclick=\"convertToInteractive('df-2cfd8252-5f57-49a8-b997-44c2a1d6eba6')\"\n",
              "              title=\"Convert this dataframe to an interactive table.\"\n",
              "              style=\"display:none;\">\n",
              "        \n",
              "  <svg xmlns=\"http://www.w3.org/2000/svg\" height=\"24px\"viewBox=\"0 0 24 24\"\n",
              "       width=\"24px\">\n",
              "    <path d=\"M0 0h24v24H0V0z\" fill=\"none\"/>\n",
              "    <path d=\"M18.56 5.44l.94 2.06.94-2.06 2.06-.94-2.06-.94-.94-2.06-.94 2.06-2.06.94zm-11 1L8.5 8.5l.94-2.06 2.06-.94-2.06-.94L8.5 2.5l-.94 2.06-2.06.94zm10 10l.94 2.06.94-2.06 2.06-.94-2.06-.94-.94-2.06-.94 2.06-2.06.94z\"/><path d=\"M17.41 7.96l-1.37-1.37c-.4-.4-.92-.59-1.43-.59-.52 0-1.04.2-1.43.59L10.3 9.45l-7.72 7.72c-.78.78-.78 2.05 0 2.83L4 21.41c.39.39.9.59 1.41.59.51 0 1.02-.2 1.41-.59l7.78-7.78 2.81-2.81c.8-.78.8-2.07 0-2.86zM5.41 20L4 18.59l7.72-7.72 1.47 1.35L5.41 20z\"/>\n",
              "  </svg>\n",
              "      </button>\n",
              "      \n",
              "  <style>\n",
              "    .colab-df-container {\n",
              "      display:flex;\n",
              "      flex-wrap:wrap;\n",
              "      gap: 12px;\n",
              "    }\n",
              "\n",
              "    .colab-df-convert {\n",
              "      background-color: #E8F0FE;\n",
              "      border: none;\n",
              "      border-radius: 50%;\n",
              "      cursor: pointer;\n",
              "      display: none;\n",
              "      fill: #1967D2;\n",
              "      height: 32px;\n",
              "      padding: 0 0 0 0;\n",
              "      width: 32px;\n",
              "    }\n",
              "\n",
              "    .colab-df-convert:hover {\n",
              "      background-color: #E2EBFA;\n",
              "      box-shadow: 0px 1px 2px rgba(60, 64, 67, 0.3), 0px 1px 3px 1px rgba(60, 64, 67, 0.15);\n",
              "      fill: #174EA6;\n",
              "    }\n",
              "\n",
              "    [theme=dark] .colab-df-convert {\n",
              "      background-color: #3B4455;\n",
              "      fill: #D2E3FC;\n",
              "    }\n",
              "\n",
              "    [theme=dark] .colab-df-convert:hover {\n",
              "      background-color: #434B5C;\n",
              "      box-shadow: 0px 1px 3px 1px rgba(0, 0, 0, 0.15);\n",
              "      filter: drop-shadow(0px 1px 2px rgba(0, 0, 0, 0.3));\n",
              "      fill: #FFFFFF;\n",
              "    }\n",
              "  </style>\n",
              "\n",
              "      <script>\n",
              "        const buttonEl =\n",
              "          document.querySelector('#df-2cfd8252-5f57-49a8-b997-44c2a1d6eba6 button.colab-df-convert');\n",
              "        buttonEl.style.display =\n",
              "          google.colab.kernel.accessAllowed ? 'block' : 'none';\n",
              "\n",
              "        async function convertToInteractive(key) {\n",
              "          const element = document.querySelector('#df-2cfd8252-5f57-49a8-b997-44c2a1d6eba6');\n",
              "          const dataTable =\n",
              "            await google.colab.kernel.invokeFunction('convertToInteractive',\n",
              "                                                     [key], {});\n",
              "          if (!dataTable) return;\n",
              "\n",
              "          const docLinkHtml = 'Like what you see? Visit the ' +\n",
              "            '<a target=\"_blank\" href=https://colab.research.google.com/notebooks/data_table.ipynb>data table notebook</a>'\n",
              "            + ' to learn more about interactive tables.';\n",
              "          element.innerHTML = '';\n",
              "          dataTable['output_type'] = 'display_data';\n",
              "          await google.colab.output.renderOutput(dataTable, element);\n",
              "          const docLink = document.createElement('div');\n",
              "          docLink.innerHTML = docLinkHtml;\n",
              "          element.appendChild(docLink);\n",
              "        }\n",
              "      </script>\n",
              "    </div>\n",
              "  </div>\n",
              "  "
            ]
          },
          "metadata": {}
        }
      ]
    },
    {
      "cell_type": "code",
      "source": [
        "fig, ax1 = plt.subplots(figsize=(10, 6))\n",
        "plt.subplots_adjust(left=0.075, right=0.95, top=0.9, bottom=0.25)\n",
        "\n",
        "b1 = ax1.violinplot(df_list_std['mean'][:10], positions=[0], showmeans=True)\n",
        "\n",
        "b2 = ax1.violinplot(df_list_std['mean'][10:20], positions=[1], showmeans=True)\n",
        "\n",
        "b3 = ax1.violinplot(df_list_std['mean'][20:30] , positions=[2], showmeans=True)\n",
        "\n",
        "\n",
        "ax1.set_xticks(np.arange(0,3))\n",
        "ax1.set_xticklabels(['CN', 'MCI', 'AD'])\n",
        "plt.xlabel('Diagnosis') \n",
        "plt.ylabel('Std. in Latent Space')\n",
        "plt.title(\"Average Uncertainty in Volume Predictions Encoding \\n Grouped by Patients' Diagnosis\")\n",
        "\n",
        "ax1.yaxis.grid(True, linestyle='-', color='lightgrey',\n",
        "               alpha=0.5)\n",
        "ax1.xaxis.grid(True, linestyle='-', color='lightgrey',\n",
        "               alpha=0.5)"
      ],
      "metadata": {
        "colab": {
          "base_uri": "https://localhost:8080/",
          "height": 513
        },
        "id": "3GsdoRagX0zG",
        "outputId": "e91987ee-6a04-40fb-c20b-dda1235e60ae"
      },
      "execution_count": null,
      "outputs": [
        {
          "output_type": "display_data",
          "data": {
            "text/plain": [
              "<Figure size 1000x600 with 1 Axes>"
            ],
            "image/png": "[encoded data removed]"
          },
          "metadata": {}
        }
      ]
    },
    {
      "cell_type": "markdown",
      "metadata": {
        "id": "g8HhqzMs0BIi"
      },
      "source": [
        "Storing and Exporting Encoded Data"
      ]
    },
    {
      "cell_type": "code",
      "execution_count": null,
      "metadata": {
        "id": "GvJbwc3O0GyS"
      },
      "outputs": [],
      "source": [
        "# saving the dataframe of the individual runs and mean latent standard deviation/uncertainty\n",
        "df_list_std.to_csv('df_latent_uncertainties_average.csv') "
      ]
    },
    {
      "cell_type": "markdown",
      "source": [
        "### Links to related sources and inspiration:\n",
        "\n",
        "1. https://towardsdatascience.com/variational-autoencoders-vaes-for-dummies-step-by-step-tutorial-69e6d1c9d8e9\n",
        "\n",
        "2. https://colab.research.google.com/github/lschmiddey/fastpages_/blob/master/_notebooks/2021-03-14-tabular-data-variational-autoencoder.ipynb#scrollTo=ZG91fCG40vWz \n",
        "\n",
        "3. https://github.com/lschmiddey/fastpages_/blob/master/_notebooks/2021-03-14-tabular-data-variational-autoencoder.ipynb \n",
        "\n",
        "4. https://github.com/lschmiddey\n",
        "\n",
        "5. https://gitlab.com/m4gpie/self-supervised-ecoacoustics/-/blob/main/code/ecoacoustics/models/encoder.py \n",
        "\n",
        "6. https://github.com/geyang/variational_autoencoder_pytorch/blob/master/model.py \n"
      ],
      "metadata": {
        "id": "erix_74VkaTr"
      }
    }
  ],
  "metadata": {
    "colab": {
      "provenance": [],
      "machine_shape": "hm"
    },
    "kernelspec": {
      "display_name": "Python 3",
      "name": "python3"
    },
    "language_info": {
      "name": "python"
    },
    "accelerator": "GPU",
    "gpuClass": "standard",
    "widgets": {
      "application/vnd.jupyter.widget-state+json": {
        "391c025842584717bbc1c1ff5f93e5d6": {
          "model_module": "@jupyter-widgets/controls",
          "model_name": "VBoxModel",
          "model_module_version": "1.5.0",
          "state": {
            "_dom_classes": [],
            "_model_module": "@jupyter-widgets/controls",
            "_model_module_version": "1.5.0",
            "_model_name": "VBoxModel",
            "_view_count": null,
            "_view_module": "@jupyter-widgets/controls",
            "_view_module_version": "1.5.0",
            "_view_name": "VBoxView",
            "box_style": "",
            "children": [
              "IPY_MODEL_89327e96832c4ebebd144f303cfd1fe8",
              "IPY_MODEL_b5655cda31da478e8c54ede0f4b64503"
            ],
            "layout": "IPY_MODEL_9135c35fd151468cb9280632cbcd13b9"
          }
        },
        "89327e96832c4ebebd144f303cfd1fe8": {
          "model_module": "@jupyter-widgets/controls",
          "model_name": "LabelModel",
          "model_module_version": "1.5.0",
          "state": {
            "_dom_classes": [],
            "_model_module": "@jupyter-widgets/controls",
            "_model_module_version": "1.5.0",
            "_model_name": "LabelModel",
            "_view_count": null,
            "_view_module": "@jupyter-widgets/controls",
            "_view_module_version": "1.5.0",
            "_view_name": "LabelView",
            "description": "",
            "description_tooltip": null,
            "layout": "IPY_MODEL_e388af77eae047b98133553d6816d3ad",
            "placeholder": "​",
            "style": "IPY_MODEL_6e8cc3e4413e425eb50b3e3a574983ec",
            "value": "0.001 MB of 0.010 MB uploaded (0.000 MB deduped)\r"
          }
        },
        "b5655cda31da478e8c54ede0f4b64503": {
          "model_module": "@jupyter-widgets/controls",
          "model_name": "FloatProgressModel",
          "model_module_version": "1.5.0",
          "state": {
            "_dom_classes": [],
            "_model_module": "@jupyter-widgets/controls",
            "_model_module_version": "1.5.0",
            "_model_name": "FloatProgressModel",
            "_view_count": null,
            "_view_module": "@jupyter-widgets/controls",
            "_view_module_version": "1.5.0",
            "_view_name": "ProgressView",
            "bar_style": "",
            "description": "",
            "description_tooltip": null,
            "layout": "IPY_MODEL_f17e48efa3674ac98355a016c59a2b4a",
            "max": 1,
            "min": 0,
            "orientation": "horizontal",
            "style": "IPY_MODEL_fda5a52b981d4dd7af28066be507498e",
            "value": 0.1385850476668339
          }
        },
        "9135c35fd151468cb9280632cbcd13b9": {
          "model_module": "@jupyter-widgets/base",
          "model_name": "LayoutModel",
          "model_module_version": "1.2.0",
          "state": {
            "_model_module": "@jupyter-widgets/base",
            "_model_module_version": "1.2.0",
            "_model_name": "LayoutModel",
            "_view_count": null,
            "_view_module": "@jupyter-widgets/base",
            "_view_module_version": "1.2.0",
            "_view_name": "LayoutView",
            "align_content": null,
            "align_items": null,
            "align_self": null,
            "border": null,
            "bottom": null,
            "display": null,
            "flex": null,
            "flex_flow": null,
            "grid_area": null,
            "grid_auto_columns": null,
            "grid_auto_flow": null,
            "grid_auto_rows": null,
            "grid_column": null,
            "grid_gap": null,
            "grid_row": null,
            "grid_template_areas": null,
            "grid_template_columns": null,
            "grid_template_rows": null,
            "height": null,
            "justify_content": null,
            "justify_items": null,
            "left": null,
            "margin": null,
            "max_height": null,
            "max_width": null,
            "min_height": null,
            "min_width": null,
            "object_fit": null,
            "object_position": null,
            "order": null,
            "overflow": null,
            "overflow_x": null,
            "overflow_y": null,
            "padding": null,
            "right": null,
            "top": null,
            "visibility": null,
            "width": null
          }
        },
        "e388af77eae047b98133553d6816d3ad": {
          "model_module": "@jupyter-widgets/base",
          "model_name": "LayoutModel",
          "model_module_version": "1.2.0",
          "state": {
            "_model_module": "@jupyter-widgets/base",
            "_model_module_version": "1.2.0",
            "_model_name": "LayoutModel",
            "_view_count": null,
            "_view_module": "@jupyter-widgets/base",
            "_view_module_version": "1.2.0",
            "_view_name": "LayoutView",
            "align_content": null,
            "align_items": null,
            "align_self": null,
            "border": null,
            "bottom": null,
            "display": null,
            "flex": null,
            "flex_flow": null,
            "grid_area": null,
            "grid_auto_columns": null,
            "grid_auto_flow": null,
            "grid_auto_rows": null,
            "grid_column": null,
            "grid_gap": null,
            "grid_row": null,
            "grid_template_areas": null,
            "grid_template_columns": null,
            "grid_template_rows": null,
            "height": null,
            "justify_content": null,
            "justify_items": null,
            "left": null,
            "margin": null,
            "max_height": null,
            "max_width": null,
            "min_height": null,
            "min_width": null,
            "object_fit": null,
            "object_position": null,
            "order": null,
            "overflow": null,
            "overflow_x": null,
            "overflow_y": null,
            "padding": null,
            "right": null,
            "top": null,
            "visibility": null,
            "width": null
          }
        },
        "6e8cc3e4413e425eb50b3e3a574983ec": {
          "model_module": "@jupyter-widgets/controls",
          "model_name": "DescriptionStyleModel",
          "model_module_version": "1.5.0",
          "state": {
            "_model_module": "@jupyter-widgets/controls",
            "_model_module_version": "1.5.0",
            "_model_name": "DescriptionStyleModel",
            "_view_count": null,
            "_view_module": "@jupyter-widgets/base",
            "_view_module_version": "1.2.0",
            "_view_name": "StyleView",
            "description_width": ""
          }
        },
        "f17e48efa3674ac98355a016c59a2b4a": {
          "model_module": "@jupyter-widgets/base",
          "model_name": "LayoutModel",
          "model_module_version": "1.2.0",
          "state": {
            "_model_module": "@jupyter-widgets/base",
            "_model_module_version": "1.2.0",
            "_model_name": "LayoutModel",
            "_view_count": null,
            "_view_module": "@jupyter-widgets/base",
            "_view_module_version": "1.2.0",
            "_view_name": "LayoutView",
            "align_content": null,
            "align_items": null,
            "align_self": null,
            "border": null,
            "bottom": null,
            "display": null,
            "flex": null,
            "flex_flow": null,
            "grid_area": null,
            "grid_auto_columns": null,
            "grid_auto_flow": null,
            "grid_auto_rows": null,
            "grid_column": null,
            "grid_gap": null,
            "grid_row": null,
            "grid_template_areas": null,
            "grid_template_columns": null,
            "grid_template_rows": null,
            "height": null,
            "justify_content": null,
            "justify_items": null,
            "left": null,
            "margin": null,
            "max_height": null,
            "max_width": null,
            "min_height": null,
            "min_width": null,
            "object_fit": null,
            "object_position": null,
            "order": null,
            "overflow": null,
            "overflow_x": null,
            "overflow_y": null,
            "padding": null,
            "right": null,
            "top": null,
            "visibility": null,
            "width": null
          }
        },
        "fda5a52b981d4dd7af28066be507498e": {
          "model_module": "@jupyter-widgets/controls",
          "model_name": "ProgressStyleModel",
          "model_module_version": "1.5.0",
          "state": {
            "_model_module": "@jupyter-widgets/controls",
            "_model_module_version": "1.5.0",
            "_model_name": "ProgressStyleModel",
            "_view_count": null,
            "_view_module": "@jupyter-widgets/base",
            "_view_module_version": "1.2.0",
            "_view_name": "StyleView",
            "bar_color": null,
            "description_width": ""
          }
        }
      }
    }
  },
  "nbformat": 4,
  "nbformat_minor": 0
}