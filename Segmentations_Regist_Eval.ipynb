{
  "nbformat": 4,
  "nbformat_minor": 0,
  "metadata": {
    "colab": {
      "provenance": [],
      "machine_shape": "hm"
    },
    "kernelspec": {
      "name": "python3",
      "display_name": "Python 3"
    },
    "language_info": {
      "name": "python"
    },
    "accelerator": "TPU",
    "gpuClass": "premium"
  },
  "cells": [
    {
      "cell_type": "code",
      "source": [
        "!pip install matplotlib #==3.3.0\n",
        "!pip install nibabel #==3.2\n",
        "!pip install nilearn\n",
        "!pip install simpleitk\n",
        "!pip install SimpleITK-SimpleElastix "
      ],
      "metadata": {
        "colab": {
          "base_uri": "https://localhost:8080/"
        },
        "id": "Wzp2mYXNNwUV",
        "outputId": "30409445-3977-44a7-b280-6421c9a2f123"
      },
      "execution_count": null,
      "outputs": [
        {
          "output_type": "stream",
          "name": "stdout",
          "text": [
            "Looking in indexes: https://pypi.org/simple, https://us-python.pkg.dev/colab-wheels/public/simple/\n",
            "Requirement already satisfied: matplotlib in /usr/local/lib/python3.9/dist-packages (3.7.1)\n",
            "Requirement already satisfied: pillow>=6.2.0 in /usr/local/lib/python3.9/dist-packages (from matplotlib) (8.4.0)\n",
            "Requirement already satisfied: contourpy>=1.0.1 in /usr/local/lib/python3.9/dist-packages (from matplotlib) (1.0.7)\n",
            "Requirement already satisfied: importlib-resources>=3.2.0 in /usr/local/lib/python3.9/dist-packages (from matplotlib) (5.12.0)\n",
            "Requirement already satisfied: cycler>=0.10 in /usr/local/lib/python3.9/dist-packages (from matplotlib) (0.11.0)\n",
            "Requirement already satisfied: fonttools>=4.22.0 in /usr/local/lib/python3.9/dist-packages (from matplotlib) (4.39.3)\n",
            "Requirement already satisfied: pyparsing>=2.3.1 in /usr/local/lib/python3.9/dist-packages (from matplotlib) (3.0.9)\n",
            "Requirement already satisfied: kiwisolver>=1.0.1 in /usr/local/lib/python3.9/dist-packages (from matplotlib) (1.4.4)\n",
            "Requirement already satisfied: numpy>=1.20 in /usr/local/lib/python3.9/dist-packages (from matplotlib) (1.24.2)\n",
            "Requirement already satisfied: packaging>=20.0 in /usr/local/lib/python3.9/dist-packages (from matplotlib) (23.0)\n",
            "Requirement already satisfied: python-dateutil>=2.7 in /usr/local/lib/python3.9/dist-packages (from matplotlib) (2.8.2)\n",
            "Requirement already satisfied: zipp>=3.1.0 in /usr/local/lib/python3.9/dist-packages (from importlib-resources>=3.2.0->matplotlib) (3.15.0)\n",
            "Requirement already satisfied: six>=1.5 in /usr/local/lib/python3.9/dist-packages (from python-dateutil>=2.7->matplotlib) (1.16.0)\n",
            "Looking in indexes: https://pypi.org/simple, https://us-python.pkg.dev/colab-wheels/public/simple/\n",
            "Requirement already satisfied: nibabel in /usr/local/lib/python3.9/dist-packages (3.0.2)\n",
            "Requirement already satisfied: numpy>=1.12 in /usr/local/lib/python3.9/dist-packages (from nibabel) (1.24.2)\n",
            "Looking in indexes: https://pypi.org/simple, https://us-python.pkg.dev/colab-wheels/public/simple/\n",
            "Collecting nilearn\n",
            "  Downloading nilearn-0.10.0-py3-none-any.whl (9.6 MB)\n",
            "\u001b[2K     \u001b[90m━━━━━━━━━━━━━━━━━━━━━━━━━━━━━━━━━━━━━━━━\u001b[0m \u001b[32m9.6/9.6 MB\u001b[0m \u001b[31m59.1 MB/s\u001b[0m eta \u001b[36m0:00:00\u001b[0m\n",
            "\u001b[?25hRequirement already satisfied: pandas>=1.1.5 in /usr/local/lib/python3.9/dist-packages (from nilearn) (1.5.3)\n",
            "Requirement already satisfied: requests>=2.25.0 in /usr/local/lib/python3.9/dist-packages (from nilearn) (2.27.1)\n",
            "Requirement already satisfied: scipy>=1.6.0 in /usr/local/lib/python3.9/dist-packages (from nilearn) (1.10.1)\n",
            "Requirement already satisfied: numpy>=1.19.0 in /usr/local/lib/python3.9/dist-packages (from nilearn) (1.24.2)\n",
            "Requirement already satisfied: scikit-learn>=1.0.0 in /usr/local/lib/python3.9/dist-packages (from nilearn) (1.2.2)\n",
            "Requirement already satisfied: lxml in /usr/local/lib/python3.9/dist-packages (from nilearn) (4.9.2)\n",
            "Requirement already satisfied: joblib>=1.0.0 in /usr/local/lib/python3.9/dist-packages (from nilearn) (1.2.0)\n",
            "Collecting nibabel>=3.2.0\n",
            "  Downloading nibabel-5.1.0-py3-none-any.whl (3.3 MB)\n",
            "\u001b[2K     \u001b[90m━━━━━━━━━━━━━━━━━━━━━━━━━━━━━━━━━━━━━━━━\u001b[0m \u001b[32m3.3/3.3 MB\u001b[0m \u001b[31m63.9 MB/s\u001b[0m eta \u001b[36m0:00:00\u001b[0m\n",
            "\u001b[?25hRequirement already satisfied: packaging>=17 in /usr/local/lib/python3.9/dist-packages (from nibabel>=3.2.0->nilearn) (23.0)\n",
            "Requirement already satisfied: pytz>=2020.1 in /usr/local/lib/python3.9/dist-packages (from pandas>=1.1.5->nilearn) (2022.7.1)\n",
            "Requirement already satisfied: python-dateutil>=2.8.1 in /usr/local/lib/python3.9/dist-packages (from pandas>=1.1.5->nilearn) (2.8.2)\n",
            "Requirement already satisfied: urllib3<1.27,>=1.21.1 in /usr/local/lib/python3.9/dist-packages (from requests>=2.25.0->nilearn) (1.26.15)\n",
            "Requirement already satisfied: certifi>=2017.4.17 in /usr/local/lib/python3.9/dist-packages (from requests>=2.25.0->nilearn) (2022.12.7)\n",
            "Requirement already satisfied: idna<4,>=2.5 in /usr/local/lib/python3.9/dist-packages (from requests>=2.25.0->nilearn) (3.4)\n",
            "Requirement already satisfied: charset-normalizer~=2.0.0 in /usr/local/lib/python3.9/dist-packages (from requests>=2.25.0->nilearn) (2.0.12)\n",
            "Requirement already satisfied: threadpoolctl>=2.0.0 in /usr/local/lib/python3.9/dist-packages (from scikit-learn>=1.0.0->nilearn) (3.1.0)\n",
            "Requirement already satisfied: six>=1.5 in /usr/local/lib/python3.9/dist-packages (from python-dateutil>=2.8.1->pandas>=1.1.5->nilearn) (1.16.0)\n",
            "Installing collected packages: nibabel, nilearn\n",
            "  Attempting uninstall: nibabel\n",
            "    Found existing installation: nibabel 3.0.2\n",
            "    Uninstalling nibabel-3.0.2:\n",
            "      Successfully uninstalled nibabel-3.0.2\n",
            "Successfully installed nibabel-5.1.0 nilearn-0.10.0\n",
            "Looking in indexes: https://pypi.org/simple, https://us-python.pkg.dev/colab-wheels/public/simple/\n",
            "Collecting simpleitk\n",
            "  Downloading SimpleITK-2.2.1-cp39-cp39-manylinux_2_17_x86_64.manylinux2014_x86_64.whl (52.7 MB)\n",
            "\u001b[2K     \u001b[90m━━━━━━━━━━━━━━━━━━━━━━━━━━━━━━━━━━━━━━━━\u001b[0m \u001b[32m52.7/52.7 MB\u001b[0m \u001b[31m15.4 MB/s\u001b[0m eta \u001b[36m0:00:00\u001b[0m\n",
            "\u001b[?25hInstalling collected packages: simpleitk\n",
            "Successfully installed simpleitk-2.2.1\n",
            "Looking in indexes: https://pypi.org/simple, https://us-python.pkg.dev/colab-wheels/public/simple/\n",
            "Collecting SimpleITK-SimpleElastix\n",
            "  Downloading SimpleITK_SimpleElastix-2.0.0rc2.dev909-cp39-cp39-manylinux_2_24_x86_64.whl (56.5 MB)\n",
            "\u001b[2K     \u001b[90m━━━━━━━━━━━━━━━━━━━━━━━━━━━━━━━━━━━━━━━━\u001b[0m \u001b[32m56.5/56.5 MB\u001b[0m \u001b[31m28.7 MB/s\u001b[0m eta \u001b[36m0:00:00\u001b[0m\n",
            "\u001b[?25hInstalling collected packages: SimpleITK-SimpleElastix\n",
            "Successfully installed SimpleITK-SimpleElastix-2.0.0rc2.dev909\n"
          ]
        }
      ]
    },
    {
      "cell_type": "code",
      "source": [
        "import nibabel as nib\n",
        "import numpy as np\n",
        "import matplotlib.pyplot as plt\n",
        "from nilearn import plotting\n",
        "import cv2\n",
        "import pandas as pd\n",
        "import scipy.ndimage as ndi\n",
        "import seaborn as sns\n",
        "import SimpleITK as sitk\n",
        "import sys\n",
        "import os\n",
        "import scipy"
      ],
      "metadata": {
        "id": "n0Kq3LN6NwxT"
      },
      "execution_count": null,
      "outputs": []
    },
    {
      "cell_type": "code",
      "source": [
        "from google.colab import drive\n",
        "drive.mount('/content/drive')"
      ],
      "metadata": {
        "colab": {
          "base_uri": "https://localhost:8080/"
        },
        "id": "ka2alB99NziD",
        "outputId": "3849aaa0-eb83-4391-ec2d-4e20d99737a7"
      },
      "execution_count": null,
      "outputs": [
        {
          "output_type": "stream",
          "name": "stdout",
          "text": [
            "Mounted at /content/drive\n"
          ]
        }
      ]
    },
    {
      "cell_type": "code",
      "source": [
        "import os\n",
        "os.chdir('/content/drive/MyDrive/ColabNotebooks/Final-Year-Project')\n",
        "#!ls"
      ],
      "metadata": {
        "id": "9Cl6S4F_N1q1"
      },
      "execution_count": null,
      "outputs": []
    },
    {
      "cell_type": "code",
      "source": [
        "import os\n",
        "\n",
        "def load_folder_nibabel(dir_name): \n",
        "  directory = dir_name\n",
        "  scans = [] #stores all scans of a certain segmentation tool and point in time in an iterable list for later processing\n",
        "  \n",
        "  # iterate over each files in the directory\n",
        "  for filename in os.listdir(directory):\n",
        "      f = os.path.join(directory, filename)\n",
        "      patient_id = filename[:10] #each scan is stored so that the patient id comes first\n",
        "\n",
        "      # checking if it is a file\n",
        "      if os.path.isfile(f):      \n",
        "          scan = nib.load(f)\n",
        "          scan.header['db_name'] = patient_id #in order to make sure that the scans are clearly identifiable later -> for those scan that don't have it already (like MONAI and FS) the db_name is that of the patient id which can be indexed later to compare scans of the same patient\n",
        "          scans.append(scan)\n",
        "          \n",
        "\n",
        "  return scans"
      ],
      "metadata": {
        "id": "H_RSNMx7N33N"
      },
      "execution_count": null,
      "outputs": []
    },
    {
      "cell_type": "code",
      "source": [
        "# using the function to load in the pre-processed segementation data using nibabel:\n",
        "\n",
        "FS_original_scans = load_folder_nibabel('FS_Segmentations')\n",
        "MONAI_original_scans = load_folder_nibabel('MONAI_Segmentations') \n",
        "SNT_original_scans = load_folder_nibabel('SNT_Segmentations') \n",
        "MAPER_original_scans = load_folder_nibabel('MAPER_Segmentations') \n",
        "\n",
        "FS_original_extra_scans = load_folder_nibabel('FS_Extra_Original')\n",
        "MAPER_original_extra_scans = load_folder_nibabel('MAPER_Extra_Original')\n",
        "SNT_original_extra_scans = load_folder_nibabel('SNT_Extra_Original')"
      ],
      "metadata": {
        "id": "9nv1coUON8W5"
      },
      "execution_count": null,
      "outputs": []
    },
    {
      "cell_type": "code",
      "source": [
        "# in order to get the patient ids corresponding to each scan use the header information -> to create dataframe \n",
        "def get_patient_ids(scans):\n",
        "  patient_ids = []\n",
        "\n",
        "  for i in range(len(scans)):\n",
        "    id = str(scans[i].header[\"db_name\"])\n",
        "    patient_ids.append(id[2:-1]) #the id is stored between b' ' which is not needed\n",
        "\n",
        "\n",
        "  return patient_ids   "
      ],
      "metadata": {
        "id": "YUfT3-cSOSBO"
      },
      "execution_count": null,
      "outputs": []
    },
    {
      "cell_type": "code",
      "source": [
        "# create a dict which holds a patient's id with the corresponding scan of a tool so that it can be ordered easily later\n",
        "def dict_patient_id_scan(list_scans_tool):\n",
        "  patient_ids = get_patient_ids(list_scans_tool)\n",
        "  dict_patient_id_scan = {}\n",
        "\n",
        "  for i in range(len(list_scans_tool)):\n",
        "    dict_patient_id_scan[patient_ids[i]] = list_scans_tool[i]\n",
        "\n",
        "  return dict_patient_id_scan"
      ],
      "metadata": {
        "id": "oIJPFcGEOWxl"
      },
      "execution_count": null,
      "outputs": []
    },
    {
      "cell_type": "code",
      "source": [
        "#importing a spreadsheet holding the associated disease stage diagnosis CN, MCI and AD for each patient id so that it can be used easily \n",
        "diagnosis_ids = pd.read_csv('id_and_diagnosis.csv', sep=',')\n",
        "diagnosis_ids = diagnosis_ids.T\n",
        "diagnosis_ids.columns = diagnosis_ids.iloc[0]\n",
        "diagnosis_ids = diagnosis_ids.iloc[1:]\n",
        "diagnosis_ids.head()"
      ],
      "metadata": {
        "colab": {
          "base_uri": "https://localhost:8080/",
          "height": 141
        },
        "id": "1h6nEzkOOlXX",
        "outputId": "d2b5ab3c-b838-467b-b709-c4ec1d314f9b"
      },
      "execution_count": null,
      "outputs": [
        {
          "output_type": "execute_result",
          "data": {
            "text/plain": [
              "Patient_ID 002_S_0685 003_S_0981 003_S_0907 005_S_0610 007_S_1222 035_S_0156  \\\n",
              "Diagnosis          CN         CN         CN         CN         CN         CN   \n",
              "Sex                 F          F          F          M          F          M   \n",
              "\n",
              "Patient_ID 035_S_0048 073_S_0089 002_S_0413 002_S_0295  ... 130_S_1290  \\\n",
              "Diagnosis          CN         CN         CN         CN  ...         AD   \n",
              "Sex                 M          M          F          M  ...          F   \n",
              "\n",
              "Patient_ID 057_S_0474 027_S_1081 024_S_1171 020_S_0213 013_S_1205 005_S_0814  \\\n",
              "Diagnosis          AD         AD         AD         AD         AD         AD   \n",
              "Sex                 F          M          M          M          M          F   \n",
              "\n",
              "Patient_ID 002_S_0619 002_S_1018 002_S_0938  \n",
              "Diagnosis          AD         AD         AD  \n",
              "Sex                 M          F          F  \n",
              "\n",
              "[2 rows x 30 columns]"
            ],
            "text/html": [
              "\n",
              "  <div id=\"df-cfd331e6-bd3f-4f03-9c49-733a0ec1f24b\">\n",
              "    <div class=\"colab-df-container\">\n",
              "      <div>\n",
              "<style scoped>\n",
              "    .dataframe tbody tr th:only-of-type {\n",
              "        vertical-align: middle;\n",
              "    }\n",
              "\n",
              "    .dataframe tbody tr th {\n",
              "        vertical-align: top;\n",
              "    }\n",
              "\n",
              "    .dataframe thead th {\n",
              "        text-align: right;\n",
              "    }\n",
              "</style>\n",
              "<table border=\"1\" class=\"dataframe\">\n",
              "  <thead>\n",
              "    <tr style=\"text-align: right;\">\n",
              "      <th>Patient_ID</th>\n",
              "      <th>002_S_0685</th>\n",
              "      <th>003_S_0981</th>\n",
              "      <th>003_S_0907</th>\n",
              "      <th>005_S_0610</th>\n",
              "      <th>007_S_1222</th>\n",
              "      <th>035_S_0156</th>\n",
              "      <th>035_S_0048</th>\n",
              "      <th>073_S_0089</th>\n",
              "      <th>002_S_0413</th>\n",
              "      <th>002_S_0295</th>\n",
              "      <th>...</th>\n",
              "      <th>130_S_1290</th>\n",
              "      <th>057_S_0474</th>\n",
              "      <th>027_S_1081</th>\n",
              "      <th>024_S_1171</th>\n",
              "      <th>020_S_0213</th>\n",
              "      <th>013_S_1205</th>\n",
              "      <th>005_S_0814</th>\n",
              "      <th>002_S_0619</th>\n",
              "      <th>002_S_1018</th>\n",
              "      <th>002_S_0938</th>\n",
              "    </tr>\n",
              "  </thead>\n",
              "  <tbody>\n",
              "    <tr>\n",
              "      <th>Diagnosis</th>\n",
              "      <td>CN</td>\n",
              "      <td>CN</td>\n",
              "      <td>CN</td>\n",
              "      <td>CN</td>\n",
              "      <td>CN</td>\n",
              "      <td>CN</td>\n",
              "      <td>CN</td>\n",
              "      <td>CN</td>\n",
              "      <td>CN</td>\n",
              "      <td>CN</td>\n",
              "      <td>...</td>\n",
              "      <td>AD</td>\n",
              "      <td>AD</td>\n",
              "      <td>AD</td>\n",
              "      <td>AD</td>\n",
              "      <td>AD</td>\n",
              "      <td>AD</td>\n",
              "      <td>AD</td>\n",
              "      <td>AD</td>\n",
              "      <td>AD</td>\n",
              "      <td>AD</td>\n",
              "    </tr>\n",
              "    <tr>\n",
              "      <th>Sex</th>\n",
              "      <td>F</td>\n",
              "      <td>F</td>\n",
              "      <td>F</td>\n",
              "      <td>M</td>\n",
              "      <td>F</td>\n",
              "      <td>M</td>\n",
              "      <td>M</td>\n",
              "      <td>M</td>\n",
              "      <td>F</td>\n",
              "      <td>M</td>\n",
              "      <td>...</td>\n",
              "      <td>F</td>\n",
              "      <td>F</td>\n",
              "      <td>M</td>\n",
              "      <td>M</td>\n",
              "      <td>M</td>\n",
              "      <td>M</td>\n",
              "      <td>F</td>\n",
              "      <td>M</td>\n",
              "      <td>F</td>\n",
              "      <td>F</td>\n",
              "    </tr>\n",
              "  </tbody>\n",
              "</table>\n",
              "<p>2 rows × 30 columns</p>\n",
              "</div>\n",
              "      <button class=\"colab-df-convert\" onclick=\"convertToInteractive('df-cfd331e6-bd3f-4f03-9c49-733a0ec1f24b')\"\n",
              "              title=\"Convert this dataframe to an interactive table.\"\n",
              "              style=\"display:none;\">\n",
              "        \n",
              "  <svg xmlns=\"http://www.w3.org/2000/svg\" height=\"24px\"viewBox=\"0 0 24 24\"\n",
              "       width=\"24px\">\n",
              "    <path d=\"M0 0h24v24H0V0z\" fill=\"none\"/>\n",
              "    <path d=\"M18.56 5.44l.94 2.06.94-2.06 2.06-.94-2.06-.94-.94-2.06-.94 2.06-2.06.94zm-11 1L8.5 8.5l.94-2.06 2.06-.94-2.06-.94L8.5 2.5l-.94 2.06-2.06.94zm10 10l.94 2.06.94-2.06 2.06-.94-2.06-.94-.94-2.06-.94 2.06-2.06.94z\"/><path d=\"M17.41 7.96l-1.37-1.37c-.4-.4-.92-.59-1.43-.59-.52 0-1.04.2-1.43.59L10.3 9.45l-7.72 7.72c-.78.78-.78 2.05 0 2.83L4 21.41c.39.39.9.59 1.41.59.51 0 1.02-.2 1.41-.59l7.78-7.78 2.81-2.81c.8-.78.8-2.07 0-2.86zM5.41 20L4 18.59l7.72-7.72 1.47 1.35L5.41 20z\"/>\n",
              "  </svg>\n",
              "      </button>\n",
              "      \n",
              "  <style>\n",
              "    .colab-df-container {\n",
              "      display:flex;\n",
              "      flex-wrap:wrap;\n",
              "      gap: 12px;\n",
              "    }\n",
              "\n",
              "    .colab-df-convert {\n",
              "      background-color: #E8F0FE;\n",
              "      border: none;\n",
              "      border-radius: 50%;\n",
              "      cursor: pointer;\n",
              "      display: none;\n",
              "      fill: #1967D2;\n",
              "      height: 32px;\n",
              "      padding: 0 0 0 0;\n",
              "      width: 32px;\n",
              "    }\n",
              "\n",
              "    .colab-df-convert:hover {\n",
              "      background-color: #E2EBFA;\n",
              "      box-shadow: 0px 1px 2px rgba(60, 64, 67, 0.3), 0px 1px 3px 1px rgba(60, 64, 67, 0.15);\n",
              "      fill: #174EA6;\n",
              "    }\n",
              "\n",
              "    [theme=dark] .colab-df-convert {\n",
              "      background-color: #3B4455;\n",
              "      fill: #D2E3FC;\n",
              "    }\n",
              "\n",
              "    [theme=dark] .colab-df-convert:hover {\n",
              "      background-color: #434B5C;\n",
              "      box-shadow: 0px 1px 3px 1px rgba(0, 0, 0, 0.15);\n",
              "      filter: drop-shadow(0px 1px 2px rgba(0, 0, 0, 0.3));\n",
              "      fill: #FFFFFF;\n",
              "    }\n",
              "  </style>\n",
              "\n",
              "      <script>\n",
              "        const buttonEl =\n",
              "          document.querySelector('#df-cfd331e6-bd3f-4f03-9c49-733a0ec1f24b button.colab-df-convert');\n",
              "        buttonEl.style.display =\n",
              "          google.colab.kernel.accessAllowed ? 'block' : 'none';\n",
              "\n",
              "        async function convertToInteractive(key) {\n",
              "          const element = document.querySelector('#df-cfd331e6-bd3f-4f03-9c49-733a0ec1f24b');\n",
              "          const dataTable =\n",
              "            await google.colab.kernel.invokeFunction('convertToInteractive',\n",
              "                                                     [key], {});\n",
              "          if (!dataTable) return;\n",
              "\n",
              "          const docLinkHtml = 'Like what you see? Visit the ' +\n",
              "            '<a target=\"_blank\" href=https://colab.research.google.com/notebooks/data_table.ipynb>data table notebook</a>'\n",
              "            + ' to learn more about interactive tables.';\n",
              "          element.innerHTML = '';\n",
              "          dataTable['output_type'] = 'display_data';\n",
              "          await google.colab.output.renderOutput(dataTable, element);\n",
              "          const docLink = document.createElement('div');\n",
              "          docLink.innerHTML = docLinkHtml;\n",
              "          element.appendChild(docLink);\n",
              "        }\n",
              "      </script>\n",
              "    </div>\n",
              "  </div>\n",
              "  "
            ]
          },
          "metadata": {},
          "execution_count": 9
        }
      ]
    },
    {
      "cell_type": "code",
      "execution_count": null,
      "metadata": {
        "id": "hjf5SXXHNfQv"
      },
      "outputs": [],
      "source": [
        "# Creating Binary Hippocampal Volume Masks:\n",
        "\n",
        "def binary_segmentation_mask(scan, seg_nums, tool= 'other', scan_unpacked = True, reorient=False):\n",
        "\n",
        "  if reorient == True:\n",
        "    scan = nib.as_closest_canonical(scan)\n",
        "\n",
        "\n",
        "  if scan_unpacked == False: #depending on whether a pre-processed array or the nifti file is input directly the scan data needs to be unpacked (different function uses)\n",
        "    scan = scan.get_fdata()\n",
        "\n",
        "  # each of these numbers belongs to the left or right hippocampus\n",
        "  #accounting for the outlier cases of the semi-manual scan segmentation (SNT) which for some scans use different segment number for the hippocampi -> thus finding these indiviudally for each scan\n",
        "  if tool == 'SNT':\n",
        "    pix_nums = np.unique(scan) #the intensity at index 0 will always be 0 which corresponds to the black background \n",
        "    seg_num1 = pix_nums[1]\n",
        "    seg_num2 = pix_nums[2]\n",
        "\n",
        "  else:\n",
        "    seg_num1 = seg_nums[0]\n",
        "    seg_num2 = seg_nums[1]\n",
        "  \n",
        "  #Creating binary mask from voxels that are of either hippocampal label\n",
        "  seg1_binary_mask = scan == seg_num1\n",
        "  seg2_binary_mask = scan == seg_num2\n",
        "\n",
        "  #combining the left and right hippocampus bianry masks:\n",
        "  binary_mask = seg1_binary_mask + seg2_binary_mask\n",
        "  binary_mask = np.reshape(binary_mask, (binary_mask.shape[0], binary_mask.shape[1], binary_mask.shape[2])) #the thresholding adds an extra (,,,1) at the end of the 3D image array which is not needed\n",
        "  binary_mask = binary_mask.astype(int) #converting False - 0 and True to 1\n",
        "  \n",
        "  return binary_mask"
      ]
    },
    {
      "cell_type": "code",
      "source": [
        "def list_binary_segmentation_mask(scan_list, seg_nums, tool= 'other', scan_unpacked = True, reorient=False):\n",
        "\n",
        "  binary_mask_list = []\n",
        "\n",
        "  for scan in range(len(scan_list)):\n",
        "    binary_mask = binary_segmentation_mask(scan_list[scan], seg_nums, tool, scan_unpacked, reorient)\n",
        "    binary_mask_list.append(binary_mask)\n",
        "\n",
        "  return binary_mask_list"
      ],
      "metadata": {
        "id": "2iI2h8vpNghX"
      },
      "execution_count": null,
      "outputs": []
    },
    {
      "cell_type": "code",
      "source": [
        "# the code is adapted from this SITK tutorial: https://github.com/SimpleITK/TUTORIAL/blob/main/05_basic_registration.ipynb\n",
        "\n",
        "def register_masks(fixed_binary_mask, moving_binary_mask):\n",
        "\n",
        "  #loading the binary masks of two segmentations as SITK images:\n",
        "  fixed_image = sitk.Cast(sitk.GetImageFromArray(fixed_binary_mask), sitk.sitkFloat32)\n",
        "  moving_image = sitk.Cast(sitk.GetImageFromArray(moving_binary_mask), sitk.sitkFloat32)\n",
        "\n",
        "  #fitting an intial transform which centers the images as a start\n",
        "  initial_transform = sitk.CenteredTransformInitializer(fixed_image, moving_image, sitk.Similarity3DTransform(), sitk.CenteredTransformInitializerFilter.GEOMETRY)\n",
        "\n",
        "  #define the registration method's parameters:\n",
        "  registration_method = sitk.ImageRegistrationMethod()\n",
        "  registration_method.SetMetricAsMeanSquares()\n",
        "  registration_method.SetMetricSamplingStrategy(registration_method.RANDOM)\n",
        "  registration_method.SetMetricSamplingPercentage(0.1)\n",
        "  registration_method.SetInterpolator(sitk.sitkLinear)\n",
        "\n",
        "  #Defining the Optimizer Parameters for the final rigid translation:\n",
        "  registration_method.SetOptimizerAsGradientDescent(learningRate=1.0, numberOfIterations=100, convergenceMinimumValue=1e-6, convergenceWindowSize=10)\n",
        "  registration_method.SetOptimizerScalesFromPhysicalShift()\n",
        "  registration_method.SetInitialTransform(initial_transform, inPlace=True)\n",
        "\n",
        "  #Executing the final registration after training:\n",
        "  final_transform = registration_method.Execute(fixed_image, moving_image)\n",
        "  moving_resampled = sitk.Resample(moving_image, fixed_image, final_transform, sitk.sitkLinear, 0.0, moving_image.GetPixelID())\n",
        "\n",
        "  #casting the SITK image back to an np.array to be plotted/compared:\n",
        "  moving_resampled_arr = sitk.GetArrayFromImage(moving_resampled)\n",
        "\n",
        "  #creating a binary segmentation mask again:\n",
        "  binary_moving_resampled_arr = moving_resampled_arr  > 0\n",
        "  binary_moving_resampled_arr = binary_moving_resampled_arr.astype(int) #converting False - 0 and True to 1\n",
        "\n",
        "  return binary_moving_resampled_arr\n",
        "\n"
      ],
      "metadata": {
        "id": "JqViY6d7P1Em"
      },
      "execution_count": null,
      "outputs": []
    },
    {
      "cell_type": "code",
      "source": [
        "def register_list_masks(binary_scans_list_tool_fixed, binary_scans_list_tool_moving): \n",
        "\n",
        "  binary_scans_moved_list = []\n",
        "\n",
        "\n",
        "  for i in range(len(binary_scans_list_tool_fixed)):\n",
        "    moved_mask_resampled = register_masks(binary_scans_list_tool_fixed[i], binary_scans_list_tool_moving[i])\n",
        "    binary_scans_moved_list.append(moved_mask_resampled)\n",
        "\n",
        "  return binary_scans_moved_list"
      ],
      "metadata": {
        "id": "wUx6ysbJQVIk"
      },
      "execution_count": null,
      "outputs": []
    },
    {
      "cell_type": "code",
      "source": [
        "def dice_score(seg1_mask, seg2_mask):\n",
        "\n",
        "    intersection = np.sum(seg1_mask * seg2_mask)\n",
        "    volume1 = np.sum(seg1_mask)\n",
        "    volume2 = np.sum(seg2_mask)\n",
        "\n",
        "    dice = (2 * intersection) / (volume1 + volume2)\n",
        "\n",
        "    return dice  "
      ],
      "metadata": {
        "id": "V62VGTB3QcXN"
      },
      "execution_count": null,
      "outputs": []
    },
    {
      "cell_type": "code",
      "source": [
        "def jaccard_score(seg1_mask, seg2_mask):\n",
        "\n",
        "    intersection = np.sum(seg1_mask * seg2_mask)\n",
        "    volume1 = np.sum(seg1_mask)\n",
        "    volume2 = np.sum(seg2_mask)\n",
        "\n",
        "    jaccard = (intersection) / (((volume1 + volume2)) - intersection)\n",
        "    \n",
        "    return jaccard  "
      ],
      "metadata": {
        "id": "lb_QRuxJS7H7"
      },
      "execution_count": null,
      "outputs": []
    },
    {
      "cell_type": "code",
      "source": [
        "def compare_dice_two_tools_register_masks(binary_scans_list_tool, binary_scans_registered_list_tool): \n",
        "\n",
        "  dice_scores_list = []\n",
        "  jaccard_scores_list = []\n",
        "\n",
        "  for i in range(len(binary_scans_list_tool)):\n",
        "    dice_mask_registered_mask = dice_score(binary_scans_list_tool[i], binary_scans_registered_list_tool[i])\n",
        "    jaccard_mask_registered_mask = jaccard_score(binary_scans_list_tool[i], binary_scans_registered_list_tool[i])\n",
        "    dice_scores_list.append(dice_mask_registered_mask)\n",
        "    jaccard_scores_list.append(jaccard_mask_registered_mask)\n",
        "\n",
        "  return dice_scores_list, jaccard_scores_list"
      ],
      "metadata": {
        "id": "Obokkb10SNFr"
      },
      "execution_count": null,
      "outputs": []
    },
    {
      "cell_type": "code",
      "source": [
        "#create heapmap from the different dice scores -> each segmnetation with another segmentation for the same patient:\n",
        "\n",
        "def scores_for_patient(list_segs_patient):\n",
        "\n",
        "  list_dice_patient = []\n",
        "  list_jaccard_patient = []\n",
        "\n",
        "  # to create a heatmap I want to compute the dice/jaccard score for each segmentation of a tool for a given patient with each other segmentation (expect to see scores of 1 for same tool)\n",
        "  for seg1 in list_segs_patient:\n",
        "    for seg2 in list_segs_patient:\n",
        "\n",
        "      dice = dice_score(seg1, seg2)\n",
        "      jaccard = jaccard_score(seg1, seg2)\n",
        "      list_dice_patient.append(dice)\n",
        "      list_jaccard_patient.append(jaccard)\n",
        "\n",
        "  return list_dice_patient, list_jaccard_patient   "
      ],
      "metadata": {
        "id": "44KHRrPMTG90"
      },
      "execution_count": null,
      "outputs": []
    },
    {
      "cell_type": "code",
      "source": [
        "#compute the dice score between all segementations of different tools for a given patient for all the different patients -> store in individual lists to make a heatmap\n",
        "def scores_all_patients(list_segs_tools_scans, scan_unpacked=True):\n",
        "\n",
        "  # creating a list of lists so that each list that is appended corresponds to a given patient's segmentation scores\n",
        "  dice_score_matrix = []\n",
        "  jaccard_score_matrix = []\n",
        "\n",
        "  for i in range(len(list_segs_tools_scans[0])): #this returns the number of patients there are for which we have segementations by different tools\n",
        "    patient_i_segs_scans = []\n",
        "\n",
        "    for tool in range(len(list_segs_tools_scans)):\n",
        "      scan = list_segs_tools_scans[tool][i] # a single segmentation scan of a given tool for a given patient\n",
        "\n",
        "      if scan_unpacked == False:\n",
        "        scan = scan.get_fdata()\n",
        "\n",
        "      patient_i_segs_scans.append(scan)\n",
        "      \n",
        "    list_dice_patient, list_jaccard_patient = scores_for_patient(patient_i_segs_scans) #this takes a list of all segmentations of a patient's original scan\n",
        "\n",
        "    dice_score_matrix.append(list_dice_patient)\n",
        "    jaccard_score_matrix.append(list_jaccard_patient)\n",
        "\n",
        "  return  dice_score_matrix, jaccard_score_matrix\n"
      ],
      "metadata": {
        "id": "SqyIzV8QTQnB"
      },
      "execution_count": null,
      "outputs": []
    },
    {
      "cell_type": "code",
      "source": [
        "# cretaing a dict with patient id as the key for all three segmentation tools \n",
        "snt_dict_patient_id_scan_all = dict_patient_id_scan(SNT_original_scans + SNT_original_extra_scans)\n",
        "fs_dict_patient_id_scan_all = dict_patient_id_scan(FS_original_scans + FS_original_extra_scans)\n",
        "maper_dict_patient_id_scan_all = dict_patient_id_scan(MAPER_original_scans + MAPER_original_extra_scans)\n",
        "\n",
        "# obtaining the ordered patient ids (from csv data frame) in terms of diagnosis CN, MCI, AD\n",
        "ordered_patient_id_diagnosis = list(diagnosis_ids.columns)\n",
        "\n",
        "#ordering each of the scan's dictionary by this patient order \n",
        "snt_dict_ordered_all = {id:snt_dict_patient_id_scan_all[id] for id in ordered_patient_id_diagnosis}\n",
        "fs_dict_ordered_all = {id:fs_dict_patient_id_scan_all[id] for id in ordered_patient_id_diagnosis}\n",
        "maper_dict_ordered_all = {id:maper_dict_patient_id_scan_all[id] for id in ordered_patient_id_diagnosis}\n",
        "\n",
        "#getting the scans (items) as a ordered list from the dicts -> as they were previously ordered each tool: SNT, FS, MAPER will have the same patient order\n",
        "snt_scans_ordered_all = [snt_dict_patient_id_scan_all[id] for id in ordered_patient_id_diagnosis]\n",
        "fs_scans_ordered_all = [fs_dict_patient_id_scan_all[id] for id in ordered_patient_id_diagnosis]\n",
        "maper_scans_ordered_all = [maper_dict_patient_id_scan_all[id] for id in ordered_patient_id_diagnosis]"
      ],
      "metadata": {
        "id": "LWbtAX0QNjVs"
      },
      "execution_count": null,
      "outputs": []
    },
    {
      "cell_type": "code",
      "source": [
        "# using the defined functions to create hippocampal binary masks from the MRI segmented scans to be used for obtaining the centered 3D crops\n",
        "FS_ordered_binary_masks_all = list_binary_segmentation_mask(fs_scans_ordered_all, [17, 53], scan_unpacked=False, reorient=True)\n",
        "maper_ordered_binary_masks_all = list_binary_segmentation_mask(maper_scans_ordered_all, [512, 256], scan_unpacked=False, reorient=True)\n",
        "snt_ordered_binary_masks_all = list_binary_segmentation_mask(snt_scans_ordered_all, [0, 0], tool='SNT', scan_unpacked=False, reorient=True) # the seg nums will be found on an individual basis"
      ],
      "metadata": {
        "id": "OKUpY3MWP7C6"
      },
      "execution_count": null,
      "outputs": []
    },
    {
      "cell_type": "code",
      "source": [
        "maper_reg_to_snt_binary_masks_all = register_list_masks(snt_ordered_binary_masks_all, maper_ordered_binary_masks_all)\n",
        "fs_reg_to_snt_binary_masks_all = register_list_masks(snt_ordered_binary_masks_all, FS_ordered_binary_masks_all)\n",
        "maper_reg_to_fs_binary_masks_all = register_list_masks(FS_ordered_binary_masks_all, maper_ordered_binary_masks_all)"
      ],
      "metadata": {
        "id": "jjHDjYCBQg12"
      },
      "execution_count": null,
      "outputs": []
    },
    {
      "cell_type": "code",
      "source": [
        "sns.set_style(\"whitegrid\", {'axes.grid' : False})"
      ],
      "metadata": {
        "id": "YuRKu8sXZaUp"
      },
      "execution_count": null,
      "outputs": []
    },
    {
      "cell_type": "code",
      "source": [
        "for i in range(110, 111):\n",
        "  print(i)\n",
        "  print('Maper Segmentation registered to SNT Segmentation')\n",
        "  print('view: x')\n",
        "  plt.imshow(snt_ordered_binary_masks_all[5][i,:,:], cmap='gray')\n",
        "  plt.show()\n",
        "  plt.imshow(maper_reg_to_snt_binary_masks_all[5][i,:,:], cmap='gray')\n",
        "  plt.show()\n",
        "\n",
        "  print('view: y')\n",
        "  plt.imshow(snt_ordered_binary_masks_all[5][:,i,:], cmap='gray')\n",
        "  plt.show()\n",
        "  plt.imshow(maper_reg_to_snt_binary_masks_all[5][:,i,:], cmap='gray')\n",
        "  plt.show()\n",
        "\n",
        "  print('view: z')\n",
        "  plt.imshow(snt_ordered_binary_masks_all[5][:,:,i], cmap='gray')\n",
        "  plt.show()\n",
        "  plt.imshow(maper_reg_to_snt_binary_masks_all[5][:,:, i], cmap='gray')\n",
        "  plt.show()"
      ],
      "metadata": {
        "colab": {
          "base_uri": "https://localhost:8080/",
          "height": 1000
        },
        "id": "W4pPuf4CYRp7",
        "outputId": "35534c4e-1bec-476d-f3f8-43c08b5e6131"
      },
      "execution_count": null,
      "outputs": [
        {
          "output_type": "stream",
          "name": "stdout",
          "text": [
            "110\n",
            "Maper Segmentation registered to SNT Segmentation\n",
            "view: x\n"
          ]
        },
        {
          "output_type": "display_data",
          "data": {
            "text/plain": [
              "<Figure size 640x480 with 1 Axes>"
            ],
            "image/png": "[encoded data removed]"
          },
          "metadata": {}
        },
        {
          "output_type": "display_data",
          "data": {
            "text/plain": [
              "<Figure size 640x480 with 1 Axes>"
            ],
            "image/png": "[encoded data removed]"
          },
          "metadata": {}
        },
        {
          "output_type": "stream",
          "name": "stdout",
          "text": [
            "view: y\n"
          ]
        },
        {
          "output_type": "display_data",
          "data": {
            "text/plain": [
              "<Figure size 640x480 with 1 Axes>"
            ],
            "image/png": "[encoded data removed]"
          },
          "metadata": {}
        },
        {
          "output_type": "display_data",
          "data": {
            "text/plain": [
              "<Figure size 640x480 with 1 Axes>"
            ],
            "image/png": "[encoded data removed]"
          },
          "metadata": {}
        },
        {
          "output_type": "stream",
          "name": "stdout",
          "text": [
            "view: z\n"
          ]
        },
        {
          "output_type": "display_data",
          "data": {
            "text/plain": [
              "<Figure size 640x480 with 1 Axes>"
            ],
            "image/png": "[encoded data removed]"
          },
          "metadata": {}
        },
        {
          "output_type": "display_data",
          "data": {
            "text/plain": [
              "<Figure size 640x480 with 1 Axes>"
            ],
            "image/png": "[encoded data removed]"
          },
          "metadata": {}
        }
      ]
    },
    {
      "cell_type": "code",
      "source": [
        "# make dictionary of which list of scan is regsitered to which other list of scans -> to compute the dice/jaccard score:\n",
        "\n",
        "dict_reg_masks_tools = {\n",
        "    'MAPER to SNT' : (snt_ordered_binary_masks_all, maper_reg_to_snt_binary_masks_all),\n",
        "    'FS to SNT' : (snt_ordered_binary_masks_all, fs_reg_to_snt_binary_masks_all),\n",
        "    'MAPER to FS' : (FS_ordered_binary_masks_all, maper_reg_to_fs_binary_masks_all),\n",
        "}"
      ],
      "metadata": {
        "id": "u3db7weISEQz"
      },
      "execution_count": null,
      "outputs": []
    },
    {
      "cell_type": "code",
      "source": [
        "#export dice scores as a csv file which can be loaded in \n",
        "\n",
        "dice_scores_list_Maper_reg_Snt, jaccard_scores_list_Maper_reg_Snt = compare_dice_two_tools_register_masks(snt_ordered_binary_masks_all, maper_reg_to_snt_binary_masks_all)\n",
        "dice_scores_list_FS_reg_Snt, jaccard_scores_list_FS_reg_Snt = compare_dice_two_tools_register_masks(snt_ordered_binary_masks_all, fs_reg_to_snt_binary_masks_all)\n",
        "dice_scores_list_Maper_reg_FS, jaccard_scores_list_Maper_reg_FS = compare_dice_two_tools_register_masks(FS_ordered_binary_masks_all, maper_reg_to_fs_binary_masks_all)\n",
        "\n",
        "print(dice_scores_list_Maper_reg_Snt)\n",
        "\n",
        "\n",
        "#df_dice_scores_list_Maper_reg_Snt.to_csv('dice_scores_list_Maper_reg_Snt1.csv') \n",
        "#df_jaccard_scores_list_Maper_reg_Snt.to_csv('jaccard_scores_list_Maper_reg_Snt1.csv') "
      ],
      "metadata": {
        "colab": {
          "base_uri": "https://localhost:8080/"
        },
        "id": "nflRWFtMOgqn",
        "outputId": "00766efb-3667-484a-c6f0-e5feac660c15"
      },
      "execution_count": null,
      "outputs": [
        {
          "output_type": "stream",
          "name": "stdout",
          "text": [
            "[0.6271973768102742, 0.5854134165366615, 0.592032967032967, 0.5630537022859018, 0.5688642659279778, 0.5926365795724465, 0.5566974394704756, 0.6185359301544661, 0.597488038277512, 0.5929946743138058, 0.555531914893617, 0.30323353293413174, 0.5483295684223042, 0.5783932467039742, 0.5825223631180576, 0.5017182130584192, 0.512217611802674, 0.5582112567463376, 0.504650024473813, 0.5401892922729199, 0.5398976982097187, 0.49778924097273397, 0.5268654984333294, 0.5903440821473608, 0.2587355761417195, 0.5385863267670915, 0.48156776757571607, 0.4495366892061107, 0.6097963676389653, 0.4656530002715178]\n"
          ]
        }
      ]
    },
    {
      "cell_type": "code",
      "source": [
        "dice_scores_list_list = []\n",
        "jaccard_scores_list_list = []\n",
        "\n",
        "for key in dict_reg_masks_tools.keys():\n",
        "  masks_tool1 = dict_reg_masks_tools[key][0]\n",
        "  masks_tool2 = dict_reg_masks_tools[key][1]\n",
        "\n",
        "  dice_scores_list, jaccard_scores_list = compare_dice_two_tools_register_masks(masks_tool1, masks_tool2)\n",
        "  dice_scores_list_list.append(dice_scores_list)\n",
        "  jaccard_scores_list_list.append(jaccard_scores_list)\n"
      ],
      "metadata": {
        "id": "TPlzv6QIORlv"
      },
      "execution_count": null,
      "outputs": []
    },
    {
      "cell_type": "code",
      "source": [
        "df_jaccard_scores_list_list = pd.DataFrame(jaccard_scores_list_list)"
      ],
      "metadata": {
        "id": "oW0D-1s_W9D6"
      },
      "execution_count": null,
      "outputs": []
    },
    {
      "cell_type": "code",
      "source": [
        "df_dice_scores_list_list = pd.DataFrame(dice_scores_list_list)\n",
        "display(df_dice_scores_list_list)"
      ],
      "metadata": {
        "colab": {
          "base_uri": "https://localhost:8080/",
          "height": 173
        },
        "id": "mi7EunxVRmZw",
        "outputId": "86095872-b75d-47e6-bbe3-e38fa7c5a5e5"
      },
      "execution_count": null,
      "outputs": [
        {
          "output_type": "display_data",
          "data": {
            "text/plain": [
              "         0         1         2         3         4         5         6   \\\n",
              "0  0.627197  0.585413  0.592033  0.563054  0.568864  0.592637  0.556697   \n",
              "1  0.581429  0.411060  0.392762  0.564754  0.522963  0.394468  0.434818   \n",
              "2  0.629017  0.473204  0.524608  0.569372  0.574027  0.438262  0.529910   \n",
              "\n",
              "         7         8         9   ...        20        21        22        23  \\\n",
              "0  0.618536  0.597488  0.592995  ...  0.539898  0.497789  0.526865  0.590344   \n",
              "1  0.437621  0.530261  0.534483  ...  0.285289  0.420546  0.463029  0.523194   \n",
              "2  0.509904  0.606387  0.604971  ...  0.555340  0.471998  0.545134  0.629290   \n",
              "\n",
              "         24        25        26        27        28        29  \n",
              "0  0.258736  0.538586  0.481568  0.449537  0.609796  0.465653  \n",
              "1  0.000000  0.371371  0.463069  0.474676  0.524226  0.446475  \n",
              "2  0.519323  0.495470  0.567849  0.463368  0.630715  0.415536  \n",
              "\n",
              "[3 rows x 30 columns]"
            ],
            "text/html": [
              "\n",
              "  <div id=\"df-0f6cc837-3097-4ed8-96c1-234c2f3bd39f\">\n",
              "    <div class=\"colab-df-container\">\n",
              "      <div>\n",
              "<style scoped>\n",
              "    .dataframe tbody tr th:only-of-type {\n",
              "        vertical-align: middle;\n",
              "    }\n",
              "\n",
              "    .dataframe tbody tr th {\n",
              "        vertical-align: top;\n",
              "    }\n",
              "\n",
              "    .dataframe thead th {\n",
              "        text-align: right;\n",
              "    }\n",
              "</style>\n",
              "<table border=\"1\" class=\"dataframe\">\n",
              "  <thead>\n",
              "    <tr style=\"text-align: right;\">\n",
              "      <th></th>\n",
              "      <th>0</th>\n",
              "      <th>1</th>\n",
              "      <th>2</th>\n",
              "      <th>3</th>\n",
              "      <th>4</th>\n",
              "      <th>5</th>\n",
              "      <th>6</th>\n",
              "      <th>7</th>\n",
              "      <th>8</th>\n",
              "      <th>9</th>\n",
              "      <th>...</th>\n",
              "      <th>20</th>\n",
              "      <th>21</th>\n",
              "      <th>22</th>\n",
              "      <th>23</th>\n",
              "      <th>24</th>\n",
              "      <th>25</th>\n",
              "      <th>26</th>\n",
              "      <th>27</th>\n",
              "      <th>28</th>\n",
              "      <th>29</th>\n",
              "    </tr>\n",
              "  </thead>\n",
              "  <tbody>\n",
              "    <tr>\n",
              "      <th>0</th>\n",
              "      <td>0.627197</td>\n",
              "      <td>0.585413</td>\n",
              "      <td>0.592033</td>\n",
              "      <td>0.563054</td>\n",
              "      <td>0.568864</td>\n",
              "      <td>0.592637</td>\n",
              "      <td>0.556697</td>\n",
              "      <td>0.618536</td>\n",
              "      <td>0.597488</td>\n",
              "      <td>0.592995</td>\n",
              "      <td>...</td>\n",
              "      <td>0.539898</td>\n",
              "      <td>0.497789</td>\n",
              "      <td>0.526865</td>\n",
              "      <td>0.590344</td>\n",
              "      <td>0.258736</td>\n",
              "      <td>0.538586</td>\n",
              "      <td>0.481568</td>\n",
              "      <td>0.449537</td>\n",
              "      <td>0.609796</td>\n",
              "      <td>0.465653</td>\n",
              "    </tr>\n",
              "    <tr>\n",
              "      <th>1</th>\n",
              "      <td>0.581429</td>\n",
              "      <td>0.411060</td>\n",
              "      <td>0.392762</td>\n",
              "      <td>0.564754</td>\n",
              "      <td>0.522963</td>\n",
              "      <td>0.394468</td>\n",
              "      <td>0.434818</td>\n",
              "      <td>0.437621</td>\n",
              "      <td>0.530261</td>\n",
              "      <td>0.534483</td>\n",
              "      <td>...</td>\n",
              "      <td>0.285289</td>\n",
              "      <td>0.420546</td>\n",
              "      <td>0.463029</td>\n",
              "      <td>0.523194</td>\n",
              "      <td>0.000000</td>\n",
              "      <td>0.371371</td>\n",
              "      <td>0.463069</td>\n",
              "      <td>0.474676</td>\n",
              "      <td>0.524226</td>\n",
              "      <td>0.446475</td>\n",
              "    </tr>\n",
              "    <tr>\n",
              "      <th>2</th>\n",
              "      <td>0.629017</td>\n",
              "      <td>0.473204</td>\n",
              "      <td>0.524608</td>\n",
              "      <td>0.569372</td>\n",
              "      <td>0.574027</td>\n",
              "      <td>0.438262</td>\n",
              "      <td>0.529910</td>\n",
              "      <td>0.509904</td>\n",
              "      <td>0.606387</td>\n",
              "      <td>0.604971</td>\n",
              "      <td>...</td>\n",
              "      <td>0.555340</td>\n",
              "      <td>0.471998</td>\n",
              "      <td>0.545134</td>\n",
              "      <td>0.629290</td>\n",
              "      <td>0.519323</td>\n",
              "      <td>0.495470</td>\n",
              "      <td>0.567849</td>\n",
              "      <td>0.463368</td>\n",
              "      <td>0.630715</td>\n",
              "      <td>0.415536</td>\n",
              "    </tr>\n",
              "  </tbody>\n",
              "</table>\n",
              "<p>3 rows × 30 columns</p>\n",
              "</div>\n",
              "      <button class=\"colab-df-convert\" onclick=\"convertToInteractive('df-0f6cc837-3097-4ed8-96c1-234c2f3bd39f')\"\n",
              "              title=\"Convert this dataframe to an interactive table.\"\n",
              "              style=\"display:none;\">\n",
              "        \n",
              "  <svg xmlns=\"http://www.w3.org/2000/svg\" height=\"24px\"viewBox=\"0 0 24 24\"\n",
              "       width=\"24px\">\n",
              "    <path d=\"M0 0h24v24H0V0z\" fill=\"none\"/>\n",
              "    <path d=\"M18.56 5.44l.94 2.06.94-2.06 2.06-.94-2.06-.94-.94-2.06-.94 2.06-2.06.94zm-11 1L8.5 8.5l.94-2.06 2.06-.94-2.06-.94L8.5 2.5l-.94 2.06-2.06.94zm10 10l.94 2.06.94-2.06 2.06-.94-2.06-.94-.94-2.06-.94 2.06-2.06.94z\"/><path d=\"M17.41 7.96l-1.37-1.37c-.4-.4-.92-.59-1.43-.59-.52 0-1.04.2-1.43.59L10.3 9.45l-7.72 7.72c-.78.78-.78 2.05 0 2.83L4 21.41c.39.39.9.59 1.41.59.51 0 1.02-.2 1.41-.59l7.78-7.78 2.81-2.81c.8-.78.8-2.07 0-2.86zM5.41 20L4 18.59l7.72-7.72 1.47 1.35L5.41 20z\"/>\n",
              "  </svg>\n",
              "      </button>\n",
              "      \n",
              "  <style>\n",
              "    .colab-df-container {\n",
              "      display:flex;\n",
              "      flex-wrap:wrap;\n",
              "      gap: 12px;\n",
              "    }\n",
              "\n",
              "    .colab-df-convert {\n",
              "      background-color: #E8F0FE;\n",
              "      border: none;\n",
              "      border-radius: 50%;\n",
              "      cursor: pointer;\n",
              "      display: none;\n",
              "      fill: #1967D2;\n",
              "      height: 32px;\n",
              "      padding: 0 0 0 0;\n",
              "      width: 32px;\n",
              "    }\n",
              "\n",
              "    .colab-df-convert:hover {\n",
              "      background-color: #E2EBFA;\n",
              "      box-shadow: 0px 1px 2px rgba(60, 64, 67, 0.3), 0px 1px 3px 1px rgba(60, 64, 67, 0.15);\n",
              "      fill: #174EA6;\n",
              "    }\n",
              "\n",
              "    [theme=dark] .colab-df-convert {\n",
              "      background-color: #3B4455;\n",
              "      fill: #D2E3FC;\n",
              "    }\n",
              "\n",
              "    [theme=dark] .colab-df-convert:hover {\n",
              "      background-color: #434B5C;\n",
              "      box-shadow: 0px 1px 3px 1px rgba(0, 0, 0, 0.15);\n",
              "      filter: drop-shadow(0px 1px 2px rgba(0, 0, 0, 0.3));\n",
              "      fill: #FFFFFF;\n",
              "    }\n",
              "  </style>\n",
              "\n",
              "      <script>\n",
              "        const buttonEl =\n",
              "          document.querySelector('#df-0f6cc837-3097-4ed8-96c1-234c2f3bd39f button.colab-df-convert');\n",
              "        buttonEl.style.display =\n",
              "          google.colab.kernel.accessAllowed ? 'block' : 'none';\n",
              "\n",
              "        async function convertToInteractive(key) {\n",
              "          const element = document.querySelector('#df-0f6cc837-3097-4ed8-96c1-234c2f3bd39f');\n",
              "          const dataTable =\n",
              "            await google.colab.kernel.invokeFunction('convertToInteractive',\n",
              "                                                     [key], {});\n",
              "          if (!dataTable) return;\n",
              "\n",
              "          const docLinkHtml = 'Like what you see? Visit the ' +\n",
              "            '<a target=\"_blank\" href=https://colab.research.google.com/notebooks/data_table.ipynb>data table notebook</a>'\n",
              "            + ' to learn more about interactive tables.';\n",
              "          element.innerHTML = '';\n",
              "          dataTable['output_type'] = 'display_data';\n",
              "          await google.colab.output.renderOutput(dataTable, element);\n",
              "          const docLink = document.createElement('div');\n",
              "          docLink.innerHTML = docLinkHtml;\n",
              "          element.appendChild(docLink);\n",
              "        }\n",
              "      </script>\n",
              "    </div>\n",
              "  </div>\n",
              "  "
            ]
          },
          "metadata": {}
        }
      ]
    },
    {
      "cell_type": "code",
      "source": [
        "# colorcoding the x_ticks which represent the different patient ids depending on the diagnosis of the patient -> there are three different diagnosis and 10 patients of each type (previously ordered)\n",
        "colors = ['blue', 'red', 'purple']\n",
        "tick_colors_list = []\n",
        "\n",
        "for i in range(len(colors)):\n",
        "  for j in range(10):\n",
        "    tick_colors_list.append(colors[i])"
      ],
      "metadata": {
        "id": "Qrc6Gjygazwg"
      },
      "execution_count": null,
      "outputs": []
    },
    {
      "cell_type": "code",
      "source": [
        "# creating a heatmap for several patients and a combination of the cropped segmentations by different tools \n",
        "# dice_matrix_crop_ordered_all_arr = np.array(dice_matrix_crop_ordered_all)\n",
        "\n",
        "sns.set(font_scale=0.9)\n",
        "ax = sns.heatmap(np.reshape(dice_scores_list_Maper_reg_Snt,(len(jaccard_scores_list_Maper_reg_Snt),1)), yticklabels=diagnosis_ids.columns, xticklabels=[''], vmin=0.2, vmax=0.6)\n",
        "\n",
        "ax.set_xticklabels(ax.get_xmajorticklabels(), fontsize = 7)\n",
        "\n",
        "for i, ticklabel in enumerate(ax.yaxis.get_majorticklabels()):\n",
        "    ticklabel.set_color(tick_colors_list[i])\n",
        "\n",
        "ax.set_title('Dice Similarity Coefficient')\n",
        "ax.set_ylabel('Patient IDs - CN, MCI, AD')\n",
        "ax.set_xlabel('MAPER(Reg) to SNT')\n",
        "\n",
        "plt.show()"
      ],
      "metadata": {
        "colab": {
          "base_uri": "https://localhost:8080/",
          "height": 460
        },
        "id": "jnRcwFCcTw_g",
        "outputId": "0dc76612-cb34-40cb-f0ae-c131e0fbf931"
      },
      "execution_count": null,
      "outputs": [
        {
          "output_type": "display_data",
          "data": {
            "text/plain": [
              "<Figure size 640x480 with 2 Axes>"
            ],
            "image/png": "[encoded data removed]"
          },
          "metadata": {}
        }
      ]
    },
    {
      "cell_type": "code",
      "source": [
        "axis_labels = ['MAPER to SNT', 'FS to SNT']"
      ],
      "metadata": {
        "id": "qzTZqQO9X5ij"
      },
      "execution_count": null,
      "outputs": []
    },
    {
      "cell_type": "code",
      "source": [
        "ax = sns.heatmap(df_dice_scores_list_list[:2],  xticklabels=diagnosis_ids.columns, yticklabels=axis_labels, vmin=0.17, vmax=0.7)\n",
        "\n",
        "ax.set_xticklabels(ax.get_xmajorticklabels(), fontsize = 7)\n",
        "\n",
        "for i, ticklabel in enumerate(ax.xaxis.get_majorticklabels()):\n",
        "    ticklabel.set_color(tick_colors_list[i])\n",
        "\n",
        "ax.set_title('Dice Similarity Coefficient', fontsize=15)\n",
        "ax.set_xlabel('Patient IDs - CN, MCI, AD')\n",
        "ax.set_ylabel('Segmentation Tools', fontsize=12)\n"
      ],
      "metadata": {
        "colab": {
          "base_uri": "https://localhost:8080/",
          "height": 540
        },
        "id": "QLXoCtQgQGQg",
        "outputId": "d947499f-27d5-49d0-da19-c3a943e9acdd"
      },
      "execution_count": null,
      "outputs": [
        {
          "output_type": "execute_result",
          "data": {
            "text/plain": [
              "Text(47.24999999999999, 0.5, 'Segmentation Tools')"
            ]
          },
          "metadata": {},
          "execution_count": 35
        },
        {
          "output_type": "display_data",
          "data": {
            "text/plain": [
              "<Figure size 640x480 with 2 Axes>"
            ],
            "image/png": "[encoded data removed]"
          },
          "metadata": {}
        }
      ]
    },
    {
      "cell_type": "code",
      "source": [
        "ax = sns.heatmap(df_jaccard_scores_list_list[:2],  xticklabels=diagnosis_ids.columns, yticklabels=axis_labels, vmin=0.15)\n",
        "\n",
        "ax.set_xticklabels(ax.get_xmajorticklabels(), fontsize = 7)\n",
        "\n",
        "for i, ticklabel in enumerate(ax.xaxis.get_majorticklabels()):\n",
        "    ticklabel.set_color(tick_colors_list[i])\n",
        "\n",
        "ax.set_title('Jaccard Similarity Coefficient', fontsize=15)\n",
        "ax.set_xlabel('Patient IDs - CN, MCI, AD')\n",
        "ax.set_ylabel('Segmentation Tools', fontsize=12)"
      ],
      "metadata": {
        "colab": {
          "base_uri": "https://localhost:8080/",
          "height": 540
        },
        "id": "_90Z_TAHXHHC",
        "outputId": "ca420036-a36c-4f02-9b59-e6436b4b7413"
      },
      "execution_count": null,
      "outputs": [
        {
          "output_type": "execute_result",
          "data": {
            "text/plain": [
              "Text(47.24999999999999, 0.5, 'Segmentation Tools')"
            ]
          },
          "metadata": {},
          "execution_count": 36
        },
        {
          "output_type": "display_data",
          "data": {
            "text/plain": [
              "<Figure size 640x480 with 2 Axes>"
            ],
            "image/png": "[encoded data removed]"
          },
          "metadata": {}
        }
      ]
    },
    {
      "cell_type": "code",
      "source": [
        "def read_scores_from_csv(filename):\n",
        "  scores = pd.read_csv(filename, sep=',')\n",
        "  scores = scores.T\n",
        "  scores = list(scores.iloc[1])\n",
        "\n",
        "  return scores"
      ],
      "metadata": {
        "id": "LGXnoVs2CnpT"
      },
      "execution_count": null,
      "outputs": []
    },
    {
      "cell_type": "code",
      "source": [
        "print(read_scores_from_csv('dice_scores_list_Maper_reg_Snt.csv'))"
      ],
      "metadata": {
        "id": "HXimPUnaC7aF",
        "colab": {
          "base_uri": "https://localhost:8080/"
        },
        "outputId": "9470b31e-69cf-452b-9963-98781627b737"
      },
      "execution_count": null,
      "outputs": [
        {
          "output_type": "stream",
          "name": "stdout",
          "text": [
            "[0.6128682450750045, 0.5778904269838175, 0.5925798694606664, 0.5618076121531206, 0.5759360071103211, 0.5922848664688427, 0.5772798879747943, 0.6159554730983302, 0.5864453665283541, 0.5971097673465204, 0.5895048666948793, 0.6227045075125208, 0.5661842569714084, 0.5692709304493754, 0.5839960726558665, 0.4836261980830671, 0.5065083352363553, 0.5812923397602918, 0.6169096209912537, 0.5447177193963108, 0.5458756916741732, 0.4880014654698663, 0.5221776504297995, 0.585473091804432, 0.0133877551020408, 0.5154022988505748, 0.5069860279441117, 0.4464847189032826, 0.5956982203297303, 0.4696399785061795]\n"
          ]
        }
      ]
    },
    {
      "cell_type": "code",
      "source": [
        "# make dictionary of which reads in the previously computed and saved dice/jaccard scores for each patient as it takes really long to re-run the registering and score computing each time the \n",
        "# notebook is run \n",
        "\n",
        "dict_dice_scores_tools = {\n",
        "    'MAPER to SNT' : read_scores_from_csv('dice_scores_list_Maper_reg_Snt.csv'),\n",
        "    'FS to SNT' : read_scores_from_csv('dice_scores_list_FS_reg_Snt.csv'),\n",
        "    'MAPER to FS' : read_scores_from_csv('dice_scores_list_MAPER_reg_FS.csv'),\n",
        "    'SNT to FS' : read_scores_from_csv('dice_scores_list_SNT_reg_FS.csv'),\n",
        "    'SNT to MAPER' : read_scores_from_csv('dice_scores_list_SNT_reg_MAPER.csv'),\n",
        "    'FS to MAPER' : read_scores_from_csv('dice_scores_list_FS_reg_MAPER.csv'),\n",
        "}"
      ],
      "metadata": {
        "id": "XdHtG7TzZ94L"
      },
      "execution_count": null,
      "outputs": []
    },
    {
      "cell_type": "code",
      "source": [
        "df_dice_scores_stored = pd.DataFrame(dict_dice_scores_tools)\n",
        "display(df_dice_scores_stored)"
      ],
      "metadata": {
        "id": "JYaRGEQxSlXl",
        "colab": {
          "base_uri": "https://localhost:8080/",
          "height": 990
        },
        "outputId": "b4761d91-e445-4671-f26c-901788bb591d"
      },
      "execution_count": null,
      "outputs": [
        {
          "output_type": "display_data",
          "data": {
            "text/plain": [
              "    MAPER to SNT  FS to SNT  MAPER to FS  SNT to FS  SNT to MAPER  FS to MAPER\n",
              "0       0.612868   0.603307     0.700944   0.684081      0.660859     0.644141\n",
              "1       0.577890   0.463240     0.565323   0.558721      0.595157     0.440630\n",
              "2       0.592580   0.419504     0.553445   0.498811      0.634001     0.451672\n",
              "3       0.561808   0.620498     0.633423   0.686125      0.628788     0.622648\n",
              "4       0.575936   0.542792     0.703588   0.719247      0.612178     0.607705\n",
              "5       0.592285   0.418128     0.498937   0.446994      0.621368     0.438714\n",
              "6       0.577280   0.497554     0.539775   0.591310      0.583461     0.423366\n",
              "7       0.615955   0.430134     0.541462   0.520417      0.616082     0.372210\n",
              "8       0.586445   0.589966     0.692064   0.646801      0.657718     0.629208\n",
              "9       0.597110   0.520264     0.686178   0.644988      0.657046     0.597159\n",
              "10      0.589505   0.562225     0.724591   0.632054      0.585560     0.594007\n",
              "11      0.622705   0.579824     0.687805   0.749519      0.651872     0.579479\n",
              "12      0.566184   0.605510     0.647068   0.709303      0.627798     0.586588\n",
              "13      0.569271   0.614658     0.626284   0.691720      0.636618     0.628444\n",
              "14      0.583996   0.585214     0.701226   0.723848      0.647434     0.611649\n",
              "15      0.483626   0.422905     0.537757   0.366034      0.575199     0.494573\n",
              "16      0.506508   0.571994     0.602520   0.705285      0.646851     0.607666\n",
              "17      0.581292   0.459035     0.723548   0.590391      0.669607     0.615495\n",
              "18      0.616910   0.586406     0.685975   0.347381      0.655749     0.567439\n",
              "19      0.544718   0.515053     0.669555   0.527902      0.654764     0.538909\n",
              "20      0.545876   0.513083     0.653683   0.631133      0.610224     0.556023\n",
              "21      0.488001   0.426116     0.522895   0.505170      0.618259     0.471043\n",
              "22      0.522178   0.537820     0.590819   0.610676      0.631800     0.603576\n",
              "23      0.585473   0.597675     0.660998   0.668289      0.640597     0.613757\n",
              "24      0.013388   0.258401     0.548744   0.000000      0.159636     0.443972\n",
              "25      0.515402   0.391358     0.585020   0.512627      0.638508     0.416738\n",
              "26      0.506986   0.496703     0.593657   0.585344      0.612389     0.587435\n",
              "27      0.446485   0.497385     0.436688   0.625302      0.546460     0.488312\n",
              "28      0.595698   0.543347     0.754462   0.693138      0.702565     0.621125\n",
              "29      0.469640   0.503662     0.509076   0.625861      0.613672     0.554565"
            ],
            "text/html": [
              "\n",
              "  <div id=\"df-43ec5b4f-20f7-4f95-bb41-fab33002bfb2\">\n",
              "    <div class=\"colab-df-container\">\n",
              "      <div>\n",
              "<style scoped>\n",
              "    .dataframe tbody tr th:only-of-type {\n",
              "        vertical-align: middle;\n",
              "    }\n",
              "\n",
              "    .dataframe tbody tr th {\n",
              "        vertical-align: top;\n",
              "    }\n",
              "\n",
              "    .dataframe thead th {\n",
              "        text-align: right;\n",
              "    }\n",
              "</style>\n",
              "<table border=\"1\" class=\"dataframe\">\n",
              "  <thead>\n",
              "    <tr style=\"text-align: right;\">\n",
              "      <th></th>\n",
              "      <th>MAPER to SNT</th>\n",
              "      <th>FS to SNT</th>\n",
              "      <th>MAPER to FS</th>\n",
              "      <th>SNT to FS</th>\n",
              "      <th>SNT to MAPER</th>\n",
              "      <th>FS to MAPER</th>\n",
              "    </tr>\n",
              "  </thead>\n",
              "  <tbody>\n",
              "    <tr>\n",
              "      <th>0</th>\n",
              "      <td>0.612868</td>\n",
              "      <td>0.603307</td>\n",
              "      <td>0.700944</td>\n",
              "      <td>0.684081</td>\n",
              "      <td>0.660859</td>\n",
              "      <td>0.644141</td>\n",
              "    </tr>\n",
              "    <tr>\n",
              "      <th>1</th>\n",
              "      <td>0.577890</td>\n",
              "      <td>0.463240</td>\n",
              "      <td>0.565323</td>\n",
              "      <td>0.558721</td>\n",
              "      <td>0.595157</td>\n",
              "      <td>0.440630</td>\n",
              "    </tr>\n",
              "    <tr>\n",
              "      <th>2</th>\n",
              "      <td>0.592580</td>\n",
              "      <td>0.419504</td>\n",
              "      <td>0.553445</td>\n",
              "      <td>0.498811</td>\n",
              "      <td>0.634001</td>\n",
              "      <td>0.451672</td>\n",
              "    </tr>\n",
              "    <tr>\n",
              "      <th>3</th>\n",
              "      <td>0.561808</td>\n",
              "      <td>0.620498</td>\n",
              "      <td>0.633423</td>\n",
              "      <td>0.686125</td>\n",
              "      <td>0.628788</td>\n",
              "      <td>0.622648</td>\n",
              "    </tr>\n",
              "    <tr>\n",
              "      <th>4</th>\n",
              "      <td>0.575936</td>\n",
              "      <td>0.542792</td>\n",
              "      <td>0.703588</td>\n",
              "      <td>0.719247</td>\n",
              "      <td>0.612178</td>\n",
              "      <td>0.607705</td>\n",
              "    </tr>\n",
              "    <tr>\n",
              "      <th>5</th>\n",
              "      <td>0.592285</td>\n",
              "      <td>0.418128</td>\n",
              "      <td>0.498937</td>\n",
              "      <td>0.446994</td>\n",
              "      <td>0.621368</td>\n",
              "      <td>0.438714</td>\n",
              "    </tr>\n",
              "    <tr>\n",
              "      <th>6</th>\n",
              "      <td>0.577280</td>\n",
              "      <td>0.497554</td>\n",
              "      <td>0.539775</td>\n",
              "      <td>0.591310</td>\n",
              "      <td>0.583461</td>\n",
              "      <td>0.423366</td>\n",
              "    </tr>\n",
              "    <tr>\n",
              "      <th>7</th>\n",
              "      <td>0.615955</td>\n",
              "      <td>0.430134</td>\n",
              "      <td>0.541462</td>\n",
              "      <td>0.520417</td>\n",
              "      <td>0.616082</td>\n",
              "      <td>0.372210</td>\n",
              "    </tr>\n",
              "    <tr>\n",
              "      <th>8</th>\n",
              "      <td>0.586445</td>\n",
              "      <td>0.589966</td>\n",
              "      <td>0.692064</td>\n",
              "      <td>0.646801</td>\n",
              "      <td>0.657718</td>\n",
              "      <td>0.629208</td>\n",
              "    </tr>\n",
              "    <tr>\n",
              "      <th>9</th>\n",
              "      <td>0.597110</td>\n",
              "      <td>0.520264</td>\n",
              "      <td>0.686178</td>\n",
              "      <td>0.644988</td>\n",
              "      <td>0.657046</td>\n",
              "      <td>0.597159</td>\n",
              "    </tr>\n",
              "    <tr>\n",
              "      <th>10</th>\n",
              "      <td>0.589505</td>\n",
              "      <td>0.562225</td>\n",
              "      <td>0.724591</td>\n",
              "      <td>0.632054</td>\n",
              "      <td>0.585560</td>\n",
              "      <td>0.594007</td>\n",
              "    </tr>\n",
              "    <tr>\n",
              "      <th>11</th>\n",
              "      <td>0.622705</td>\n",
              "      <td>0.579824</td>\n",
              "      <td>0.687805</td>\n",
              "      <td>0.749519</td>\n",
              "      <td>0.651872</td>\n",
              "      <td>0.579479</td>\n",
              "    </tr>\n",
              "    <tr>\n",
              "      <th>12</th>\n",
              "      <td>0.566184</td>\n",
              "      <td>0.605510</td>\n",
              "      <td>0.647068</td>\n",
              "      <td>0.709303</td>\n",
              "      <td>0.627798</td>\n",
              "      <td>0.586588</td>\n",
              "    </tr>\n",
              "    <tr>\n",
              "      <th>13</th>\n",
              "      <td>0.569271</td>\n",
              "      <td>0.614658</td>\n",
              "      <td>0.626284</td>\n",
              "      <td>0.691720</td>\n",
              "      <td>0.636618</td>\n",
              "      <td>0.628444</td>\n",
              "    </tr>\n",
              "    <tr>\n",
              "      <th>14</th>\n",
              "      <td>0.583996</td>\n",
              "      <td>0.585214</td>\n",
              "      <td>0.701226</td>\n",
              "      <td>0.723848</td>\n",
              "      <td>0.647434</td>\n",
              "      <td>0.611649</td>\n",
              "    </tr>\n",
              "    <tr>\n",
              "      <th>15</th>\n",
              "      <td>0.483626</td>\n",
              "      <td>0.422905</td>\n",
              "      <td>0.537757</td>\n",
              "      <td>0.366034</td>\n",
              "      <td>0.575199</td>\n",
              "      <td>0.494573</td>\n",
              "    </tr>\n",
              "    <tr>\n",
              "      <th>16</th>\n",
              "      <td>0.506508</td>\n",
              "      <td>0.571994</td>\n",
              "      <td>0.602520</td>\n",
              "      <td>0.705285</td>\n",
              "      <td>0.646851</td>\n",
              "      <td>0.607666</td>\n",
              "    </tr>\n",
              "    <tr>\n",
              "      <th>17</th>\n",
              "      <td>0.581292</td>\n",
              "      <td>0.459035</td>\n",
              "      <td>0.723548</td>\n",
              "      <td>0.590391</td>\n",
              "      <td>0.669607</td>\n",
              "      <td>0.615495</td>\n",
              "    </tr>\n",
              "    <tr>\n",
              "      <th>18</th>\n",
              "      <td>0.616910</td>\n",
              "      <td>0.586406</td>\n",
              "      <td>0.685975</td>\n",
              "      <td>0.347381</td>\n",
              "      <td>0.655749</td>\n",
              "      <td>0.567439</td>\n",
              "    </tr>\n",
              "    <tr>\n",
              "      <th>19</th>\n",
              "      <td>0.544718</td>\n",
              "      <td>0.515053</td>\n",
              "      <td>0.669555</td>\n",
              "      <td>0.527902</td>\n",
              "      <td>0.654764</td>\n",
              "      <td>0.538909</td>\n",
              "    </tr>\n",
              "    <tr>\n",
              "      <th>20</th>\n",
              "      <td>0.545876</td>\n",
              "      <td>0.513083</td>\n",
              "      <td>0.653683</td>\n",
              "      <td>0.631133</td>\n",
              "      <td>0.610224</td>\n",
              "      <td>0.556023</td>\n",
              "    </tr>\n",
              "    <tr>\n",
              "      <th>21</th>\n",
              "      <td>0.488001</td>\n",
              "      <td>0.426116</td>\n",
              "      <td>0.522895</td>\n",
              "      <td>0.505170</td>\n",
              "      <td>0.618259</td>\n",
              "      <td>0.471043</td>\n",
              "    </tr>\n",
              "    <tr>\n",
              "      <th>22</th>\n",
              "      <td>0.522178</td>\n",
              "      <td>0.537820</td>\n",
              "      <td>0.590819</td>\n",
              "      <td>0.610676</td>\n",
              "      <td>0.631800</td>\n",
              "      <td>0.603576</td>\n",
              "    </tr>\n",
              "    <tr>\n",
              "      <th>23</th>\n",
              "      <td>0.585473</td>\n",
              "      <td>0.597675</td>\n",
              "      <td>0.660998</td>\n",
              "      <td>0.668289</td>\n",
              "      <td>0.640597</td>\n",
              "      <td>0.613757</td>\n",
              "    </tr>\n",
              "    <tr>\n",
              "      <th>24</th>\n",
              "      <td>0.013388</td>\n",
              "      <td>0.258401</td>\n",
              "      <td>0.548744</td>\n",
              "      <td>0.000000</td>\n",
              "      <td>0.159636</td>\n",
              "      <td>0.443972</td>\n",
              "    </tr>\n",
              "    <tr>\n",
              "      <th>25</th>\n",
              "      <td>0.515402</td>\n",
              "      <td>0.391358</td>\n",
              "      <td>0.585020</td>\n",
              "      <td>0.512627</td>\n",
              "      <td>0.638508</td>\n",
              "      <td>0.416738</td>\n",
              "    </tr>\n",
              "    <tr>\n",
              "      <th>26</th>\n",
              "      <td>0.506986</td>\n",
              "      <td>0.496703</td>\n",
              "      <td>0.593657</td>\n",
              "      <td>0.585344</td>\n",
              "      <td>0.612389</td>\n",
              "      <td>0.587435</td>\n",
              "    </tr>\n",
              "    <tr>\n",
              "      <th>27</th>\n",
              "      <td>0.446485</td>\n",
              "      <td>0.497385</td>\n",
              "      <td>0.436688</td>\n",
              "      <td>0.625302</td>\n",
              "      <td>0.546460</td>\n",
              "      <td>0.488312</td>\n",
              "    </tr>\n",
              "    <tr>\n",
              "      <th>28</th>\n",
              "      <td>0.595698</td>\n",
              "      <td>0.543347</td>\n",
              "      <td>0.754462</td>\n",
              "      <td>0.693138</td>\n",
              "      <td>0.702565</td>\n",
              "      <td>0.621125</td>\n",
              "    </tr>\n",
              "    <tr>\n",
              "      <th>29</th>\n",
              "      <td>0.469640</td>\n",
              "      <td>0.503662</td>\n",
              "      <td>0.509076</td>\n",
              "      <td>0.625861</td>\n",
              "      <td>0.613672</td>\n",
              "      <td>0.554565</td>\n",
              "    </tr>\n",
              "  </tbody>\n",
              "</table>\n",
              "</div>\n",
              "      <button class=\"colab-df-convert\" onclick=\"convertToInteractive('df-43ec5b4f-20f7-4f95-bb41-fab33002bfb2')\"\n",
              "              title=\"Convert this dataframe to an interactive table.\"\n",
              "              style=\"display:none;\">\n",
              "        \n",
              "  <svg xmlns=\"http://www.w3.org/2000/svg\" height=\"24px\"viewBox=\"0 0 24 24\"\n",
              "       width=\"24px\">\n",
              "    <path d=\"M0 0h24v24H0V0z\" fill=\"none\"/>\n",
              "    <path d=\"M18.56 5.44l.94 2.06.94-2.06 2.06-.94-2.06-.94-.94-2.06-.94 2.06-2.06.94zm-11 1L8.5 8.5l.94-2.06 2.06-.94-2.06-.94L8.5 2.5l-.94 2.06-2.06.94zm10 10l.94 2.06.94-2.06 2.06-.94-2.06-.94-.94-2.06-.94 2.06-2.06.94z\"/><path d=\"M17.41 7.96l-1.37-1.37c-.4-.4-.92-.59-1.43-.59-.52 0-1.04.2-1.43.59L10.3 9.45l-7.72 7.72c-.78.78-.78 2.05 0 2.83L4 21.41c.39.39.9.59 1.41.59.51 0 1.02-.2 1.41-.59l7.78-7.78 2.81-2.81c.8-.78.8-2.07 0-2.86zM5.41 20L4 18.59l7.72-7.72 1.47 1.35L5.41 20z\"/>\n",
              "  </svg>\n",
              "      </button>\n",
              "      \n",
              "  <style>\n",
              "    .colab-df-container {\n",
              "      display:flex;\n",
              "      flex-wrap:wrap;\n",
              "      gap: 12px;\n",
              "    }\n",
              "\n",
              "    .colab-df-convert {\n",
              "      background-color: #E8F0FE;\n",
              "      border: none;\n",
              "      border-radius: 50%;\n",
              "      cursor: pointer;\n",
              "      display: none;\n",
              "      fill: #1967D2;\n",
              "      height: 32px;\n",
              "      padding: 0 0 0 0;\n",
              "      width: 32px;\n",
              "    }\n",
              "\n",
              "    .colab-df-convert:hover {\n",
              "      background-color: #E2EBFA;\n",
              "      box-shadow: 0px 1px 2px rgba(60, 64, 67, 0.3), 0px 1px 3px 1px rgba(60, 64, 67, 0.15);\n",
              "      fill: #174EA6;\n",
              "    }\n",
              "\n",
              "    [theme=dark] .colab-df-convert {\n",
              "      background-color: #3B4455;\n",
              "      fill: #D2E3FC;\n",
              "    }\n",
              "\n",
              "    [theme=dark] .colab-df-convert:hover {\n",
              "      background-color: #434B5C;\n",
              "      box-shadow: 0px 1px 3px 1px rgba(0, 0, 0, 0.15);\n",
              "      filter: drop-shadow(0px 1px 2px rgba(0, 0, 0, 0.3));\n",
              "      fill: #FFFFFF;\n",
              "    }\n",
              "  </style>\n",
              "\n",
              "      <script>\n",
              "        const buttonEl =\n",
              "          document.querySelector('#df-43ec5b4f-20f7-4f95-bb41-fab33002bfb2 button.colab-df-convert');\n",
              "        buttonEl.style.display =\n",
              "          google.colab.kernel.accessAllowed ? 'block' : 'none';\n",
              "\n",
              "        async function convertToInteractive(key) {\n",
              "          const element = document.querySelector('#df-43ec5b4f-20f7-4f95-bb41-fab33002bfb2');\n",
              "          const dataTable =\n",
              "            await google.colab.kernel.invokeFunction('convertToInteractive',\n",
              "                                                     [key], {});\n",
              "          if (!dataTable) return;\n",
              "\n",
              "          const docLinkHtml = 'Like what you see? Visit the ' +\n",
              "            '<a target=\"_blank\" href=https://colab.research.google.com/notebooks/data_table.ipynb>data table notebook</a>'\n",
              "            + ' to learn more about interactive tables.';\n",
              "          element.innerHTML = '';\n",
              "          dataTable['output_type'] = 'display_data';\n",
              "          await google.colab.output.renderOutput(dataTable, element);\n",
              "          const docLink = document.createElement('div');\n",
              "          docLink.innerHTML = docLinkHtml;\n",
              "          element.appendChild(docLink);\n",
              "        }\n",
              "      </script>\n",
              "    </div>\n",
              "  </div>\n",
              "  "
            ]
          },
          "metadata": {}
        }
      ]
    },
    {
      "cell_type": "code",
      "source": [
        "yaxis_labels = list(df_dice_scores_stored.columns)"
      ],
      "metadata": {
        "id": "HZsxSiyITniN"
      },
      "execution_count": null,
      "outputs": []
    },
    {
      "cell_type": "code",
      "source": [
        "ax = sns.heatmap(df_dice_scores_stored.T, xticklabels=diagnosis_ids.columns, yticklabels=yaxis_labels, vmin=0.2 )\n",
        "ax.set_xticklabels(ax.get_xmajorticklabels(), fontsize = 7)\n",
        "ax.set_yticklabels(ax.get_ymajorticklabels(), fontsize = 8)\n",
        "\n",
        "for i, ticklabel in enumerate(ax.xaxis.get_majorticklabels()):\n",
        "    ticklabel.set_color(tick_colors_list[i])\n",
        "\n",
        "ax.set_title('Dice Similarity Coefficient', fontsize=15)\n",
        "ax.tick_params(axis='both', which='major', pad=5)\n",
        "ax.set_xlabel('Patient IDs - CN, MCI, AD', fontsize=12)\n",
        "ax.set_ylabel('Segmentation Tools', fontsize=12)\n",
        "\n",
        "plt.show()"
      ],
      "metadata": {
        "id": "4kHv2spAETmI",
        "colab": {
          "base_uri": "https://localhost:8080/",
          "height": 529
        },
        "outputId": "19120970-e524-4a82-d19b-6fcb1ac86ba7"
      },
      "execution_count": null,
      "outputs": [
        {
          "output_type": "display_data",
          "data": {
            "text/plain": [
              "<Figure size 640x480 with 2 Axes>"
            ],
            "image/png": "[encoded data removed]"
          },
          "metadata": {}
        }
      ]
    },
    {
      "cell_type": "markdown",
      "source": [
        "End."
      ],
      "metadata": {
        "id": "SMCwAGyDJHkx"
      }
    }
  ]
}